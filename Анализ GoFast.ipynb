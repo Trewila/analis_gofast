{
 "cells": [
  {
   "cell_type": "markdown",
   "id": "65d22fcd",
   "metadata": {},
   "source": [
    "# Анализ сервиса аренды самокатов GoFast"
   ]
  },
  {
   "cell_type": "markdown",
   "id": "c496cf0a",
   "metadata": {},
   "source": [
    "Заказчик - сервис аренды самокатов GoFast. Нам передали данные о некоторых пользователях из нескольких городов, а также об их поездках.\n",
    "\n",
    "**Цель исследования:**\n",
    "\n",
    "Существует теория, что данных присутствуют определенные закономерности, которые могут влиять на работу сервиса в целом.\n",
    "\n",
    "\n",
    "**Ход исследования**\n",
    "\n",
    "Данные получим из файлов:\n",
    "\n",
    "/datasets/users_go.csv - пользователи     \n",
    "/datasets/rides_go.csv - поездки     \n",
    "/datasets/subscriptions_go.csv - подписки\n",
    "\n",
    "На первом этапе требуется оценить их качество, поэтому проведем обзор данных. Затем исправим возможные ошибки, а после перейдем к поиску закономерностей, необходимых для решения поставленной задачи."
   ]
  },
  {
   "cell_type": "markdown",
   "id": "cb3b5a45",
   "metadata": {},
   "source": [
    "**Оглавление**\n",
    "\n",
    "1. [Описание данных](#1) \n",
    "2. [Загрузка данных](#2) \n",
    "3. [Предобработка данных](#3)\n",
    "4. [Исследовательский анализ данных](#4)\n",
    "    1. [Частота встречаемости городов](#5) \n",
    "    1. [Соотношение пользователей с подпиской и без подписки](#6)\n",
    "    1. [Возраст пользователей](#7)\n",
    "    1. [Расстояние, которое пользователь преодолел за одну поездку](#8)\n",
    "    1. [Продолжительность поездок](#9)\n",
    "    \n",
    "1. [Объединение данных](#10)\n",
    "1. [Подсчёт выручки](#12)\n",
    "1. [Проверка гипотез](#13)\n",
    "    1. [Гипотеза 1](#14)\n",
    "    1. [Гипотеза 2](#15)\n",
    "    1. [Гипотеза 3](#16)\n",
    "    \n",
    "1. [Выводы](#18)"
   ]
  },
  {
   "cell_type": "markdown",
   "id": "9229ab78",
   "metadata": {},
   "source": [
    "<a id=\"1\"></a>\n",
    "## Описание данных"
   ]
  },
  {
   "cell_type": "markdown",
   "id": "57ffa1a3",
   "metadata": {},
   "source": [
    "В основных данных есть информация о пользователях, их поездках и подписках.\n",
    "#### Пользователи — /datasets/users_go.csv\n",
    "- user_id\tуникальный идентификатор пользователя\n",
    "- name\tимя пользователя\n",
    "- age\tвозраст\n",
    "- city\tгород\n",
    "- subscription_type\tтип подписки (free, ultra)\n",
    "\n",
    "#### Поездки — /datasets/rides_go.csv\n",
    "- user_id\tуникальный идентификатор пользователя\n",
    "- distance\tрасстояние, которое пользователь проехал в текущей сессии (в метрах)\n",
    "- duration\tпродолжительность сессии (в минутах) — время с того момента, как пользователь нажал кнопку «Начать поездку» до момента, как он нажал кнопку «Завершить поездку»\n",
    "- date\tдата совершения поездки\n",
    "\n",
    "#### Подписки — /datasets/subscriptions_go.csv\n",
    "- subscription_type\tтип подписки\n",
    "- minute_price\tстоимость одной минуты поездки по данной подписке\n",
    "- start_ride_price\tстоимость начала поездки\n",
    "- subscription_fee\tстоимость ежемесячного платежа"
   ]
  },
  {
   "cell_type": "code",
   "execution_count": 42,
   "id": "a65eb164",
   "metadata": {},
   "outputs": [
    {
     "name": "stdout",
     "output_type": "stream",
     "text": [
      "Requirement already satisfied: cufflinks in /opt/conda/lib/python3.9/site-packages (0.17.3)\n",
      "Requirement already satisfied: plotly in /opt/conda/lib/python3.9/site-packages (5.4.0)\n",
      "Requirement already satisfied: colorlover>=0.2.1 in /opt/conda/lib/python3.9/site-packages (from cufflinks) (0.3.0)\n",
      "Requirement already satisfied: setuptools>=34.4.1 in /opt/conda/lib/python3.9/site-packages (from cufflinks) (49.6.0.post20210108)\n",
      "Requirement already satisfied: ipython>=5.3.0 in /opt/conda/lib/python3.9/site-packages (from cufflinks) (7.25.0)\n",
      "Requirement already satisfied: ipywidgets>=7.0.0 in /opt/conda/lib/python3.9/site-packages (from cufflinks) (7.6.3)\n",
      "Requirement already satisfied: pandas>=0.19.2 in /opt/conda/lib/python3.9/site-packages (from cufflinks) (1.2.4)\n",
      "Requirement already satisfied: numpy>=1.9.2 in /opt/conda/lib/python3.9/site-packages (from cufflinks) (1.21.1)\n",
      "Requirement already satisfied: six>=1.9.0 in /opt/conda/lib/python3.9/site-packages (from cufflinks) (1.16.0)\n",
      "Requirement already satisfied: tenacity>=6.2.0 in /opt/conda/lib/python3.9/site-packages (from plotly) (8.0.1)\n",
      "Requirement already satisfied: pygments in /opt/conda/lib/python3.9/site-packages (from ipython>=5.3.0->cufflinks) (2.9.0)\n",
      "Requirement already satisfied: prompt-toolkit!=3.0.0,!=3.0.1,<3.1.0,>=2.0.0 in /opt/conda/lib/python3.9/site-packages (from ipython>=5.3.0->cufflinks) (3.0.19)\n",
      "Requirement already satisfied: matplotlib-inline in /opt/conda/lib/python3.9/site-packages (from ipython>=5.3.0->cufflinks) (0.1.2)\n",
      "Requirement already satisfied: pexpect>4.3 in /opt/conda/lib/python3.9/site-packages (from ipython>=5.3.0->cufflinks) (4.8.0)\n",
      "Requirement already satisfied: jedi>=0.16 in /opt/conda/lib/python3.9/site-packages (from ipython>=5.3.0->cufflinks) (0.18.0)\n",
      "Requirement already satisfied: traitlets>=4.2 in /opt/conda/lib/python3.9/site-packages (from ipython>=5.3.0->cufflinks) (5.0.5)\n",
      "Requirement already satisfied: backcall in /opt/conda/lib/python3.9/site-packages (from ipython>=5.3.0->cufflinks) (0.2.0)\n",
      "Requirement already satisfied: pickleshare in /opt/conda/lib/python3.9/site-packages (from ipython>=5.3.0->cufflinks) (0.7.5)\n",
      "Requirement already satisfied: decorator in /opt/conda/lib/python3.9/site-packages (from ipython>=5.3.0->cufflinks) (5.0.9)\n",
      "Requirement already satisfied: jupyterlab-widgets>=1.0.0 in /opt/conda/lib/python3.9/site-packages (from ipywidgets>=7.0.0->cufflinks) (3.0.2)\n",
      "Requirement already satisfied: ipykernel>=4.5.1 in /opt/conda/lib/python3.9/site-packages (from ipywidgets>=7.0.0->cufflinks) (6.0.1)\n",
      "Requirement already satisfied: nbformat>=4.2.0 in /opt/conda/lib/python3.9/site-packages (from ipywidgets>=7.0.0->cufflinks) (5.1.3)\n",
      "Requirement already satisfied: widgetsnbextension~=3.5.0 in /opt/conda/lib/python3.9/site-packages (from ipywidgets>=7.0.0->cufflinks) (3.5.2)\n",
      "Requirement already satisfied: tornado>=4.2 in /opt/conda/lib/python3.9/site-packages (from ipykernel>=4.5.1->ipywidgets>=7.0.0->cufflinks) (6.1)\n",
      "Requirement already satisfied: debugpy>=1.0.0 in /opt/conda/lib/python3.9/site-packages (from ipykernel>=4.5.1->ipywidgets>=7.0.0->cufflinks) (1.3.0)\n",
      "Requirement already satisfied: jupyter-client in /opt/conda/lib/python3.9/site-packages (from ipykernel>=4.5.1->ipywidgets>=7.0.0->cufflinks) (6.1.12)\n",
      "Requirement already satisfied: parso<0.9.0,>=0.8.0 in /opt/conda/lib/python3.9/site-packages (from jedi>=0.16->ipython>=5.3.0->cufflinks) (0.8.2)\n",
      "Requirement already satisfied: jupyter-core in /opt/conda/lib/python3.9/site-packages (from nbformat>=4.2.0->ipywidgets>=7.0.0->cufflinks) (4.7.1)\n",
      "Requirement already satisfied: ipython-genutils in /opt/conda/lib/python3.9/site-packages (from nbformat>=4.2.0->ipywidgets>=7.0.0->cufflinks) (0.2.0)\n",
      "Requirement already satisfied: jsonschema!=2.5.0,>=2.4 in /opt/conda/lib/python3.9/site-packages (from nbformat>=4.2.0->ipywidgets>=7.0.0->cufflinks) (3.2.0)\n",
      "Requirement already satisfied: pyrsistent>=0.14.0 in /opt/conda/lib/python3.9/site-packages (from jsonschema!=2.5.0,>=2.4->nbformat>=4.2.0->ipywidgets>=7.0.0->cufflinks) (0.17.3)\n",
      "Requirement already satisfied: attrs>=17.4.0 in /opt/conda/lib/python3.9/site-packages (from jsonschema!=2.5.0,>=2.4->nbformat>=4.2.0->ipywidgets>=7.0.0->cufflinks) (21.2.0)\n",
      "Requirement already satisfied: python-dateutil>=2.7.3 in /opt/conda/lib/python3.9/site-packages (from pandas>=0.19.2->cufflinks) (2.8.1)\n",
      "Requirement already satisfied: pytz>=2017.3 in /opt/conda/lib/python3.9/site-packages (from pandas>=0.19.2->cufflinks) (2021.1)\n",
      "Requirement already satisfied: ptyprocess>=0.5 in /opt/conda/lib/python3.9/site-packages (from pexpect>4.3->ipython>=5.3.0->cufflinks) (0.7.0)\n",
      "Requirement already satisfied: wcwidth in /opt/conda/lib/python3.9/site-packages (from prompt-toolkit!=3.0.0,!=3.0.1,<3.1.0,>=2.0.0->ipython>=5.3.0->cufflinks) (0.2.5)\n",
      "Requirement already satisfied: notebook>=4.4.1 in /opt/conda/lib/python3.9/site-packages (from widgetsnbextension~=3.5.0->ipywidgets>=7.0.0->cufflinks) (6.4.0)\n",
      "Requirement already satisfied: nbconvert in /opt/conda/lib/python3.9/site-packages (from notebook>=4.4.1->widgetsnbextension~=3.5.0->ipywidgets>=7.0.0->cufflinks) (6.1.0)\n",
      "Requirement already satisfied: pyzmq>=17 in /opt/conda/lib/python3.9/site-packages (from notebook>=4.4.1->widgetsnbextension~=3.5.0->ipywidgets>=7.0.0->cufflinks) (22.1.0)\n",
      "Requirement already satisfied: jinja2 in /opt/conda/lib/python3.9/site-packages (from notebook>=4.4.1->widgetsnbextension~=3.5.0->ipywidgets>=7.0.0->cufflinks) (3.0.1)\n",
      "Requirement already satisfied: Send2Trash>=1.5.0 in /opt/conda/lib/python3.9/site-packages (from notebook>=4.4.1->widgetsnbextension~=3.5.0->ipywidgets>=7.0.0->cufflinks) (1.7.1)\n",
      "Requirement already satisfied: terminado>=0.8.3 in /opt/conda/lib/python3.9/site-packages (from notebook>=4.4.1->widgetsnbextension~=3.5.0->ipywidgets>=7.0.0->cufflinks) (0.10.1)\n",
      "Requirement already satisfied: prometheus-client in /opt/conda/lib/python3.9/site-packages (from notebook>=4.4.1->widgetsnbextension~=3.5.0->ipywidgets>=7.0.0->cufflinks) (0.11.0)\n",
      "Requirement already satisfied: argon2-cffi in /opt/conda/lib/python3.9/site-packages (from notebook>=4.4.1->widgetsnbextension~=3.5.0->ipywidgets>=7.0.0->cufflinks) (20.1.0)\n",
      "Requirement already satisfied: cffi>=1.0.0 in /opt/conda/lib/python3.9/site-packages (from argon2-cffi->notebook>=4.4.1->widgetsnbextension~=3.5.0->ipywidgets>=7.0.0->cufflinks) (1.14.5)\n",
      "Requirement already satisfied: pycparser in /opt/conda/lib/python3.9/site-packages (from cffi>=1.0.0->argon2-cffi->notebook>=4.4.1->widgetsnbextension~=3.5.0->ipywidgets>=7.0.0->cufflinks) (2.20)\n",
      "Requirement already satisfied: MarkupSafe>=2.0 in /opt/conda/lib/python3.9/site-packages (from jinja2->notebook>=4.4.1->widgetsnbextension~=3.5.0->ipywidgets>=7.0.0->cufflinks) (2.1.1)\n",
      "Requirement already satisfied: pandocfilters>=1.4.1 in /opt/conda/lib/python3.9/site-packages (from nbconvert->notebook>=4.4.1->widgetsnbextension~=3.5.0->ipywidgets>=7.0.0->cufflinks) (1.4.2)\n",
      "Requirement already satisfied: entrypoints>=0.2.2 in /opt/conda/lib/python3.9/site-packages (from nbconvert->notebook>=4.4.1->widgetsnbextension~=3.5.0->ipywidgets>=7.0.0->cufflinks) (0.3)\n",
      "Requirement already satisfied: nbclient<0.6.0,>=0.5.0 in /opt/conda/lib/python3.9/site-packages (from nbconvert->notebook>=4.4.1->widgetsnbextension~=3.5.0->ipywidgets>=7.0.0->cufflinks) (0.5.3)\n",
      "Requirement already satisfied: mistune<2,>=0.8.1 in /opt/conda/lib/python3.9/site-packages (from nbconvert->notebook>=4.4.1->widgetsnbextension~=3.5.0->ipywidgets>=7.0.0->cufflinks) (0.8.4)\n",
      "Requirement already satisfied: defusedxml in /opt/conda/lib/python3.9/site-packages (from nbconvert->notebook>=4.4.1->widgetsnbextension~=3.5.0->ipywidgets>=7.0.0->cufflinks) (0.7.1)\n",
      "Requirement already satisfied: bleach in /opt/conda/lib/python3.9/site-packages (from nbconvert->notebook>=4.4.1->widgetsnbextension~=3.5.0->ipywidgets>=7.0.0->cufflinks) (3.3.0)\n",
      "Requirement already satisfied: jupyterlab-pygments in /opt/conda/lib/python3.9/site-packages (from nbconvert->notebook>=4.4.1->widgetsnbextension~=3.5.0->ipywidgets>=7.0.0->cufflinks) (0.1.2)\n",
      "Requirement already satisfied: testpath in /opt/conda/lib/python3.9/site-packages (from nbconvert->notebook>=4.4.1->widgetsnbextension~=3.5.0->ipywidgets>=7.0.0->cufflinks) (0.5.0)\n",
      "Requirement already satisfied: async-generator in /opt/conda/lib/python3.9/site-packages (from nbclient<0.6.0,>=0.5.0->nbconvert->notebook>=4.4.1->widgetsnbextension~=3.5.0->ipywidgets>=7.0.0->cufflinks) (1.10)\n",
      "Requirement already satisfied: nest-asyncio in /opt/conda/lib/python3.9/site-packages (from nbclient<0.6.0,>=0.5.0->nbconvert->notebook>=4.4.1->widgetsnbextension~=3.5.0->ipywidgets>=7.0.0->cufflinks) (1.5.1)\n",
      "Requirement already satisfied: packaging in /opt/conda/lib/python3.9/site-packages (from bleach->nbconvert->notebook>=4.4.1->widgetsnbextension~=3.5.0->ipywidgets>=7.0.0->cufflinks) (21.3)\n",
      "Requirement already satisfied: webencodings in /opt/conda/lib/python3.9/site-packages (from bleach->nbconvert->notebook>=4.4.1->widgetsnbextension~=3.5.0->ipywidgets>=7.0.0->cufflinks) (0.5.1)\n",
      "Requirement already satisfied: pyparsing!=3.0.5,>=2.0.2 in /opt/conda/lib/python3.9/site-packages (from packaging->bleach->nbconvert->notebook>=4.4.1->widgetsnbextension~=3.5.0->ipywidgets>=7.0.0->cufflinks) (2.4.7)\n",
      "Note: you may need to restart the kernel to use updated packages.\n"
     ]
    }
   ],
   "source": [
    "pip install cufflinks plotly"
   ]
  },
  {
   "cell_type": "code",
   "execution_count": 43,
   "id": "72576667",
   "metadata": {},
   "outputs": [],
   "source": [
    "#импортируем библиотеки\n",
    "import folium\n",
    "import pandas as pd\n",
    "import numpy as np\n",
    "import matplotlib.pyplot as plt\n",
    "import plotly.express as px\n",
    "from plotly import graph_objects as go \n",
    "import seaborn as sns\n",
    "from scipy import stats as st\n",
    "pd.set_option('display.float_format', '{:,.2f}'.format)"
   ]
  },
  {
   "cell_type": "markdown",
   "id": "c42cbe00",
   "metadata": {},
   "source": [
    "<a id=\"2\"></a>\n",
    "## Загрузка данных"
   ]
  },
  {
   "cell_type": "code",
   "execution_count": 44,
   "id": "eff9f206",
   "metadata": {
    "scrolled": true
   },
   "outputs": [
    {
     "data": {
      "text/html": [
       "<div>\n",
       "<style scoped>\n",
       "    .dataframe tbody tr th:only-of-type {\n",
       "        vertical-align: middle;\n",
       "    }\n",
       "\n",
       "    .dataframe tbody tr th {\n",
       "        vertical-align: top;\n",
       "    }\n",
       "\n",
       "    .dataframe thead th {\n",
       "        text-align: right;\n",
       "    }\n",
       "</style>\n",
       "<table border=\"1\" class=\"dataframe\">\n",
       "  <thead>\n",
       "    <tr style=\"text-align: right;\">\n",
       "      <th></th>\n",
       "      <th>user_id</th>\n",
       "      <th>name</th>\n",
       "      <th>age</th>\n",
       "      <th>city</th>\n",
       "      <th>subscription_type</th>\n",
       "    </tr>\n",
       "  </thead>\n",
       "  <tbody>\n",
       "    <tr>\n",
       "      <th>0</th>\n",
       "      <td>1</td>\n",
       "      <td>Кира</td>\n",
       "      <td>22</td>\n",
       "      <td>Тюмень</td>\n",
       "      <td>ultra</td>\n",
       "    </tr>\n",
       "    <tr>\n",
       "      <th>1</th>\n",
       "      <td>2</td>\n",
       "      <td>Станислав</td>\n",
       "      <td>31</td>\n",
       "      <td>Омск</td>\n",
       "      <td>ultra</td>\n",
       "    </tr>\n",
       "    <tr>\n",
       "      <th>2</th>\n",
       "      <td>3</td>\n",
       "      <td>Алексей</td>\n",
       "      <td>20</td>\n",
       "      <td>Москва</td>\n",
       "      <td>ultra</td>\n",
       "    </tr>\n",
       "    <tr>\n",
       "      <th>3</th>\n",
       "      <td>4</td>\n",
       "      <td>Константин</td>\n",
       "      <td>26</td>\n",
       "      <td>Ростов-на-Дону</td>\n",
       "      <td>ultra</td>\n",
       "    </tr>\n",
       "    <tr>\n",
       "      <th>4</th>\n",
       "      <td>5</td>\n",
       "      <td>Адель</td>\n",
       "      <td>28</td>\n",
       "      <td>Омск</td>\n",
       "      <td>ultra</td>\n",
       "    </tr>\n",
       "  </tbody>\n",
       "</table>\n",
       "</div>"
      ],
      "text/plain": [
       "   user_id        name  age            city subscription_type\n",
       "0        1        Кира   22          Тюмень             ultra\n",
       "1        2   Станислав   31            Омск             ultra\n",
       "2        3     Алексей   20          Москва             ultra\n",
       "3        4  Константин   26  Ростов-на-Дону             ultra\n",
       "4        5       Адель   28            Омск             ultra"
      ]
     },
     "execution_count": 44,
     "metadata": {},
     "output_type": "execute_result"
    }
   ],
   "source": [
    "#прочитаем файл о пользователях\n",
    "data_user = pd.read_csv('/datasets/users_go.csv')\n",
    "data_user.head()"
   ]
  },
  {
   "cell_type": "code",
   "execution_count": 45,
   "id": "9816497a",
   "metadata": {
    "scrolled": false
   },
   "outputs": [
    {
     "name": "stdout",
     "output_type": "stream",
     "text": [
      "<class 'pandas.core.frame.DataFrame'>\n",
      "RangeIndex: 1565 entries, 0 to 1564\n",
      "Data columns (total 5 columns):\n",
      " #   Column             Non-Null Count  Dtype \n",
      "---  ------             --------------  ----- \n",
      " 0   user_id            1565 non-null   int64 \n",
      " 1   name               1565 non-null   object\n",
      " 2   age                1565 non-null   int64 \n",
      " 3   city               1565 non-null   object\n",
      " 4   subscription_type  1565 non-null   object\n",
      "dtypes: int64(2), object(3)\n",
      "memory usage: 61.3+ KB\n"
     ]
    }
   ],
   "source": [
    "data_user.info()"
   ]
  },
  {
   "cell_type": "code",
   "execution_count": 46,
   "id": "92070ebe",
   "metadata": {},
   "outputs": [
    {
     "data": {
      "text/plain": [
       "user_id              0\n",
       "name                 0\n",
       "age                  0\n",
       "city                 0\n",
       "subscription_type    0\n",
       "dtype: int64"
      ]
     },
     "execution_count": 46,
     "metadata": {},
     "output_type": "execute_result"
    }
   ],
   "source": [
    "#посчитаем пропуски\n",
    "data_user.isna().sum().sort_values()"
   ]
  },
  {
   "cell_type": "markdown",
   "id": "1c62a34f",
   "metadata": {},
   "source": [
    "В таблице о пользователях нет пропусков, типы данных выглядят корректно."
   ]
  },
  {
   "cell_type": "code",
   "execution_count": 47,
   "id": "574b179c",
   "metadata": {
    "scrolled": true
   },
   "outputs": [
    {
     "data": {
      "text/html": [
       "<div>\n",
       "<style scoped>\n",
       "    .dataframe tbody tr th:only-of-type {\n",
       "        vertical-align: middle;\n",
       "    }\n",
       "\n",
       "    .dataframe tbody tr th {\n",
       "        vertical-align: top;\n",
       "    }\n",
       "\n",
       "    .dataframe thead th {\n",
       "        text-align: right;\n",
       "    }\n",
       "</style>\n",
       "<table border=\"1\" class=\"dataframe\">\n",
       "  <thead>\n",
       "    <tr style=\"text-align: right;\">\n",
       "      <th></th>\n",
       "      <th>user_id</th>\n",
       "      <th>distance</th>\n",
       "      <th>duration</th>\n",
       "      <th>date</th>\n",
       "    </tr>\n",
       "  </thead>\n",
       "  <tbody>\n",
       "    <tr>\n",
       "      <th>0</th>\n",
       "      <td>1</td>\n",
       "      <td>4,409.92</td>\n",
       "      <td>25.60</td>\n",
       "      <td>2021-01-01</td>\n",
       "    </tr>\n",
       "    <tr>\n",
       "      <th>1</th>\n",
       "      <td>1</td>\n",
       "      <td>2,617.59</td>\n",
       "      <td>15.82</td>\n",
       "      <td>2021-01-18</td>\n",
       "    </tr>\n",
       "    <tr>\n",
       "      <th>2</th>\n",
       "      <td>1</td>\n",
       "      <td>754.16</td>\n",
       "      <td>6.23</td>\n",
       "      <td>2021-04-20</td>\n",
       "    </tr>\n",
       "    <tr>\n",
       "      <th>3</th>\n",
       "      <td>1</td>\n",
       "      <td>2,694.78</td>\n",
       "      <td>18.51</td>\n",
       "      <td>2021-08-11</td>\n",
       "    </tr>\n",
       "    <tr>\n",
       "      <th>4</th>\n",
       "      <td>1</td>\n",
       "      <td>4,028.69</td>\n",
       "      <td>26.27</td>\n",
       "      <td>2021-08-28</td>\n",
       "    </tr>\n",
       "  </tbody>\n",
       "</table>\n",
       "</div>"
      ],
      "text/plain": [
       "   user_id  distance  duration        date\n",
       "0        1  4,409.92     25.60  2021-01-01\n",
       "1        1  2,617.59     15.82  2021-01-18\n",
       "2        1    754.16      6.23  2021-04-20\n",
       "3        1  2,694.78     18.51  2021-08-11\n",
       "4        1  4,028.69     26.27  2021-08-28"
      ]
     },
     "execution_count": 47,
     "metadata": {},
     "output_type": "execute_result"
    }
   ],
   "source": [
    "#прочитаем файл о поездках\n",
    "data_go = pd.read_csv('/datasets/rides_go.csv')\n",
    "data_go.head()"
   ]
  },
  {
   "cell_type": "code",
   "execution_count": 48,
   "id": "38d89809",
   "metadata": {
    "scrolled": true
   },
   "outputs": [
    {
     "name": "stdout",
     "output_type": "stream",
     "text": [
      "<class 'pandas.core.frame.DataFrame'>\n",
      "RangeIndex: 18068 entries, 0 to 18067\n",
      "Data columns (total 4 columns):\n",
      " #   Column    Non-Null Count  Dtype  \n",
      "---  ------    --------------  -----  \n",
      " 0   user_id   18068 non-null  int64  \n",
      " 1   distance  18068 non-null  float64\n",
      " 2   duration  18068 non-null  float64\n",
      " 3   date      18068 non-null  object \n",
      "dtypes: float64(2), int64(1), object(1)\n",
      "memory usage: 564.8+ KB\n"
     ]
    }
   ],
   "source": [
    "data_go.info()"
   ]
  },
  {
   "cell_type": "code",
   "execution_count": 49,
   "id": "d8a52632",
   "metadata": {},
   "outputs": [
    {
     "data": {
      "text/plain": [
       "user_id     0\n",
       "distance    0\n",
       "duration    0\n",
       "date        0\n",
       "dtype: int64"
      ]
     },
     "execution_count": 49,
     "metadata": {},
     "output_type": "execute_result"
    }
   ],
   "source": [
    "#посчитаем пропуски\n",
    "data_go.isna().sum().sort_values()"
   ]
  },
  {
   "cell_type": "markdown",
   "id": "596f4462",
   "metadata": {},
   "source": [
    "В файле о поездках нет пропусков, но требуется преобразовать тип данных в колонке с датой."
   ]
  },
  {
   "cell_type": "code",
   "execution_count": 50,
   "id": "f1a84c08",
   "metadata": {
    "scrolled": true
   },
   "outputs": [
    {
     "data": {
      "text/html": [
       "<div>\n",
       "<style scoped>\n",
       "    .dataframe tbody tr th:only-of-type {\n",
       "        vertical-align: middle;\n",
       "    }\n",
       "\n",
       "    .dataframe tbody tr th {\n",
       "        vertical-align: top;\n",
       "    }\n",
       "\n",
       "    .dataframe thead th {\n",
       "        text-align: right;\n",
       "    }\n",
       "</style>\n",
       "<table border=\"1\" class=\"dataframe\">\n",
       "  <thead>\n",
       "    <tr style=\"text-align: right;\">\n",
       "      <th></th>\n",
       "      <th>subscription_type</th>\n",
       "      <th>minute_price</th>\n",
       "      <th>start_ride_price</th>\n",
       "      <th>subscription_fee</th>\n",
       "    </tr>\n",
       "  </thead>\n",
       "  <tbody>\n",
       "    <tr>\n",
       "      <th>0</th>\n",
       "      <td>free</td>\n",
       "      <td>8</td>\n",
       "      <td>50</td>\n",
       "      <td>0</td>\n",
       "    </tr>\n",
       "    <tr>\n",
       "      <th>1</th>\n",
       "      <td>ultra</td>\n",
       "      <td>6</td>\n",
       "      <td>0</td>\n",
       "      <td>199</td>\n",
       "    </tr>\n",
       "  </tbody>\n",
       "</table>\n",
       "</div>"
      ],
      "text/plain": [
       "  subscription_type  minute_price  start_ride_price  subscription_fee\n",
       "0              free             8                50                 0\n",
       "1             ultra             6                 0               199"
      ]
     },
     "execution_count": 50,
     "metadata": {},
     "output_type": "execute_result"
    }
   ],
   "source": [
    "#прочитаем файл о поездках\n",
    "data_sub = pd.read_csv('/datasets/subscriptions_go.csv')\n",
    "data_sub.head()"
   ]
  },
  {
   "cell_type": "code",
   "execution_count": 51,
   "id": "3ab5db6e",
   "metadata": {
    "scrolled": true
   },
   "outputs": [
    {
     "name": "stdout",
     "output_type": "stream",
     "text": [
      "<class 'pandas.core.frame.DataFrame'>\n",
      "RangeIndex: 2 entries, 0 to 1\n",
      "Data columns (total 4 columns):\n",
      " #   Column             Non-Null Count  Dtype \n",
      "---  ------             --------------  ----- \n",
      " 0   subscription_type  2 non-null      object\n",
      " 1   minute_price       2 non-null      int64 \n",
      " 2   start_ride_price   2 non-null      int64 \n",
      " 3   subscription_fee   2 non-null      int64 \n",
      "dtypes: int64(3), object(1)\n",
      "memory usage: 192.0+ bytes\n"
     ]
    }
   ],
   "source": [
    "data_sub.info()"
   ]
  },
  {
   "cell_type": "markdown",
   "id": "ba6fa279",
   "metadata": {},
   "source": [
    "В последнем файле в двух строках хранится информация о стоимости по каждому тарифу проката самокатов."
   ]
  },
  {
   "cell_type": "markdown",
   "id": "679a95c9",
   "metadata": {},
   "source": [
    "Подытог: в данных нет пропусков, следует изменить тип колонки с датой."
   ]
  },
  {
   "cell_type": "markdown",
   "id": "e95ebca7",
   "metadata": {},
   "source": [
    "<a id=\"3\"></a>\n",
    "### Предобработка данных"
   ]
  },
  {
   "cell_type": "code",
   "execution_count": 52,
   "id": "af6d202c",
   "metadata": {
    "scrolled": false
   },
   "outputs": [
    {
     "data": {
      "text/html": [
       "<div>\n",
       "<style scoped>\n",
       "    .dataframe tbody tr th:only-of-type {\n",
       "        vertical-align: middle;\n",
       "    }\n",
       "\n",
       "    .dataframe tbody tr th {\n",
       "        vertical-align: top;\n",
       "    }\n",
       "\n",
       "    .dataframe thead th {\n",
       "        text-align: right;\n",
       "    }\n",
       "</style>\n",
       "<table border=\"1\" class=\"dataframe\">\n",
       "  <thead>\n",
       "    <tr style=\"text-align: right;\">\n",
       "      <th></th>\n",
       "      <th>user_id</th>\n",
       "      <th>distance</th>\n",
       "      <th>duration</th>\n",
       "      <th>date</th>\n",
       "      <th>month</th>\n",
       "    </tr>\n",
       "  </thead>\n",
       "  <tbody>\n",
       "    <tr>\n",
       "      <th>0</th>\n",
       "      <td>1</td>\n",
       "      <td>4,409.92</td>\n",
       "      <td>25.60</td>\n",
       "      <td>2021-01-01</td>\n",
       "      <td>1</td>\n",
       "    </tr>\n",
       "    <tr>\n",
       "      <th>1</th>\n",
       "      <td>1</td>\n",
       "      <td>2,617.59</td>\n",
       "      <td>15.82</td>\n",
       "      <td>2021-01-18</td>\n",
       "      <td>1</td>\n",
       "    </tr>\n",
       "    <tr>\n",
       "      <th>2</th>\n",
       "      <td>1</td>\n",
       "      <td>754.16</td>\n",
       "      <td>6.23</td>\n",
       "      <td>2021-04-20</td>\n",
       "      <td>4</td>\n",
       "    </tr>\n",
       "    <tr>\n",
       "      <th>3</th>\n",
       "      <td>1</td>\n",
       "      <td>2,694.78</td>\n",
       "      <td>18.51</td>\n",
       "      <td>2021-08-11</td>\n",
       "      <td>8</td>\n",
       "    </tr>\n",
       "    <tr>\n",
       "      <th>4</th>\n",
       "      <td>1</td>\n",
       "      <td>4,028.69</td>\n",
       "      <td>26.27</td>\n",
       "      <td>2021-08-28</td>\n",
       "      <td>8</td>\n",
       "    </tr>\n",
       "  </tbody>\n",
       "</table>\n",
       "</div>"
      ],
      "text/plain": [
       "   user_id  distance  duration       date  month\n",
       "0        1  4,409.92     25.60 2021-01-01      1\n",
       "1        1  2,617.59     15.82 2021-01-18      1\n",
       "2        1    754.16      6.23 2021-04-20      4\n",
       "3        1  2,694.78     18.51 2021-08-11      8\n",
       "4        1  4,028.69     26.27 2021-08-28      8"
      ]
     },
     "execution_count": 52,
     "metadata": {},
     "output_type": "execute_result"
    }
   ],
   "source": [
    "#приведем столбец даты к нужному формату\n",
    "data_go['date'] = pd.to_datetime(data_go['date'])\n",
    "#создадим новый столбец с номером месяца\n",
    "data_go['month'] = data_go['date'].dt.month\n",
    "data_go.head()"
   ]
  },
  {
   "cell_type": "code",
   "execution_count": 53,
   "id": "04d0b93d",
   "metadata": {
    "scrolled": true
   },
   "outputs": [
    {
     "name": "stdout",
     "output_type": "stream",
     "text": [
      "31\n"
     ]
    },
    {
     "data": {
      "text/plain": [
       "0"
      ]
     },
     "execution_count": 53,
     "metadata": {},
     "output_type": "execute_result"
    }
   ],
   "source": [
    "#проверим датафреймы на явные дубликаты\n",
    "print(data_user.duplicated().sum())\n",
    "data_go.duplicated().sum()"
   ]
  },
  {
   "cell_type": "markdown",
   "id": "8a61fbe7",
   "metadata": {},
   "source": [
    "В файле с пользователями присутсвуют явные дубли, удалим поторения, оставив первые записи, чтобы не исключить пользователей полностью."
   ]
  },
  {
   "cell_type": "code",
   "execution_count": 54,
   "id": "eafd67d2",
   "metadata": {
    "scrolled": true
   },
   "outputs": [
    {
     "data": {
      "text/plain": [
       "0"
      ]
     },
     "execution_count": 54,
     "metadata": {},
     "output_type": "execute_result"
    }
   ],
   "source": [
    "data_user.drop_duplicates(keep='first', inplace=True)\n",
    "data_user.duplicated().sum()"
   ]
  },
  {
   "cell_type": "markdown",
   "id": "213936a1",
   "metadata": {},
   "source": [
    "Подытог: в колонке с пользователями мы удалили повторяющиеся значения профилей. Таким образом избавились от явных дубликатов. Также создали новую колонку с номером месяца поездки на самокате."
   ]
  },
  {
   "cell_type": "code",
   "execution_count": 55,
   "id": "18d00e46",
   "metadata": {
    "scrolled": true
   },
   "outputs": [
    {
     "data": {
      "text/plain": [
       "count                            18068\n",
       "mean     2021-06-30 19:47:21.266327296\n",
       "min                2021-01-01 00:00:00\n",
       "25%                2021-04-02 00:00:00\n",
       "50%                2021-06-30 00:00:00\n",
       "75%                2021-09-28 00:00:00\n",
       "max                2021-12-30 00:00:00\n",
       "Name: date, dtype: object"
      ]
     },
     "execution_count": 55,
     "metadata": {},
     "output_type": "execute_result"
    }
   ],
   "source": [
    "#проверим период данных\n",
    "data_go['date'].describe(datetime_is_numeric=True)"
   ]
  },
  {
   "cell_type": "code",
   "execution_count": 56,
   "id": "711cf26b",
   "metadata": {},
   "outputs": [
    {
     "data": {
      "text/html": [
       "<div>\n",
       "<style scoped>\n",
       "    .dataframe tbody tr th:only-of-type {\n",
       "        vertical-align: middle;\n",
       "    }\n",
       "\n",
       "    .dataframe tbody tr th {\n",
       "        vertical-align: top;\n",
       "    }\n",
       "\n",
       "    .dataframe thead th {\n",
       "        text-align: right;\n",
       "    }\n",
       "</style>\n",
       "<table border=\"1\" class=\"dataframe\">\n",
       "  <thead>\n",
       "    <tr style=\"text-align: right;\">\n",
       "      <th></th>\n",
       "      <th>user_id</th>\n",
       "      <th>distance</th>\n",
       "      <th>duration</th>\n",
       "      <th>date</th>\n",
       "      <th>month</th>\n",
       "    </tr>\n",
       "  </thead>\n",
       "  <tbody>\n",
       "    <tr>\n",
       "      <th>0</th>\n",
       "      <td>1</td>\n",
       "      <td>4410</td>\n",
       "      <td>26</td>\n",
       "      <td>2021-01-01</td>\n",
       "      <td>1</td>\n",
       "    </tr>\n",
       "    <tr>\n",
       "      <th>1</th>\n",
       "      <td>1</td>\n",
       "      <td>2618</td>\n",
       "      <td>16</td>\n",
       "      <td>2021-01-18</td>\n",
       "      <td>1</td>\n",
       "    </tr>\n",
       "    <tr>\n",
       "      <th>2</th>\n",
       "      <td>1</td>\n",
       "      <td>754</td>\n",
       "      <td>6</td>\n",
       "      <td>2021-04-20</td>\n",
       "      <td>4</td>\n",
       "    </tr>\n",
       "    <tr>\n",
       "      <th>3</th>\n",
       "      <td>1</td>\n",
       "      <td>2695</td>\n",
       "      <td>19</td>\n",
       "      <td>2021-08-11</td>\n",
       "      <td>8</td>\n",
       "    </tr>\n",
       "    <tr>\n",
       "      <th>4</th>\n",
       "      <td>1</td>\n",
       "      <td>4029</td>\n",
       "      <td>26</td>\n",
       "      <td>2021-08-28</td>\n",
       "      <td>8</td>\n",
       "    </tr>\n",
       "  </tbody>\n",
       "</table>\n",
       "</div>"
      ],
      "text/plain": [
       "   user_id  distance  duration       date  month\n",
       "0        1      4410        26 2021-01-01      1\n",
       "1        1      2618        16 2021-01-18      1\n",
       "2        1       754         6 2021-04-20      4\n",
       "3        1      2695        19 2021-08-11      8\n",
       "4        1      4029        26 2021-08-28      8"
      ]
     },
     "execution_count": 56,
     "metadata": {},
     "output_type": "execute_result"
    }
   ],
   "source": [
    "#округлим значения дистанции и времени поездок на самокатах\n",
    "data_go['duration'] = round(data_go['duration'], 0).astype('int64')\n",
    "data_go['distance'] = round(data_go['distance'], 0).astype('int64')\n",
    "data_go.head()"
   ]
  },
  {
   "cell_type": "markdown",
   "id": "edc799c6",
   "metadata": {},
   "source": [
    "В нашей выгрузке данные за один гор с 1 января 2021 по 30 декабря 2021 года, что не вызовет проблемы при агрегации по месяцам."
   ]
  },
  {
   "cell_type": "markdown",
   "id": "212593c7",
   "metadata": {},
   "source": [
    "<a id=\"4\"></a>\n",
    "## Исследовательский анализ данных"
   ]
  },
  {
   "cell_type": "markdown",
   "id": "5e8df141",
   "metadata": {},
   "source": [
    "<a id=\"5\"></a>\n",
    "#### Частота встречаемости городов"
   ]
  },
  {
   "cell_type": "code",
   "execution_count": 57,
   "id": "d6a9f187",
   "metadata": {
    "scrolled": true
   },
   "outputs": [
    {
     "data": {
      "text/html": [
       "<div>\n",
       "<style scoped>\n",
       "    .dataframe tbody tr th:only-of-type {\n",
       "        vertical-align: middle;\n",
       "    }\n",
       "\n",
       "    .dataframe tbody tr th {\n",
       "        vertical-align: top;\n",
       "    }\n",
       "\n",
       "    .dataframe thead th {\n",
       "        text-align: right;\n",
       "    }\n",
       "</style>\n",
       "<table border=\"1\" class=\"dataframe\">\n",
       "  <thead>\n",
       "    <tr style=\"text-align: right;\">\n",
       "      <th></th>\n",
       "      <th>user_id</th>\n",
       "      <th>name</th>\n",
       "      <th>age</th>\n",
       "      <th>subscription_type</th>\n",
       "      <th>proc</th>\n",
       "    </tr>\n",
       "    <tr>\n",
       "      <th>city</th>\n",
       "      <th></th>\n",
       "      <th></th>\n",
       "      <th></th>\n",
       "      <th></th>\n",
       "      <th></th>\n",
       "    </tr>\n",
       "  </thead>\n",
       "  <tbody>\n",
       "    <tr>\n",
       "      <th>Пятигорск</th>\n",
       "      <td>219</td>\n",
       "      <td>219</td>\n",
       "      <td>219</td>\n",
       "      <td>219</td>\n",
       "      <td>14.28</td>\n",
       "    </tr>\n",
       "    <tr>\n",
       "      <th>Екатеринбург</th>\n",
       "      <td>204</td>\n",
       "      <td>204</td>\n",
       "      <td>204</td>\n",
       "      <td>204</td>\n",
       "      <td>13.30</td>\n",
       "    </tr>\n",
       "    <tr>\n",
       "      <th>Ростов-на-Дону</th>\n",
       "      <td>198</td>\n",
       "      <td>198</td>\n",
       "      <td>198</td>\n",
       "      <td>198</td>\n",
       "      <td>12.91</td>\n",
       "    </tr>\n",
       "    <tr>\n",
       "      <th>Краснодар</th>\n",
       "      <td>193</td>\n",
       "      <td>193</td>\n",
       "      <td>193</td>\n",
       "      <td>193</td>\n",
       "      <td>12.58</td>\n",
       "    </tr>\n",
       "    <tr>\n",
       "      <th>Сочи</th>\n",
       "      <td>189</td>\n",
       "      <td>189</td>\n",
       "      <td>189</td>\n",
       "      <td>189</td>\n",
       "      <td>12.32</td>\n",
       "    </tr>\n",
       "    <tr>\n",
       "      <th>Омск</th>\n",
       "      <td>183</td>\n",
       "      <td>183</td>\n",
       "      <td>183</td>\n",
       "      <td>183</td>\n",
       "      <td>11.93</td>\n",
       "    </tr>\n",
       "    <tr>\n",
       "      <th>Тюмень</th>\n",
       "      <td>180</td>\n",
       "      <td>180</td>\n",
       "      <td>180</td>\n",
       "      <td>180</td>\n",
       "      <td>11.73</td>\n",
       "    </tr>\n",
       "    <tr>\n",
       "      <th>Москва</th>\n",
       "      <td>168</td>\n",
       "      <td>168</td>\n",
       "      <td>168</td>\n",
       "      <td>168</td>\n",
       "      <td>10.95</td>\n",
       "    </tr>\n",
       "  </tbody>\n",
       "</table>\n",
       "</div>"
      ],
      "text/plain": [
       "                user_id  name  age  subscription_type  proc\n",
       "city                                                       \n",
       "Пятигорск           219   219  219                219 14.28\n",
       "Екатеринбург        204   204  204                204 13.30\n",
       "Ростов-на-Дону      198   198  198                198 12.91\n",
       "Краснодар           193   193  193                193 12.58\n",
       "Сочи                189   189  189                189 12.32\n",
       "Омск                183   183  183                183 11.93\n",
       "Тюмень              180   180  180                180 11.73\n",
       "Москва              168   168  168                168 10.95"
      ]
     },
     "execution_count": 57,
     "metadata": {},
     "output_type": "execute_result"
    }
   ],
   "source": [
    "user_city = data_user.groupby('city').count().sort_values(by='name', ascending=False)\n",
    "user_city['proc'] = (user_city['name'] / user_city['name'].sum()) * 100\n",
    "user_city"
   ]
  },
  {
   "cell_type": "code",
   "execution_count": 58,
   "id": "68fb7764",
   "metadata": {
    "scrolled": false
   },
   "outputs": [
    {
     "data": {
      "application/vnd.plotly.v1+json": {
       "config": {
        "plotlyServerURL": "https://plot.ly"
       },
       "data": [
        {
         "alignmentgroup": "True",
         "bingroup": "x",
         "histfunc": "sum",
         "hovertemplate": "city=%{x}<br>sum of name=%{y}<extra></extra>",
         "legendgroup": "Пятигорск",
         "marker": {
          "color": "#636efa",
          "opacity": 0.5,
          "pattern": {
           "shape": ""
          }
         },
         "name": "Пятигорск",
         "offsetgroup": "Пятигорск",
         "orientation": "v",
         "showlegend": true,
         "type": "histogram",
         "x": [
          "Пятигорск"
         ],
         "xaxis": "x",
         "y": [
          219
         ],
         "yaxis": "y"
        },
        {
         "alignmentgroup": "True",
         "bingroup": "x",
         "histfunc": "sum",
         "hovertemplate": "city=%{x}<br>sum of name=%{y}<extra></extra>",
         "legendgroup": "Екатеринбург",
         "marker": {
          "color": "#EF553B",
          "opacity": 0.5,
          "pattern": {
           "shape": ""
          }
         },
         "name": "Екатеринбург",
         "offsetgroup": "Екатеринбург",
         "orientation": "v",
         "showlegend": true,
         "type": "histogram",
         "x": [
          "Екатеринбург"
         ],
         "xaxis": "x",
         "y": [
          204
         ],
         "yaxis": "y"
        },
        {
         "alignmentgroup": "True",
         "bingroup": "x",
         "histfunc": "sum",
         "hovertemplate": "city=%{x}<br>sum of name=%{y}<extra></extra>",
         "legendgroup": "Ростов-на-Дону",
         "marker": {
          "color": "#00cc96",
          "opacity": 0.5,
          "pattern": {
           "shape": ""
          }
         },
         "name": "Ростов-на-Дону",
         "offsetgroup": "Ростов-на-Дону",
         "orientation": "v",
         "showlegend": true,
         "type": "histogram",
         "x": [
          "Ростов-на-Дону"
         ],
         "xaxis": "x",
         "y": [
          198
         ],
         "yaxis": "y"
        },
        {
         "alignmentgroup": "True",
         "bingroup": "x",
         "histfunc": "sum",
         "hovertemplate": "city=%{x}<br>sum of name=%{y}<extra></extra>",
         "legendgroup": "Краснодар",
         "marker": {
          "color": "#ab63fa",
          "opacity": 0.5,
          "pattern": {
           "shape": ""
          }
         },
         "name": "Краснодар",
         "offsetgroup": "Краснодар",
         "orientation": "v",
         "showlegend": true,
         "type": "histogram",
         "x": [
          "Краснодар"
         ],
         "xaxis": "x",
         "y": [
          193
         ],
         "yaxis": "y"
        },
        {
         "alignmentgroup": "True",
         "bingroup": "x",
         "histfunc": "sum",
         "hovertemplate": "city=%{x}<br>sum of name=%{y}<extra></extra>",
         "legendgroup": "Сочи",
         "marker": {
          "color": "#FFA15A",
          "opacity": 0.5,
          "pattern": {
           "shape": ""
          }
         },
         "name": "Сочи",
         "offsetgroup": "Сочи",
         "orientation": "v",
         "showlegend": true,
         "type": "histogram",
         "x": [
          "Сочи"
         ],
         "xaxis": "x",
         "y": [
          189
         ],
         "yaxis": "y"
        },
        {
         "alignmentgroup": "True",
         "bingroup": "x",
         "histfunc": "sum",
         "hovertemplate": "city=%{x}<br>sum of name=%{y}<extra></extra>",
         "legendgroup": "Омск",
         "marker": {
          "color": "#19d3f3",
          "opacity": 0.5,
          "pattern": {
           "shape": ""
          }
         },
         "name": "Омск",
         "offsetgroup": "Омск",
         "orientation": "v",
         "showlegend": true,
         "type": "histogram",
         "x": [
          "Омск"
         ],
         "xaxis": "x",
         "y": [
          183
         ],
         "yaxis": "y"
        },
        {
         "alignmentgroup": "True",
         "bingroup": "x",
         "histfunc": "sum",
         "hovertemplate": "city=%{x}<br>sum of name=%{y}<extra></extra>",
         "legendgroup": "Тюмень",
         "marker": {
          "color": "#FF6692",
          "opacity": 0.5,
          "pattern": {
           "shape": ""
          }
         },
         "name": "Тюмень",
         "offsetgroup": "Тюмень",
         "orientation": "v",
         "showlegend": true,
         "type": "histogram",
         "x": [
          "Тюмень"
         ],
         "xaxis": "x",
         "y": [
          180
         ],
         "yaxis": "y"
        },
        {
         "alignmentgroup": "True",
         "bingroup": "x",
         "histfunc": "sum",
         "hovertemplate": "city=%{x}<br>sum of name=%{y}<extra></extra>",
         "legendgroup": "Москва",
         "marker": {
          "color": "#B6E880",
          "opacity": 0.5,
          "pattern": {
           "shape": ""
          }
         },
         "name": "Москва",
         "offsetgroup": "Москва",
         "orientation": "v",
         "showlegend": true,
         "type": "histogram",
         "x": [
          "Москва"
         ],
         "xaxis": "x",
         "y": [
          168
         ],
         "yaxis": "y"
        }
       ],
       "layout": {
        "barmode": "overlay",
        "legend": {
         "title": {
          "text": "city"
         },
         "tracegroupgap": 0
        },
        "template": {
         "data": {
          "bar": [
           {
            "error_x": {
             "color": "#2a3f5f"
            },
            "error_y": {
             "color": "#2a3f5f"
            },
            "marker": {
             "line": {
              "color": "#E5ECF6",
              "width": 0.5
             },
             "pattern": {
              "fillmode": "overlay",
              "size": 10,
              "solidity": 0.2
             }
            },
            "type": "bar"
           }
          ],
          "barpolar": [
           {
            "marker": {
             "line": {
              "color": "#E5ECF6",
              "width": 0.5
             },
             "pattern": {
              "fillmode": "overlay",
              "size": 10,
              "solidity": 0.2
             }
            },
            "type": "barpolar"
           }
          ],
          "carpet": [
           {
            "aaxis": {
             "endlinecolor": "#2a3f5f",
             "gridcolor": "white",
             "linecolor": "white",
             "minorgridcolor": "white",
             "startlinecolor": "#2a3f5f"
            },
            "baxis": {
             "endlinecolor": "#2a3f5f",
             "gridcolor": "white",
             "linecolor": "white",
             "minorgridcolor": "white",
             "startlinecolor": "#2a3f5f"
            },
            "type": "carpet"
           }
          ],
          "choropleth": [
           {
            "colorbar": {
             "outlinewidth": 0,
             "ticks": ""
            },
            "type": "choropleth"
           }
          ],
          "contour": [
           {
            "colorbar": {
             "outlinewidth": 0,
             "ticks": ""
            },
            "colorscale": [
             [
              0,
              "#0d0887"
             ],
             [
              0.1111111111111111,
              "#46039f"
             ],
             [
              0.2222222222222222,
              "#7201a8"
             ],
             [
              0.3333333333333333,
              "#9c179e"
             ],
             [
              0.4444444444444444,
              "#bd3786"
             ],
             [
              0.5555555555555556,
              "#d8576b"
             ],
             [
              0.6666666666666666,
              "#ed7953"
             ],
             [
              0.7777777777777778,
              "#fb9f3a"
             ],
             [
              0.8888888888888888,
              "#fdca26"
             ],
             [
              1,
              "#f0f921"
             ]
            ],
            "type": "contour"
           }
          ],
          "contourcarpet": [
           {
            "colorbar": {
             "outlinewidth": 0,
             "ticks": ""
            },
            "type": "contourcarpet"
           }
          ],
          "heatmap": [
           {
            "colorbar": {
             "outlinewidth": 0,
             "ticks": ""
            },
            "colorscale": [
             [
              0,
              "#0d0887"
             ],
             [
              0.1111111111111111,
              "#46039f"
             ],
             [
              0.2222222222222222,
              "#7201a8"
             ],
             [
              0.3333333333333333,
              "#9c179e"
             ],
             [
              0.4444444444444444,
              "#bd3786"
             ],
             [
              0.5555555555555556,
              "#d8576b"
             ],
             [
              0.6666666666666666,
              "#ed7953"
             ],
             [
              0.7777777777777778,
              "#fb9f3a"
             ],
             [
              0.8888888888888888,
              "#fdca26"
             ],
             [
              1,
              "#f0f921"
             ]
            ],
            "type": "heatmap"
           }
          ],
          "heatmapgl": [
           {
            "colorbar": {
             "outlinewidth": 0,
             "ticks": ""
            },
            "colorscale": [
             [
              0,
              "#0d0887"
             ],
             [
              0.1111111111111111,
              "#46039f"
             ],
             [
              0.2222222222222222,
              "#7201a8"
             ],
             [
              0.3333333333333333,
              "#9c179e"
             ],
             [
              0.4444444444444444,
              "#bd3786"
             ],
             [
              0.5555555555555556,
              "#d8576b"
             ],
             [
              0.6666666666666666,
              "#ed7953"
             ],
             [
              0.7777777777777778,
              "#fb9f3a"
             ],
             [
              0.8888888888888888,
              "#fdca26"
             ],
             [
              1,
              "#f0f921"
             ]
            ],
            "type": "heatmapgl"
           }
          ],
          "histogram": [
           {
            "marker": {
             "pattern": {
              "fillmode": "overlay",
              "size": 10,
              "solidity": 0.2
             }
            },
            "type": "histogram"
           }
          ],
          "histogram2d": [
           {
            "colorbar": {
             "outlinewidth": 0,
             "ticks": ""
            },
            "colorscale": [
             [
              0,
              "#0d0887"
             ],
             [
              0.1111111111111111,
              "#46039f"
             ],
             [
              0.2222222222222222,
              "#7201a8"
             ],
             [
              0.3333333333333333,
              "#9c179e"
             ],
             [
              0.4444444444444444,
              "#bd3786"
             ],
             [
              0.5555555555555556,
              "#d8576b"
             ],
             [
              0.6666666666666666,
              "#ed7953"
             ],
             [
              0.7777777777777778,
              "#fb9f3a"
             ],
             [
              0.8888888888888888,
              "#fdca26"
             ],
             [
              1,
              "#f0f921"
             ]
            ],
            "type": "histogram2d"
           }
          ],
          "histogram2dcontour": [
           {
            "colorbar": {
             "outlinewidth": 0,
             "ticks": ""
            },
            "colorscale": [
             [
              0,
              "#0d0887"
             ],
             [
              0.1111111111111111,
              "#46039f"
             ],
             [
              0.2222222222222222,
              "#7201a8"
             ],
             [
              0.3333333333333333,
              "#9c179e"
             ],
             [
              0.4444444444444444,
              "#bd3786"
             ],
             [
              0.5555555555555556,
              "#d8576b"
             ],
             [
              0.6666666666666666,
              "#ed7953"
             ],
             [
              0.7777777777777778,
              "#fb9f3a"
             ],
             [
              0.8888888888888888,
              "#fdca26"
             ],
             [
              1,
              "#f0f921"
             ]
            ],
            "type": "histogram2dcontour"
           }
          ],
          "mesh3d": [
           {
            "colorbar": {
             "outlinewidth": 0,
             "ticks": ""
            },
            "type": "mesh3d"
           }
          ],
          "parcoords": [
           {
            "line": {
             "colorbar": {
              "outlinewidth": 0,
              "ticks": ""
             }
            },
            "type": "parcoords"
           }
          ],
          "pie": [
           {
            "automargin": true,
            "type": "pie"
           }
          ],
          "scatter": [
           {
            "marker": {
             "colorbar": {
              "outlinewidth": 0,
              "ticks": ""
             }
            },
            "type": "scatter"
           }
          ],
          "scatter3d": [
           {
            "line": {
             "colorbar": {
              "outlinewidth": 0,
              "ticks": ""
             }
            },
            "marker": {
             "colorbar": {
              "outlinewidth": 0,
              "ticks": ""
             }
            },
            "type": "scatter3d"
           }
          ],
          "scattercarpet": [
           {
            "marker": {
             "colorbar": {
              "outlinewidth": 0,
              "ticks": ""
             }
            },
            "type": "scattercarpet"
           }
          ],
          "scattergeo": [
           {
            "marker": {
             "colorbar": {
              "outlinewidth": 0,
              "ticks": ""
             }
            },
            "type": "scattergeo"
           }
          ],
          "scattergl": [
           {
            "marker": {
             "colorbar": {
              "outlinewidth": 0,
              "ticks": ""
             }
            },
            "type": "scattergl"
           }
          ],
          "scattermapbox": [
           {
            "marker": {
             "colorbar": {
              "outlinewidth": 0,
              "ticks": ""
             }
            },
            "type": "scattermapbox"
           }
          ],
          "scatterpolar": [
           {
            "marker": {
             "colorbar": {
              "outlinewidth": 0,
              "ticks": ""
             }
            },
            "type": "scatterpolar"
           }
          ],
          "scatterpolargl": [
           {
            "marker": {
             "colorbar": {
              "outlinewidth": 0,
              "ticks": ""
             }
            },
            "type": "scatterpolargl"
           }
          ],
          "scatterternary": [
           {
            "marker": {
             "colorbar": {
              "outlinewidth": 0,
              "ticks": ""
             }
            },
            "type": "scatterternary"
           }
          ],
          "surface": [
           {
            "colorbar": {
             "outlinewidth": 0,
             "ticks": ""
            },
            "colorscale": [
             [
              0,
              "#0d0887"
             ],
             [
              0.1111111111111111,
              "#46039f"
             ],
             [
              0.2222222222222222,
              "#7201a8"
             ],
             [
              0.3333333333333333,
              "#9c179e"
             ],
             [
              0.4444444444444444,
              "#bd3786"
             ],
             [
              0.5555555555555556,
              "#d8576b"
             ],
             [
              0.6666666666666666,
              "#ed7953"
             ],
             [
              0.7777777777777778,
              "#fb9f3a"
             ],
             [
              0.8888888888888888,
              "#fdca26"
             ],
             [
              1,
              "#f0f921"
             ]
            ],
            "type": "surface"
           }
          ],
          "table": [
           {
            "cells": {
             "fill": {
              "color": "#EBF0F8"
             },
             "line": {
              "color": "white"
             }
            },
            "header": {
             "fill": {
              "color": "#C8D4E3"
             },
             "line": {
              "color": "white"
             }
            },
            "type": "table"
           }
          ]
         },
         "layout": {
          "annotationdefaults": {
           "arrowcolor": "#2a3f5f",
           "arrowhead": 0,
           "arrowwidth": 1
          },
          "autotypenumbers": "strict",
          "coloraxis": {
           "colorbar": {
            "outlinewidth": 0,
            "ticks": ""
           }
          },
          "colorscale": {
           "diverging": [
            [
             0,
             "#8e0152"
            ],
            [
             0.1,
             "#c51b7d"
            ],
            [
             0.2,
             "#de77ae"
            ],
            [
             0.3,
             "#f1b6da"
            ],
            [
             0.4,
             "#fde0ef"
            ],
            [
             0.5,
             "#f7f7f7"
            ],
            [
             0.6,
             "#e6f5d0"
            ],
            [
             0.7,
             "#b8e186"
            ],
            [
             0.8,
             "#7fbc41"
            ],
            [
             0.9,
             "#4d9221"
            ],
            [
             1,
             "#276419"
            ]
           ],
           "sequential": [
            [
             0,
             "#0d0887"
            ],
            [
             0.1111111111111111,
             "#46039f"
            ],
            [
             0.2222222222222222,
             "#7201a8"
            ],
            [
             0.3333333333333333,
             "#9c179e"
            ],
            [
             0.4444444444444444,
             "#bd3786"
            ],
            [
             0.5555555555555556,
             "#d8576b"
            ],
            [
             0.6666666666666666,
             "#ed7953"
            ],
            [
             0.7777777777777778,
             "#fb9f3a"
            ],
            [
             0.8888888888888888,
             "#fdca26"
            ],
            [
             1,
             "#f0f921"
            ]
           ],
           "sequentialminus": [
            [
             0,
             "#0d0887"
            ],
            [
             0.1111111111111111,
             "#46039f"
            ],
            [
             0.2222222222222222,
             "#7201a8"
            ],
            [
             0.3333333333333333,
             "#9c179e"
            ],
            [
             0.4444444444444444,
             "#bd3786"
            ],
            [
             0.5555555555555556,
             "#d8576b"
            ],
            [
             0.6666666666666666,
             "#ed7953"
            ],
            [
             0.7777777777777778,
             "#fb9f3a"
            ],
            [
             0.8888888888888888,
             "#fdca26"
            ],
            [
             1,
             "#f0f921"
            ]
           ]
          },
          "colorway": [
           "#636efa",
           "#EF553B",
           "#00cc96",
           "#ab63fa",
           "#FFA15A",
           "#19d3f3",
           "#FF6692",
           "#B6E880",
           "#FF97FF",
           "#FECB52"
          ],
          "font": {
           "color": "#2a3f5f"
          },
          "geo": {
           "bgcolor": "white",
           "lakecolor": "white",
           "landcolor": "#E5ECF6",
           "showlakes": true,
           "showland": true,
           "subunitcolor": "white"
          },
          "hoverlabel": {
           "align": "left"
          },
          "hovermode": "closest",
          "mapbox": {
           "style": "light"
          },
          "paper_bgcolor": "white",
          "plot_bgcolor": "#E5ECF6",
          "polar": {
           "angularaxis": {
            "gridcolor": "white",
            "linecolor": "white",
            "ticks": ""
           },
           "bgcolor": "#E5ECF6",
           "radialaxis": {
            "gridcolor": "white",
            "linecolor": "white",
            "ticks": ""
           }
          },
          "scene": {
           "xaxis": {
            "backgroundcolor": "#E5ECF6",
            "gridcolor": "white",
            "gridwidth": 2,
            "linecolor": "white",
            "showbackground": true,
            "ticks": "",
            "zerolinecolor": "white"
           },
           "yaxis": {
            "backgroundcolor": "#E5ECF6",
            "gridcolor": "white",
            "gridwidth": 2,
            "linecolor": "white",
            "showbackground": true,
            "ticks": "",
            "zerolinecolor": "white"
           },
           "zaxis": {
            "backgroundcolor": "#E5ECF6",
            "gridcolor": "white",
            "gridwidth": 2,
            "linecolor": "white",
            "showbackground": true,
            "ticks": "",
            "zerolinecolor": "white"
           }
          },
          "shapedefaults": {
           "line": {
            "color": "#2a3f5f"
           }
          },
          "ternary": {
           "aaxis": {
            "gridcolor": "white",
            "linecolor": "white",
            "ticks": ""
           },
           "baxis": {
            "gridcolor": "white",
            "linecolor": "white",
            "ticks": ""
           },
           "bgcolor": "#E5ECF6",
           "caxis": {
            "gridcolor": "white",
            "linecolor": "white",
            "ticks": ""
           }
          },
          "title": {
           "x": 0.05
          },
          "xaxis": {
           "automargin": true,
           "gridcolor": "white",
           "linecolor": "white",
           "ticks": "",
           "title": {
            "standoff": 15
           },
           "zerolinecolor": "white",
           "zerolinewidth": 2
          },
          "yaxis": {
           "automargin": true,
           "gridcolor": "white",
           "linecolor": "white",
           "ticks": "",
           "title": {
            "standoff": 15
           },
           "zerolinecolor": "white",
           "zerolinewidth": 2
          }
         }
        },
        "title": {
         "text": "Распределение количества городов"
        },
        "xaxis": {
         "anchor": "y",
         "categoryarray": [
          "Пятигорск",
          "Екатеринбург",
          "Ростов-на-Дону",
          "Краснодар",
          "Сочи",
          "Омск",
          "Тюмень",
          "Москва"
         ],
         "categoryorder": "array",
         "domain": [
          0,
          1
         ],
         "title": {
          "text": "Город"
         }
        },
        "yaxis": {
         "anchor": "x",
         "domain": [
          0,
          1
         ],
         "title": {
          "text": "Количество пользователей"
         }
        }
       }
      },
      "text/html": [
       "<div>                            <div id=\"a0e41ad1-5609-4930-b9f4-368f67bc200e\" class=\"plotly-graph-div\" style=\"height:525px; width:100%;\"></div>            <script type=\"text/javascript\">                require([\"plotly\"], function(Plotly) {                    window.PLOTLYENV=window.PLOTLYENV || {};                                    if (document.getElementById(\"a0e41ad1-5609-4930-b9f4-368f67bc200e\")) {                    Plotly.newPlot(                        \"a0e41ad1-5609-4930-b9f4-368f67bc200e\",                        [{\"alignmentgroup\":\"True\",\"bingroup\":\"x\",\"histfunc\":\"sum\",\"hovertemplate\":\"city=%{x}<br>sum of name=%{y}<extra></extra>\",\"legendgroup\":\"\\u041f\\u044f\\u0442\\u0438\\u0433\\u043e\\u0440\\u0441\\u043a\",\"marker\":{\"color\":\"#636efa\",\"opacity\":0.5,\"pattern\":{\"shape\":\"\"}},\"name\":\"\\u041f\\u044f\\u0442\\u0438\\u0433\\u043e\\u0440\\u0441\\u043a\",\"offsetgroup\":\"\\u041f\\u044f\\u0442\\u0438\\u0433\\u043e\\u0440\\u0441\\u043a\",\"orientation\":\"v\",\"showlegend\":true,\"x\":[\"\\u041f\\u044f\\u0442\\u0438\\u0433\\u043e\\u0440\\u0441\\u043a\"],\"xaxis\":\"x\",\"y\":[219],\"yaxis\":\"y\",\"type\":\"histogram\"},{\"alignmentgroup\":\"True\",\"bingroup\":\"x\",\"histfunc\":\"sum\",\"hovertemplate\":\"city=%{x}<br>sum of name=%{y}<extra></extra>\",\"legendgroup\":\"\\u0415\\u043a\\u0430\\u0442\\u0435\\u0440\\u0438\\u043d\\u0431\\u0443\\u0440\\u0433\",\"marker\":{\"color\":\"#EF553B\",\"opacity\":0.5,\"pattern\":{\"shape\":\"\"}},\"name\":\"\\u0415\\u043a\\u0430\\u0442\\u0435\\u0440\\u0438\\u043d\\u0431\\u0443\\u0440\\u0433\",\"offsetgroup\":\"\\u0415\\u043a\\u0430\\u0442\\u0435\\u0440\\u0438\\u043d\\u0431\\u0443\\u0440\\u0433\",\"orientation\":\"v\",\"showlegend\":true,\"x\":[\"\\u0415\\u043a\\u0430\\u0442\\u0435\\u0440\\u0438\\u043d\\u0431\\u0443\\u0440\\u0433\"],\"xaxis\":\"x\",\"y\":[204],\"yaxis\":\"y\",\"type\":\"histogram\"},{\"alignmentgroup\":\"True\",\"bingroup\":\"x\",\"histfunc\":\"sum\",\"hovertemplate\":\"city=%{x}<br>sum of name=%{y}<extra></extra>\",\"legendgroup\":\"\\u0420\\u043e\\u0441\\u0442\\u043e\\u0432-\\u043d\\u0430-\\u0414\\u043e\\u043d\\u0443\",\"marker\":{\"color\":\"#00cc96\",\"opacity\":0.5,\"pattern\":{\"shape\":\"\"}},\"name\":\"\\u0420\\u043e\\u0441\\u0442\\u043e\\u0432-\\u043d\\u0430-\\u0414\\u043e\\u043d\\u0443\",\"offsetgroup\":\"\\u0420\\u043e\\u0441\\u0442\\u043e\\u0432-\\u043d\\u0430-\\u0414\\u043e\\u043d\\u0443\",\"orientation\":\"v\",\"showlegend\":true,\"x\":[\"\\u0420\\u043e\\u0441\\u0442\\u043e\\u0432-\\u043d\\u0430-\\u0414\\u043e\\u043d\\u0443\"],\"xaxis\":\"x\",\"y\":[198],\"yaxis\":\"y\",\"type\":\"histogram\"},{\"alignmentgroup\":\"True\",\"bingroup\":\"x\",\"histfunc\":\"sum\",\"hovertemplate\":\"city=%{x}<br>sum of name=%{y}<extra></extra>\",\"legendgroup\":\"\\u041a\\u0440\\u0430\\u0441\\u043d\\u043e\\u0434\\u0430\\u0440\",\"marker\":{\"color\":\"#ab63fa\",\"opacity\":0.5,\"pattern\":{\"shape\":\"\"}},\"name\":\"\\u041a\\u0440\\u0430\\u0441\\u043d\\u043e\\u0434\\u0430\\u0440\",\"offsetgroup\":\"\\u041a\\u0440\\u0430\\u0441\\u043d\\u043e\\u0434\\u0430\\u0440\",\"orientation\":\"v\",\"showlegend\":true,\"x\":[\"\\u041a\\u0440\\u0430\\u0441\\u043d\\u043e\\u0434\\u0430\\u0440\"],\"xaxis\":\"x\",\"y\":[193],\"yaxis\":\"y\",\"type\":\"histogram\"},{\"alignmentgroup\":\"True\",\"bingroup\":\"x\",\"histfunc\":\"sum\",\"hovertemplate\":\"city=%{x}<br>sum of name=%{y}<extra></extra>\",\"legendgroup\":\"\\u0421\\u043e\\u0447\\u0438\",\"marker\":{\"color\":\"#FFA15A\",\"opacity\":0.5,\"pattern\":{\"shape\":\"\"}},\"name\":\"\\u0421\\u043e\\u0447\\u0438\",\"offsetgroup\":\"\\u0421\\u043e\\u0447\\u0438\",\"orientation\":\"v\",\"showlegend\":true,\"x\":[\"\\u0421\\u043e\\u0447\\u0438\"],\"xaxis\":\"x\",\"y\":[189],\"yaxis\":\"y\",\"type\":\"histogram\"},{\"alignmentgroup\":\"True\",\"bingroup\":\"x\",\"histfunc\":\"sum\",\"hovertemplate\":\"city=%{x}<br>sum of name=%{y}<extra></extra>\",\"legendgroup\":\"\\u041e\\u043c\\u0441\\u043a\",\"marker\":{\"color\":\"#19d3f3\",\"opacity\":0.5,\"pattern\":{\"shape\":\"\"}},\"name\":\"\\u041e\\u043c\\u0441\\u043a\",\"offsetgroup\":\"\\u041e\\u043c\\u0441\\u043a\",\"orientation\":\"v\",\"showlegend\":true,\"x\":[\"\\u041e\\u043c\\u0441\\u043a\"],\"xaxis\":\"x\",\"y\":[183],\"yaxis\":\"y\",\"type\":\"histogram\"},{\"alignmentgroup\":\"True\",\"bingroup\":\"x\",\"histfunc\":\"sum\",\"hovertemplate\":\"city=%{x}<br>sum of name=%{y}<extra></extra>\",\"legendgroup\":\"\\u0422\\u044e\\u043c\\u0435\\u043d\\u044c\",\"marker\":{\"color\":\"#FF6692\",\"opacity\":0.5,\"pattern\":{\"shape\":\"\"}},\"name\":\"\\u0422\\u044e\\u043c\\u0435\\u043d\\u044c\",\"offsetgroup\":\"\\u0422\\u044e\\u043c\\u0435\\u043d\\u044c\",\"orientation\":\"v\",\"showlegend\":true,\"x\":[\"\\u0422\\u044e\\u043c\\u0435\\u043d\\u044c\"],\"xaxis\":\"x\",\"y\":[180],\"yaxis\":\"y\",\"type\":\"histogram\"},{\"alignmentgroup\":\"True\",\"bingroup\":\"x\",\"histfunc\":\"sum\",\"hovertemplate\":\"city=%{x}<br>sum of name=%{y}<extra></extra>\",\"legendgroup\":\"\\u041c\\u043e\\u0441\\u043a\\u0432\\u0430\",\"marker\":{\"color\":\"#B6E880\",\"opacity\":0.5,\"pattern\":{\"shape\":\"\"}},\"name\":\"\\u041c\\u043e\\u0441\\u043a\\u0432\\u0430\",\"offsetgroup\":\"\\u041c\\u043e\\u0441\\u043a\\u0432\\u0430\",\"orientation\":\"v\",\"showlegend\":true,\"x\":[\"\\u041c\\u043e\\u0441\\u043a\\u0432\\u0430\"],\"xaxis\":\"x\",\"y\":[168],\"yaxis\":\"y\",\"type\":\"histogram\"}],                        {\"template\":{\"data\":{\"bar\":[{\"error_x\":{\"color\":\"#2a3f5f\"},\"error_y\":{\"color\":\"#2a3f5f\"},\"marker\":{\"line\":{\"color\":\"#E5ECF6\",\"width\":0.5},\"pattern\":{\"fillmode\":\"overlay\",\"size\":10,\"solidity\":0.2}},\"type\":\"bar\"}],\"barpolar\":[{\"marker\":{\"line\":{\"color\":\"#E5ECF6\",\"width\":0.5},\"pattern\":{\"fillmode\":\"overlay\",\"size\":10,\"solidity\":0.2}},\"type\":\"barpolar\"}],\"carpet\":[{\"aaxis\":{\"endlinecolor\":\"#2a3f5f\",\"gridcolor\":\"white\",\"linecolor\":\"white\",\"minorgridcolor\":\"white\",\"startlinecolor\":\"#2a3f5f\"},\"baxis\":{\"endlinecolor\":\"#2a3f5f\",\"gridcolor\":\"white\",\"linecolor\":\"white\",\"minorgridcolor\":\"white\",\"startlinecolor\":\"#2a3f5f\"},\"type\":\"carpet\"}],\"choropleth\":[{\"colorbar\":{\"outlinewidth\":0,\"ticks\":\"\"},\"type\":\"choropleth\"}],\"contour\":[{\"colorbar\":{\"outlinewidth\":0,\"ticks\":\"\"},\"colorscale\":[[0.0,\"#0d0887\"],[0.1111111111111111,\"#46039f\"],[0.2222222222222222,\"#7201a8\"],[0.3333333333333333,\"#9c179e\"],[0.4444444444444444,\"#bd3786\"],[0.5555555555555556,\"#d8576b\"],[0.6666666666666666,\"#ed7953\"],[0.7777777777777778,\"#fb9f3a\"],[0.8888888888888888,\"#fdca26\"],[1.0,\"#f0f921\"]],\"type\":\"contour\"}],\"contourcarpet\":[{\"colorbar\":{\"outlinewidth\":0,\"ticks\":\"\"},\"type\":\"contourcarpet\"}],\"heatmap\":[{\"colorbar\":{\"outlinewidth\":0,\"ticks\":\"\"},\"colorscale\":[[0.0,\"#0d0887\"],[0.1111111111111111,\"#46039f\"],[0.2222222222222222,\"#7201a8\"],[0.3333333333333333,\"#9c179e\"],[0.4444444444444444,\"#bd3786\"],[0.5555555555555556,\"#d8576b\"],[0.6666666666666666,\"#ed7953\"],[0.7777777777777778,\"#fb9f3a\"],[0.8888888888888888,\"#fdca26\"],[1.0,\"#f0f921\"]],\"type\":\"heatmap\"}],\"heatmapgl\":[{\"colorbar\":{\"outlinewidth\":0,\"ticks\":\"\"},\"colorscale\":[[0.0,\"#0d0887\"],[0.1111111111111111,\"#46039f\"],[0.2222222222222222,\"#7201a8\"],[0.3333333333333333,\"#9c179e\"],[0.4444444444444444,\"#bd3786\"],[0.5555555555555556,\"#d8576b\"],[0.6666666666666666,\"#ed7953\"],[0.7777777777777778,\"#fb9f3a\"],[0.8888888888888888,\"#fdca26\"],[1.0,\"#f0f921\"]],\"type\":\"heatmapgl\"}],\"histogram\":[{\"marker\":{\"pattern\":{\"fillmode\":\"overlay\",\"size\":10,\"solidity\":0.2}},\"type\":\"histogram\"}],\"histogram2d\":[{\"colorbar\":{\"outlinewidth\":0,\"ticks\":\"\"},\"colorscale\":[[0.0,\"#0d0887\"],[0.1111111111111111,\"#46039f\"],[0.2222222222222222,\"#7201a8\"],[0.3333333333333333,\"#9c179e\"],[0.4444444444444444,\"#bd3786\"],[0.5555555555555556,\"#d8576b\"],[0.6666666666666666,\"#ed7953\"],[0.7777777777777778,\"#fb9f3a\"],[0.8888888888888888,\"#fdca26\"],[1.0,\"#f0f921\"]],\"type\":\"histogram2d\"}],\"histogram2dcontour\":[{\"colorbar\":{\"outlinewidth\":0,\"ticks\":\"\"},\"colorscale\":[[0.0,\"#0d0887\"],[0.1111111111111111,\"#46039f\"],[0.2222222222222222,\"#7201a8\"],[0.3333333333333333,\"#9c179e\"],[0.4444444444444444,\"#bd3786\"],[0.5555555555555556,\"#d8576b\"],[0.6666666666666666,\"#ed7953\"],[0.7777777777777778,\"#fb9f3a\"],[0.8888888888888888,\"#fdca26\"],[1.0,\"#f0f921\"]],\"type\":\"histogram2dcontour\"}],\"mesh3d\":[{\"colorbar\":{\"outlinewidth\":0,\"ticks\":\"\"},\"type\":\"mesh3d\"}],\"parcoords\":[{\"line\":{\"colorbar\":{\"outlinewidth\":0,\"ticks\":\"\"}},\"type\":\"parcoords\"}],\"pie\":[{\"automargin\":true,\"type\":\"pie\"}],\"scatter\":[{\"marker\":{\"colorbar\":{\"outlinewidth\":0,\"ticks\":\"\"}},\"type\":\"scatter\"}],\"scatter3d\":[{\"line\":{\"colorbar\":{\"outlinewidth\":0,\"ticks\":\"\"}},\"marker\":{\"colorbar\":{\"outlinewidth\":0,\"ticks\":\"\"}},\"type\":\"scatter3d\"}],\"scattercarpet\":[{\"marker\":{\"colorbar\":{\"outlinewidth\":0,\"ticks\":\"\"}},\"type\":\"scattercarpet\"}],\"scattergeo\":[{\"marker\":{\"colorbar\":{\"outlinewidth\":0,\"ticks\":\"\"}},\"type\":\"scattergeo\"}],\"scattergl\":[{\"marker\":{\"colorbar\":{\"outlinewidth\":0,\"ticks\":\"\"}},\"type\":\"scattergl\"}],\"scattermapbox\":[{\"marker\":{\"colorbar\":{\"outlinewidth\":0,\"ticks\":\"\"}},\"type\":\"scattermapbox\"}],\"scatterpolar\":[{\"marker\":{\"colorbar\":{\"outlinewidth\":0,\"ticks\":\"\"}},\"type\":\"scatterpolar\"}],\"scatterpolargl\":[{\"marker\":{\"colorbar\":{\"outlinewidth\":0,\"ticks\":\"\"}},\"type\":\"scatterpolargl\"}],\"scatterternary\":[{\"marker\":{\"colorbar\":{\"outlinewidth\":0,\"ticks\":\"\"}},\"type\":\"scatterternary\"}],\"surface\":[{\"colorbar\":{\"outlinewidth\":0,\"ticks\":\"\"},\"colorscale\":[[0.0,\"#0d0887\"],[0.1111111111111111,\"#46039f\"],[0.2222222222222222,\"#7201a8\"],[0.3333333333333333,\"#9c179e\"],[0.4444444444444444,\"#bd3786\"],[0.5555555555555556,\"#d8576b\"],[0.6666666666666666,\"#ed7953\"],[0.7777777777777778,\"#fb9f3a\"],[0.8888888888888888,\"#fdca26\"],[1.0,\"#f0f921\"]],\"type\":\"surface\"}],\"table\":[{\"cells\":{\"fill\":{\"color\":\"#EBF0F8\"},\"line\":{\"color\":\"white\"}},\"header\":{\"fill\":{\"color\":\"#C8D4E3\"},\"line\":{\"color\":\"white\"}},\"type\":\"table\"}]},\"layout\":{\"annotationdefaults\":{\"arrowcolor\":\"#2a3f5f\",\"arrowhead\":0,\"arrowwidth\":1},\"autotypenumbers\":\"strict\",\"coloraxis\":{\"colorbar\":{\"outlinewidth\":0,\"ticks\":\"\"}},\"colorscale\":{\"diverging\":[[0,\"#8e0152\"],[0.1,\"#c51b7d\"],[0.2,\"#de77ae\"],[0.3,\"#f1b6da\"],[0.4,\"#fde0ef\"],[0.5,\"#f7f7f7\"],[0.6,\"#e6f5d0\"],[0.7,\"#b8e186\"],[0.8,\"#7fbc41\"],[0.9,\"#4d9221\"],[1,\"#276419\"]],\"sequential\":[[0.0,\"#0d0887\"],[0.1111111111111111,\"#46039f\"],[0.2222222222222222,\"#7201a8\"],[0.3333333333333333,\"#9c179e\"],[0.4444444444444444,\"#bd3786\"],[0.5555555555555556,\"#d8576b\"],[0.6666666666666666,\"#ed7953\"],[0.7777777777777778,\"#fb9f3a\"],[0.8888888888888888,\"#fdca26\"],[1.0,\"#f0f921\"]],\"sequentialminus\":[[0.0,\"#0d0887\"],[0.1111111111111111,\"#46039f\"],[0.2222222222222222,\"#7201a8\"],[0.3333333333333333,\"#9c179e\"],[0.4444444444444444,\"#bd3786\"],[0.5555555555555556,\"#d8576b\"],[0.6666666666666666,\"#ed7953\"],[0.7777777777777778,\"#fb9f3a\"],[0.8888888888888888,\"#fdca26\"],[1.0,\"#f0f921\"]]},\"colorway\":[\"#636efa\",\"#EF553B\",\"#00cc96\",\"#ab63fa\",\"#FFA15A\",\"#19d3f3\",\"#FF6692\",\"#B6E880\",\"#FF97FF\",\"#FECB52\"],\"font\":{\"color\":\"#2a3f5f\"},\"geo\":{\"bgcolor\":\"white\",\"lakecolor\":\"white\",\"landcolor\":\"#E5ECF6\",\"showlakes\":true,\"showland\":true,\"subunitcolor\":\"white\"},\"hoverlabel\":{\"align\":\"left\"},\"hovermode\":\"closest\",\"mapbox\":{\"style\":\"light\"},\"paper_bgcolor\":\"white\",\"plot_bgcolor\":\"#E5ECF6\",\"polar\":{\"angularaxis\":{\"gridcolor\":\"white\",\"linecolor\":\"white\",\"ticks\":\"\"},\"bgcolor\":\"#E5ECF6\",\"radialaxis\":{\"gridcolor\":\"white\",\"linecolor\":\"white\",\"ticks\":\"\"}},\"scene\":{\"xaxis\":{\"backgroundcolor\":\"#E5ECF6\",\"gridcolor\":\"white\",\"gridwidth\":2,\"linecolor\":\"white\",\"showbackground\":true,\"ticks\":\"\",\"zerolinecolor\":\"white\"},\"yaxis\":{\"backgroundcolor\":\"#E5ECF6\",\"gridcolor\":\"white\",\"gridwidth\":2,\"linecolor\":\"white\",\"showbackground\":true,\"ticks\":\"\",\"zerolinecolor\":\"white\"},\"zaxis\":{\"backgroundcolor\":\"#E5ECF6\",\"gridcolor\":\"white\",\"gridwidth\":2,\"linecolor\":\"white\",\"showbackground\":true,\"ticks\":\"\",\"zerolinecolor\":\"white\"}},\"shapedefaults\":{\"line\":{\"color\":\"#2a3f5f\"}},\"ternary\":{\"aaxis\":{\"gridcolor\":\"white\",\"linecolor\":\"white\",\"ticks\":\"\"},\"baxis\":{\"gridcolor\":\"white\",\"linecolor\":\"white\",\"ticks\":\"\"},\"bgcolor\":\"#E5ECF6\",\"caxis\":{\"gridcolor\":\"white\",\"linecolor\":\"white\",\"ticks\":\"\"}},\"title\":{\"x\":0.05},\"xaxis\":{\"automargin\":true,\"gridcolor\":\"white\",\"linecolor\":\"white\",\"ticks\":\"\",\"title\":{\"standoff\":15},\"zerolinecolor\":\"white\",\"zerolinewidth\":2},\"yaxis\":{\"automargin\":true,\"gridcolor\":\"white\",\"linecolor\":\"white\",\"ticks\":\"\",\"title\":{\"standoff\":15},\"zerolinecolor\":\"white\",\"zerolinewidth\":2}}},\"xaxis\":{\"anchor\":\"y\",\"domain\":[0.0,1.0],\"title\":{\"text\":\"\\u0413\\u043e\\u0440\\u043e\\u0434\"},\"categoryorder\":\"array\",\"categoryarray\":[\"\\u041f\\u044f\\u0442\\u0438\\u0433\\u043e\\u0440\\u0441\\u043a\",\"\\u0415\\u043a\\u0430\\u0442\\u0435\\u0440\\u0438\\u043d\\u0431\\u0443\\u0440\\u0433\",\"\\u0420\\u043e\\u0441\\u0442\\u043e\\u0432-\\u043d\\u0430-\\u0414\\u043e\\u043d\\u0443\",\"\\u041a\\u0440\\u0430\\u0441\\u043d\\u043e\\u0434\\u0430\\u0440\",\"\\u0421\\u043e\\u0447\\u0438\",\"\\u041e\\u043c\\u0441\\u043a\",\"\\u0422\\u044e\\u043c\\u0435\\u043d\\u044c\",\"\\u041c\\u043e\\u0441\\u043a\\u0432\\u0430\"]},\"yaxis\":{\"anchor\":\"x\",\"domain\":[0.0,1.0],\"title\":{\"text\":\"\\u041a\\u043e\\u043b\\u0438\\u0447\\u0435\\u0441\\u0442\\u0432\\u043e \\u043f\\u043e\\u043b\\u044c\\u0437\\u043e\\u0432\\u0430\\u0442\\u0435\\u043b\\u0435\\u0439\"}},\"legend\":{\"title\":{\"text\":\"city\"},\"tracegroupgap\":0},\"title\":{\"text\":\"\\u0420\\u0430\\u0441\\u043f\\u0440\\u0435\\u0434\\u0435\\u043b\\u0435\\u043d\\u0438\\u0435 \\u043a\\u043e\\u043b\\u0438\\u0447\\u0435\\u0441\\u0442\\u0432\\u0430 \\u0433\\u043e\\u0440\\u043e\\u0434\\u043e\\u0432\"},\"barmode\":\"overlay\"},                        {\"responsive\": true}                    ).then(function(){\n",
       "                            \n",
       "var gd = document.getElementById('a0e41ad1-5609-4930-b9f4-368f67bc200e');\n",
       "var x = new MutationObserver(function (mutations, observer) {{\n",
       "        var display = window.getComputedStyle(gd).display;\n",
       "        if (!display || display === 'none') {{\n",
       "            console.log([gd, 'removed!']);\n",
       "            Plotly.purge(gd);\n",
       "            observer.disconnect();\n",
       "        }}\n",
       "}});\n",
       "\n",
       "// Listen for the removal of the full notebook cells\n",
       "var notebookContainer = gd.closest('#notebook-container');\n",
       "if (notebookContainer) {{\n",
       "    x.observe(notebookContainer, {childList: true});\n",
       "}}\n",
       "\n",
       "// Listen for the clearing of the current output cell\n",
       "var outputEl = gd.closest('.output');\n",
       "if (outputEl) {{\n",
       "    x.observe(outputEl, {childList: true});\n",
       "}}\n",
       "\n",
       "                        })                };                });            </script>        </div>"
      ]
     },
     "metadata": {},
     "output_type": "display_data"
    }
   ],
   "source": [
    "#построим визуализацию распределения количества пользователей по городам\n",
    "fig = px.histogram(user_city, # загружаем данные\n",
    "                   x=user_city.index,\n",
    "                   y='name',\n",
    "                   color=user_city.index, # указываем столбец с данными для оси X\n",
    "                   title='Распределение количества городов',\n",
    "                   barmode='overlay') # выбираем «полупрозрачный» тип отображения столбцов\n",
    "fig.update_xaxes(title_text='Город') # подпись для оси X\n",
    "fig.update_yaxes(title_text='Количество пользователей') # подпись для оси Y\n",
    "fig.show() # выводим график"
   ]
  },
  {
   "cell_type": "markdown",
   "id": "8ad29a56",
   "metadata": {},
   "source": [
    "Больше всего пользователей зарегистрировано в г. Пятигорск, Екатеринбург и Ростов-на-Дону. Среди жителей Москвы сервис имеет невысокую популярность, что требует более детального внимания."
   ]
  },
  {
   "cell_type": "markdown",
   "id": "ec4abca9",
   "metadata": {},
   "source": [
    "<a id=\"6\"></a>\n",
    "#### Соотношение пользователей с подпиской и без подписки"
   ]
  },
  {
   "cell_type": "code",
   "execution_count": 59,
   "id": "a64cb21f",
   "metadata": {},
   "outputs": [
    {
     "data": {
      "text/html": [
       "<div>\n",
       "<style scoped>\n",
       "    .dataframe tbody tr th:only-of-type {\n",
       "        vertical-align: middle;\n",
       "    }\n",
       "\n",
       "    .dataframe tbody tr th {\n",
       "        vertical-align: top;\n",
       "    }\n",
       "\n",
       "    .dataframe thead th {\n",
       "        text-align: right;\n",
       "    }\n",
       "</style>\n",
       "<table border=\"1\" class=\"dataframe\">\n",
       "  <thead>\n",
       "    <tr style=\"text-align: right;\">\n",
       "      <th></th>\n",
       "      <th>user_id</th>\n",
       "      <th>name</th>\n",
       "      <th>age</th>\n",
       "      <th>city</th>\n",
       "    </tr>\n",
       "    <tr>\n",
       "      <th>subscription_type</th>\n",
       "      <th></th>\n",
       "      <th></th>\n",
       "      <th></th>\n",
       "      <th></th>\n",
       "    </tr>\n",
       "  </thead>\n",
       "  <tbody>\n",
       "    <tr>\n",
       "      <th>free</th>\n",
       "      <td>835</td>\n",
       "      <td>835</td>\n",
       "      <td>835</td>\n",
       "      <td>835</td>\n",
       "    </tr>\n",
       "    <tr>\n",
       "      <th>ultra</th>\n",
       "      <td>699</td>\n",
       "      <td>699</td>\n",
       "      <td>699</td>\n",
       "      <td>699</td>\n",
       "    </tr>\n",
       "  </tbody>\n",
       "</table>\n",
       "</div>"
      ],
      "text/plain": [
       "                   user_id  name  age  city\n",
       "subscription_type                          \n",
       "free                   835   835  835   835\n",
       "ultra                  699   699  699   699"
      ]
     },
     "execution_count": 59,
     "metadata": {},
     "output_type": "execute_result"
    }
   ],
   "source": [
    "#соотношение пользователей с подпиской и без\n",
    "data_type = data_user.groupby('subscription_type').count().sort_values(by='name', ascending=False)\n",
    "data_type"
   ]
  },
  {
   "cell_type": "code",
   "execution_count": 60,
   "id": "4cc173da",
   "metadata": {
    "scrolled": false
   },
   "outputs": [
    {
     "data": {
      "image/png": "[encoded data removed]",
      "text/plain": [
       "<Figure size 700x490 with 1 Axes>"
      ]
     },
     "metadata": {},
     "output_type": "display_data"
    }
   ],
   "source": [
    "#построим визуализацию\n",
    "labels = ['без подписки', 'с подпиской Ultra']\n",
    "sizes = data_type['name']\n",
    "\n",
    "fig, ax = plt.subplots(figsize=(10, 7), dpi=70)\n",
    "ax.pie(sizes, labels=labels, autopct='%1.1f%%',\n",
    "       textprops={'fontsize': 15})\n",
    "ax.set_title('Соотношение пользователей с подпиской и без', fontsize=15)\n",
    "ax.tick_params()\n",
    "plt.show()  "
   ]
  },
  {
   "cell_type": "markdown",
   "id": "53c0fa65",
   "metadata": {},
   "source": [
    "Количество пользователей самокатов без подписки преобладает над количеством тех, кто уже оформил подписку Ultra."
   ]
  },
  {
   "cell_type": "markdown",
   "id": "ae6c15e1",
   "metadata": {},
   "source": [
    "<a id=\"7\"></a>\n",
    "#### Возраст пользователей"
   ]
  },
  {
   "cell_type": "code",
   "execution_count": 61,
   "id": "d4637cbc",
   "metadata": {
    "scrolled": true
   },
   "outputs": [
    {
     "data": {
      "text/html": [
       "<div>\n",
       "<style scoped>\n",
       "    .dataframe tbody tr th:only-of-type {\n",
       "        vertical-align: middle;\n",
       "    }\n",
       "\n",
       "    .dataframe tbody tr th {\n",
       "        vertical-align: top;\n",
       "    }\n",
       "\n",
       "    .dataframe thead th {\n",
       "        text-align: right;\n",
       "    }\n",
       "</style>\n",
       "<table border=\"1\" class=\"dataframe\">\n",
       "  <thead>\n",
       "    <tr style=\"text-align: right;\">\n",
       "      <th></th>\n",
       "      <th>user_id</th>\n",
       "      <th>name</th>\n",
       "      <th>city</th>\n",
       "      <th>subscription_type</th>\n",
       "      <th>proc</th>\n",
       "    </tr>\n",
       "    <tr>\n",
       "      <th>age</th>\n",
       "      <th></th>\n",
       "      <th></th>\n",
       "      <th></th>\n",
       "      <th></th>\n",
       "      <th></th>\n",
       "    </tr>\n",
       "  </thead>\n",
       "  <tbody>\n",
       "    <tr>\n",
       "      <th>25</th>\n",
       "      <td>145</td>\n",
       "      <td>145</td>\n",
       "      <td>145</td>\n",
       "      <td>145</td>\n",
       "      <td>9.45</td>\n",
       "    </tr>\n",
       "    <tr>\n",
       "      <th>24</th>\n",
       "      <td>132</td>\n",
       "      <td>132</td>\n",
       "      <td>132</td>\n",
       "      <td>132</td>\n",
       "      <td>8.60</td>\n",
       "    </tr>\n",
       "    <tr>\n",
       "      <th>26</th>\n",
       "      <td>131</td>\n",
       "      <td>131</td>\n",
       "      <td>131</td>\n",
       "      <td>131</td>\n",
       "      <td>8.54</td>\n",
       "    </tr>\n",
       "    <tr>\n",
       "      <th>23</th>\n",
       "      <td>129</td>\n",
       "      <td>129</td>\n",
       "      <td>129</td>\n",
       "      <td>129</td>\n",
       "      <td>8.41</td>\n",
       "    </tr>\n",
       "    <tr>\n",
       "      <th>27</th>\n",
       "      <td>119</td>\n",
       "      <td>119</td>\n",
       "      <td>119</td>\n",
       "      <td>119</td>\n",
       "      <td>7.76</td>\n",
       "    </tr>\n",
       "    <tr>\n",
       "      <th>22</th>\n",
       "      <td>119</td>\n",
       "      <td>119</td>\n",
       "      <td>119</td>\n",
       "      <td>119</td>\n",
       "      <td>7.76</td>\n",
       "    </tr>\n",
       "    <tr>\n",
       "      <th>28</th>\n",
       "      <td>112</td>\n",
       "      <td>112</td>\n",
       "      <td>112</td>\n",
       "      <td>112</td>\n",
       "      <td>7.30</td>\n",
       "    </tr>\n",
       "    <tr>\n",
       "      <th>21</th>\n",
       "      <td>93</td>\n",
       "      <td>93</td>\n",
       "      <td>93</td>\n",
       "      <td>93</td>\n",
       "      <td>6.06</td>\n",
       "    </tr>\n",
       "    <tr>\n",
       "      <th>20</th>\n",
       "      <td>71</td>\n",
       "      <td>71</td>\n",
       "      <td>71</td>\n",
       "      <td>71</td>\n",
       "      <td>4.63</td>\n",
       "    </tr>\n",
       "    <tr>\n",
       "      <th>30</th>\n",
       "      <td>68</td>\n",
       "      <td>68</td>\n",
       "      <td>68</td>\n",
       "      <td>68</td>\n",
       "      <td>4.43</td>\n",
       "    </tr>\n",
       "  </tbody>\n",
       "</table>\n",
       "</div>"
      ],
      "text/plain": [
       "     user_id  name  city  subscription_type  proc\n",
       "age                                              \n",
       "25       145   145   145                145  9.45\n",
       "24       132   132   132                132  8.60\n",
       "26       131   131   131                131  8.54\n",
       "23       129   129   129                129  8.41\n",
       "27       119   119   119                119  7.76\n",
       "22       119   119   119                119  7.76\n",
       "28       112   112   112                112  7.30\n",
       "21        93    93    93                 93  6.06\n",
       "20        71    71    71                 71  4.63\n",
       "30        68    68    68                 68  4.43"
      ]
     },
     "execution_count": 61,
     "metadata": {},
     "output_type": "execute_result"
    }
   ],
   "source": [
    "#соотношение пользователей по возрасту\n",
    "data_age = data_user.groupby('age').count().sort_values(by='name', ascending=False)\n",
    "data_age['proc'] = (data_age['name'] / data_age['name'].sum()) * 100\n",
    "data_age.head(10)"
   ]
  },
  {
   "cell_type": "code",
   "execution_count": 62,
   "id": "abe870d3",
   "metadata": {},
   "outputs": [
    {
     "data": {
      "text/plain": [
       "count   1,534.00\n",
       "mean       24.90\n",
       "std         4.57\n",
       "min        12.00\n",
       "25%        22.00\n",
       "50%        25.00\n",
       "75%        28.00\n",
       "max        43.00\n",
       "Name: age, dtype: float64"
      ]
     },
     "execution_count": 62,
     "metadata": {},
     "output_type": "execute_result"
    }
   ],
   "source": [
    "data_user['age'].describe()"
   ]
  },
  {
   "cell_type": "code",
   "execution_count": 63,
   "id": "3cdf65be",
   "metadata": {
    "scrolled": false
   },
   "outputs": [
    {
     "data": {
      "application/vnd.plotly.v1+json": {
       "config": {
        "plotlyServerURL": "https://plot.ly"
       },
       "data": [
        {
         "alignmentgroup": "True",
         "hovertemplate": "Возраст=%{x}<br>Количество пользователей=%{y}<extra></extra>",
         "legendgroup": "",
         "marker": {
          "color": "#636efa",
          "pattern": {
           "shape": ""
          }
         },
         "name": "",
         "offsetgroup": "",
         "orientation": "v",
         "showlegend": false,
         "textposition": "auto",
         "type": "bar",
         "x": [
          25,
          24,
          26,
          23,
          27,
          22,
          28,
          21,
          20,
          30,
          29,
          31,
          19,
          18,
          32,
          33,
          17,
          34,
          16,
          35,
          15,
          14,
          13,
          36,
          12,
          38,
          37,
          39,
          43
         ],
         "xaxis": "x",
         "y": [
          145,
          132,
          131,
          129,
          119,
          119,
          112,
          93,
          71,
          68,
          68,
          48,
          47,
          46,
          41,
          39,
          26,
          19,
          19,
          15,
          13,
          9,
          8,
          6,
          4,
          3,
          2,
          1,
          1
         ],
         "yaxis": "y"
        }
       ],
       "layout": {
        "barmode": "relative",
        "height": 400,
        "legend": {
         "tracegroupgap": 0
        },
        "template": {
         "data": {
          "bar": [
           {
            "error_x": {
             "color": "#2a3f5f"
            },
            "error_y": {
             "color": "#2a3f5f"
            },
            "marker": {
             "line": {
              "color": "#E5ECF6",
              "width": 0.5
             },
             "pattern": {
              "fillmode": "overlay",
              "size": 10,
              "solidity": 0.2
             }
            },
            "type": "bar"
           }
          ],
          "barpolar": [
           {
            "marker": {
             "line": {
              "color": "#E5ECF6",
              "width": 0.5
             },
             "pattern": {
              "fillmode": "overlay",
              "size": 10,
              "solidity": 0.2
             }
            },
            "type": "barpolar"
           }
          ],
          "carpet": [
           {
            "aaxis": {
             "endlinecolor": "#2a3f5f",
             "gridcolor": "white",
             "linecolor": "white",
             "minorgridcolor": "white",
             "startlinecolor": "#2a3f5f"
            },
            "baxis": {
             "endlinecolor": "#2a3f5f",
             "gridcolor": "white",
             "linecolor": "white",
             "minorgridcolor": "white",
             "startlinecolor": "#2a3f5f"
            },
            "type": "carpet"
           }
          ],
          "choropleth": [
           {
            "colorbar": {
             "outlinewidth": 0,
             "ticks": ""
            },
            "type": "choropleth"
           }
          ],
          "contour": [
           {
            "colorbar": {
             "outlinewidth": 0,
             "ticks": ""
            },
            "colorscale": [
             [
              0,
              "#0d0887"
             ],
             [
              0.1111111111111111,
              "#46039f"
             ],
             [
              0.2222222222222222,
              "#7201a8"
             ],
             [
              0.3333333333333333,
              "#9c179e"
             ],
             [
              0.4444444444444444,
              "#bd3786"
             ],
             [
              0.5555555555555556,
              "#d8576b"
             ],
             [
              0.6666666666666666,
              "#ed7953"
             ],
             [
              0.7777777777777778,
              "#fb9f3a"
             ],
             [
              0.8888888888888888,
              "#fdca26"
             ],
             [
              1,
              "#f0f921"
             ]
            ],
            "type": "contour"
           }
          ],
          "contourcarpet": [
           {
            "colorbar": {
             "outlinewidth": 0,
             "ticks": ""
            },
            "type": "contourcarpet"
           }
          ],
          "heatmap": [
           {
            "colorbar": {
             "outlinewidth": 0,
             "ticks": ""
            },
            "colorscale": [
             [
              0,
              "#0d0887"
             ],
             [
              0.1111111111111111,
              "#46039f"
             ],
             [
              0.2222222222222222,
              "#7201a8"
             ],
             [
              0.3333333333333333,
              "#9c179e"
             ],
             [
              0.4444444444444444,
              "#bd3786"
             ],
             [
              0.5555555555555556,
              "#d8576b"
             ],
             [
              0.6666666666666666,
              "#ed7953"
             ],
             [
              0.7777777777777778,
              "#fb9f3a"
             ],
             [
              0.8888888888888888,
              "#fdca26"
             ],
             [
              1,
              "#f0f921"
             ]
            ],
            "type": "heatmap"
           }
          ],
          "heatmapgl": [
           {
            "colorbar": {
             "outlinewidth": 0,
             "ticks": ""
            },
            "colorscale": [
             [
              0,
              "#0d0887"
             ],
             [
              0.1111111111111111,
              "#46039f"
             ],
             [
              0.2222222222222222,
              "#7201a8"
             ],
             [
              0.3333333333333333,
              "#9c179e"
             ],
             [
              0.4444444444444444,
              "#bd3786"
             ],
             [
              0.5555555555555556,
              "#d8576b"
             ],
             [
              0.6666666666666666,
              "#ed7953"
             ],
             [
              0.7777777777777778,
              "#fb9f3a"
             ],
             [
              0.8888888888888888,
              "#fdca26"
             ],
             [
              1,
              "#f0f921"
             ]
            ],
            "type": "heatmapgl"
           }
          ],
          "histogram": [
           {
            "marker": {
             "pattern": {
              "fillmode": "overlay",
              "size": 10,
              "solidity": 0.2
             }
            },
            "type": "histogram"
           }
          ],
          "histogram2d": [
           {
            "colorbar": {
             "outlinewidth": 0,
             "ticks": ""
            },
            "colorscale": [
             [
              0,
              "#0d0887"
             ],
             [
              0.1111111111111111,
              "#46039f"
             ],
             [
              0.2222222222222222,
              "#7201a8"
             ],
             [
              0.3333333333333333,
              "#9c179e"
             ],
             [
              0.4444444444444444,
              "#bd3786"
             ],
             [
              0.5555555555555556,
              "#d8576b"
             ],
             [
              0.6666666666666666,
              "#ed7953"
             ],
             [
              0.7777777777777778,
              "#fb9f3a"
             ],
             [
              0.8888888888888888,
              "#fdca26"
             ],
             [
              1,
              "#f0f921"
             ]
            ],
            "type": "histogram2d"
           }
          ],
          "histogram2dcontour": [
           {
            "colorbar": {
             "outlinewidth": 0,
             "ticks": ""
            },
            "colorscale": [
             [
              0,
              "#0d0887"
             ],
             [
              0.1111111111111111,
              "#46039f"
             ],
             [
              0.2222222222222222,
              "#7201a8"
             ],
             [
              0.3333333333333333,
              "#9c179e"
             ],
             [
              0.4444444444444444,
              "#bd3786"
             ],
             [
              0.5555555555555556,
              "#d8576b"
             ],
             [
              0.6666666666666666,
              "#ed7953"
             ],
             [
              0.7777777777777778,
              "#fb9f3a"
             ],
             [
              0.8888888888888888,
              "#fdca26"
             ],
             [
              1,
              "#f0f921"
             ]
            ],
            "type": "histogram2dcontour"
           }
          ],
          "mesh3d": [
           {
            "colorbar": {
             "outlinewidth": 0,
             "ticks": ""
            },
            "type": "mesh3d"
           }
          ],
          "parcoords": [
           {
            "line": {
             "colorbar": {
              "outlinewidth": 0,
              "ticks": ""
             }
            },
            "type": "parcoords"
           }
          ],
          "pie": [
           {
            "automargin": true,
            "type": "pie"
           }
          ],
          "scatter": [
           {
            "marker": {
             "colorbar": {
              "outlinewidth": 0,
              "ticks": ""
             }
            },
            "type": "scatter"
           }
          ],
          "scatter3d": [
           {
            "line": {
             "colorbar": {
              "outlinewidth": 0,
              "ticks": ""
             }
            },
            "marker": {
             "colorbar": {
              "outlinewidth": 0,
              "ticks": ""
             }
            },
            "type": "scatter3d"
           }
          ],
          "scattercarpet": [
           {
            "marker": {
             "colorbar": {
              "outlinewidth": 0,
              "ticks": ""
             }
            },
            "type": "scattercarpet"
           }
          ],
          "scattergeo": [
           {
            "marker": {
             "colorbar": {
              "outlinewidth": 0,
              "ticks": ""
             }
            },
            "type": "scattergeo"
           }
          ],
          "scattergl": [
           {
            "marker": {
             "colorbar": {
              "outlinewidth": 0,
              "ticks": ""
             }
            },
            "type": "scattergl"
           }
          ],
          "scattermapbox": [
           {
            "marker": {
             "colorbar": {
              "outlinewidth": 0,
              "ticks": ""
             }
            },
            "type": "scattermapbox"
           }
          ],
          "scatterpolar": [
           {
            "marker": {
             "colorbar": {
              "outlinewidth": 0,
              "ticks": ""
             }
            },
            "type": "scatterpolar"
           }
          ],
          "scatterpolargl": [
           {
            "marker": {
             "colorbar": {
              "outlinewidth": 0,
              "ticks": ""
             }
            },
            "type": "scatterpolargl"
           }
          ],
          "scatterternary": [
           {
            "marker": {
             "colorbar": {
              "outlinewidth": 0,
              "ticks": ""
             }
            },
            "type": "scatterternary"
           }
          ],
          "surface": [
           {
            "colorbar": {
             "outlinewidth": 0,
             "ticks": ""
            },
            "colorscale": [
             [
              0,
              "#0d0887"
             ],
             [
              0.1111111111111111,
              "#46039f"
             ],
             [
              0.2222222222222222,
              "#7201a8"
             ],
             [
              0.3333333333333333,
              "#9c179e"
             ],
             [
              0.4444444444444444,
              "#bd3786"
             ],
             [
              0.5555555555555556,
              "#d8576b"
             ],
             [
              0.6666666666666666,
              "#ed7953"
             ],
             [
              0.7777777777777778,
              "#fb9f3a"
             ],
             [
              0.8888888888888888,
              "#fdca26"
             ],
             [
              1,
              "#f0f921"
             ]
            ],
            "type": "surface"
           }
          ],
          "table": [
           {
            "cells": {
             "fill": {
              "color": "#EBF0F8"
             },
             "line": {
              "color": "white"
             }
            },
            "header": {
             "fill": {
              "color": "#C8D4E3"
             },
             "line": {
              "color": "white"
             }
            },
            "type": "table"
           }
          ]
         },
         "layout": {
          "annotationdefaults": {
           "arrowcolor": "#2a3f5f",
           "arrowhead": 0,
           "arrowwidth": 1
          },
          "autotypenumbers": "strict",
          "coloraxis": {
           "colorbar": {
            "outlinewidth": 0,
            "ticks": ""
           }
          },
          "colorscale": {
           "diverging": [
            [
             0,
             "#8e0152"
            ],
            [
             0.1,
             "#c51b7d"
            ],
            [
             0.2,
             "#de77ae"
            ],
            [
             0.3,
             "#f1b6da"
            ],
            [
             0.4,
             "#fde0ef"
            ],
            [
             0.5,
             "#f7f7f7"
            ],
            [
             0.6,
             "#e6f5d0"
            ],
            [
             0.7,
             "#b8e186"
            ],
            [
             0.8,
             "#7fbc41"
            ],
            [
             0.9,
             "#4d9221"
            ],
            [
             1,
             "#276419"
            ]
           ],
           "sequential": [
            [
             0,
             "#0d0887"
            ],
            [
             0.1111111111111111,
             "#46039f"
            ],
            [
             0.2222222222222222,
             "#7201a8"
            ],
            [
             0.3333333333333333,
             "#9c179e"
            ],
            [
             0.4444444444444444,
             "#bd3786"
            ],
            [
             0.5555555555555556,
             "#d8576b"
            ],
            [
             0.6666666666666666,
             "#ed7953"
            ],
            [
             0.7777777777777778,
             "#fb9f3a"
            ],
            [
             0.8888888888888888,
             "#fdca26"
            ],
            [
             1,
             "#f0f921"
            ]
           ],
           "sequentialminus": [
            [
             0,
             "#0d0887"
            ],
            [
             0.1111111111111111,
             "#46039f"
            ],
            [
             0.2222222222222222,
             "#7201a8"
            ],
            [
             0.3333333333333333,
             "#9c179e"
            ],
            [
             0.4444444444444444,
             "#bd3786"
            ],
            [
             0.5555555555555556,
             "#d8576b"
            ],
            [
             0.6666666666666666,
             "#ed7953"
            ],
            [
             0.7777777777777778,
             "#fb9f3a"
            ],
            [
             0.8888888888888888,
             "#fdca26"
            ],
            [
             1,
             "#f0f921"
            ]
           ]
          },
          "colorway": [
           "#636efa",
           "#EF553B",
           "#00cc96",
           "#ab63fa",
           "#FFA15A",
           "#19d3f3",
           "#FF6692",
           "#B6E880",
           "#FF97FF",
           "#FECB52"
          ],
          "font": {
           "color": "#2a3f5f"
          },
          "geo": {
           "bgcolor": "white",
           "lakecolor": "white",
           "landcolor": "#E5ECF6",
           "showlakes": true,
           "showland": true,
           "subunitcolor": "white"
          },
          "hoverlabel": {
           "align": "left"
          },
          "hovermode": "closest",
          "mapbox": {
           "style": "light"
          },
          "paper_bgcolor": "white",
          "plot_bgcolor": "#E5ECF6",
          "polar": {
           "angularaxis": {
            "gridcolor": "white",
            "linecolor": "white",
            "ticks": ""
           },
           "bgcolor": "#E5ECF6",
           "radialaxis": {
            "gridcolor": "white",
            "linecolor": "white",
            "ticks": ""
           }
          },
          "scene": {
           "xaxis": {
            "backgroundcolor": "#E5ECF6",
            "gridcolor": "white",
            "gridwidth": 2,
            "linecolor": "white",
            "showbackground": true,
            "ticks": "",
            "zerolinecolor": "white"
           },
           "yaxis": {
            "backgroundcolor": "#E5ECF6",
            "gridcolor": "white",
            "gridwidth": 2,
            "linecolor": "white",
            "showbackground": true,
            "ticks": "",
            "zerolinecolor": "white"
           },
           "zaxis": {
            "backgroundcolor": "#E5ECF6",
            "gridcolor": "white",
            "gridwidth": 2,
            "linecolor": "white",
            "showbackground": true,
            "ticks": "",
            "zerolinecolor": "white"
           }
          },
          "shapedefaults": {
           "line": {
            "color": "#2a3f5f"
           }
          },
          "ternary": {
           "aaxis": {
            "gridcolor": "white",
            "linecolor": "white",
            "ticks": ""
           },
           "baxis": {
            "gridcolor": "white",
            "linecolor": "white",
            "ticks": ""
           },
           "bgcolor": "#E5ECF6",
           "caxis": {
            "gridcolor": "white",
            "linecolor": "white",
            "ticks": ""
           }
          },
          "title": {
           "x": 0.05
          },
          "xaxis": {
           "automargin": true,
           "gridcolor": "white",
           "linecolor": "white",
           "ticks": "",
           "title": {
            "standoff": 15
           },
           "zerolinecolor": "white",
           "zerolinewidth": 2
          },
          "yaxis": {
           "automargin": true,
           "gridcolor": "white",
           "linecolor": "white",
           "ticks": "",
           "title": {
            "standoff": 15
           },
           "zerolinecolor": "white",
           "zerolinewidth": 2
          }
         }
        },
        "title": {
         "text": "Количество пользователей по возрасту"
        },
        "xaxis": {
         "anchor": "y",
         "domain": [
          0,
          1
         ],
         "title": {
          "text": "Возраст"
         }
        },
        "yaxis": {
         "anchor": "x",
         "domain": [
          0,
          1
         ],
         "title": {
          "text": "Количество пользователей"
         }
        }
       }
      },
      "text/html": [
       "<div>                            <div id=\"9844d274-d46d-4f6d-ace2-102fd39ec61a\" class=\"plotly-graph-div\" style=\"height:400px; width:100%;\"></div>            <script type=\"text/javascript\">                require([\"plotly\"], function(Plotly) {                    window.PLOTLYENV=window.PLOTLYENV || {};                                    if (document.getElementById(\"9844d274-d46d-4f6d-ace2-102fd39ec61a\")) {                    Plotly.newPlot(                        \"9844d274-d46d-4f6d-ace2-102fd39ec61a\",                        [{\"alignmentgroup\":\"True\",\"hovertemplate\":\"\\u0412\\u043e\\u0437\\u0440\\u0430\\u0441\\u0442=%{x}<br>\\u041a\\u043e\\u043b\\u0438\\u0447\\u0435\\u0441\\u0442\\u0432\\u043e \\u043f\\u043e\\u043b\\u044c\\u0437\\u043e\\u0432\\u0430\\u0442\\u0435\\u043b\\u0435\\u0439=%{y}<extra></extra>\",\"legendgroup\":\"\",\"marker\":{\"color\":\"#636efa\",\"pattern\":{\"shape\":\"\"}},\"name\":\"\",\"offsetgroup\":\"\",\"orientation\":\"v\",\"showlegend\":false,\"textposition\":\"auto\",\"x\":[25,24,26,23,27,22,28,21,20,30,29,31,19,18,32,33,17,34,16,35,15,14,13,36,12,38,37,39,43],\"xaxis\":\"x\",\"y\":[145,132,131,129,119,119,112,93,71,68,68,48,47,46,41,39,26,19,19,15,13,9,8,6,4,3,2,1,1],\"yaxis\":\"y\",\"type\":\"bar\"}],                        {\"template\":{\"data\":{\"bar\":[{\"error_x\":{\"color\":\"#2a3f5f\"},\"error_y\":{\"color\":\"#2a3f5f\"},\"marker\":{\"line\":{\"color\":\"#E5ECF6\",\"width\":0.5},\"pattern\":{\"fillmode\":\"overlay\",\"size\":10,\"solidity\":0.2}},\"type\":\"bar\"}],\"barpolar\":[{\"marker\":{\"line\":{\"color\":\"#E5ECF6\",\"width\":0.5},\"pattern\":{\"fillmode\":\"overlay\",\"size\":10,\"solidity\":0.2}},\"type\":\"barpolar\"}],\"carpet\":[{\"aaxis\":{\"endlinecolor\":\"#2a3f5f\",\"gridcolor\":\"white\",\"linecolor\":\"white\",\"minorgridcolor\":\"white\",\"startlinecolor\":\"#2a3f5f\"},\"baxis\":{\"endlinecolor\":\"#2a3f5f\",\"gridcolor\":\"white\",\"linecolor\":\"white\",\"minorgridcolor\":\"white\",\"startlinecolor\":\"#2a3f5f\"},\"type\":\"carpet\"}],\"choropleth\":[{\"colorbar\":{\"outlinewidth\":0,\"ticks\":\"\"},\"type\":\"choropleth\"}],\"contour\":[{\"colorbar\":{\"outlinewidth\":0,\"ticks\":\"\"},\"colorscale\":[[0.0,\"#0d0887\"],[0.1111111111111111,\"#46039f\"],[0.2222222222222222,\"#7201a8\"],[0.3333333333333333,\"#9c179e\"],[0.4444444444444444,\"#bd3786\"],[0.5555555555555556,\"#d8576b\"],[0.6666666666666666,\"#ed7953\"],[0.7777777777777778,\"#fb9f3a\"],[0.8888888888888888,\"#fdca26\"],[1.0,\"#f0f921\"]],\"type\":\"contour\"}],\"contourcarpet\":[{\"colorbar\":{\"outlinewidth\":0,\"ticks\":\"\"},\"type\":\"contourcarpet\"}],\"heatmap\":[{\"colorbar\":{\"outlinewidth\":0,\"ticks\":\"\"},\"colorscale\":[[0.0,\"#0d0887\"],[0.1111111111111111,\"#46039f\"],[0.2222222222222222,\"#7201a8\"],[0.3333333333333333,\"#9c179e\"],[0.4444444444444444,\"#bd3786\"],[0.5555555555555556,\"#d8576b\"],[0.6666666666666666,\"#ed7953\"],[0.7777777777777778,\"#fb9f3a\"],[0.8888888888888888,\"#fdca26\"],[1.0,\"#f0f921\"]],\"type\":\"heatmap\"}],\"heatmapgl\":[{\"colorbar\":{\"outlinewidth\":0,\"ticks\":\"\"},\"colorscale\":[[0.0,\"#0d0887\"],[0.1111111111111111,\"#46039f\"],[0.2222222222222222,\"#7201a8\"],[0.3333333333333333,\"#9c179e\"],[0.4444444444444444,\"#bd3786\"],[0.5555555555555556,\"#d8576b\"],[0.6666666666666666,\"#ed7953\"],[0.7777777777777778,\"#fb9f3a\"],[0.8888888888888888,\"#fdca26\"],[1.0,\"#f0f921\"]],\"type\":\"heatmapgl\"}],\"histogram\":[{\"marker\":{\"pattern\":{\"fillmode\":\"overlay\",\"size\":10,\"solidity\":0.2}},\"type\":\"histogram\"}],\"histogram2d\":[{\"colorbar\":{\"outlinewidth\":0,\"ticks\":\"\"},\"colorscale\":[[0.0,\"#0d0887\"],[0.1111111111111111,\"#46039f\"],[0.2222222222222222,\"#7201a8\"],[0.3333333333333333,\"#9c179e\"],[0.4444444444444444,\"#bd3786\"],[0.5555555555555556,\"#d8576b\"],[0.6666666666666666,\"#ed7953\"],[0.7777777777777778,\"#fb9f3a\"],[0.8888888888888888,\"#fdca26\"],[1.0,\"#f0f921\"]],\"type\":\"histogram2d\"}],\"histogram2dcontour\":[{\"colorbar\":{\"outlinewidth\":0,\"ticks\":\"\"},\"colorscale\":[[0.0,\"#0d0887\"],[0.1111111111111111,\"#46039f\"],[0.2222222222222222,\"#7201a8\"],[0.3333333333333333,\"#9c179e\"],[0.4444444444444444,\"#bd3786\"],[0.5555555555555556,\"#d8576b\"],[0.6666666666666666,\"#ed7953\"],[0.7777777777777778,\"#fb9f3a\"],[0.8888888888888888,\"#fdca26\"],[1.0,\"#f0f921\"]],\"type\":\"histogram2dcontour\"}],\"mesh3d\":[{\"colorbar\":{\"outlinewidth\":0,\"ticks\":\"\"},\"type\":\"mesh3d\"}],\"parcoords\":[{\"line\":{\"colorbar\":{\"outlinewidth\":0,\"ticks\":\"\"}},\"type\":\"parcoords\"}],\"pie\":[{\"automargin\":true,\"type\":\"pie\"}],\"scatter\":[{\"marker\":{\"colorbar\":{\"outlinewidth\":0,\"ticks\":\"\"}},\"type\":\"scatter\"}],\"scatter3d\":[{\"line\":{\"colorbar\":{\"outlinewidth\":0,\"ticks\":\"\"}},\"marker\":{\"colorbar\":{\"outlinewidth\":0,\"ticks\":\"\"}},\"type\":\"scatter3d\"}],\"scattercarpet\":[{\"marker\":{\"colorbar\":{\"outlinewidth\":0,\"ticks\":\"\"}},\"type\":\"scattercarpet\"}],\"scattergeo\":[{\"marker\":{\"colorbar\":{\"outlinewidth\":0,\"ticks\":\"\"}},\"type\":\"scattergeo\"}],\"scattergl\":[{\"marker\":{\"colorbar\":{\"outlinewidth\":0,\"ticks\":\"\"}},\"type\":\"scattergl\"}],\"scattermapbox\":[{\"marker\":{\"colorbar\":{\"outlinewidth\":0,\"ticks\":\"\"}},\"type\":\"scattermapbox\"}],\"scatterpolar\":[{\"marker\":{\"colorbar\":{\"outlinewidth\":0,\"ticks\":\"\"}},\"type\":\"scatterpolar\"}],\"scatterpolargl\":[{\"marker\":{\"colorbar\":{\"outlinewidth\":0,\"ticks\":\"\"}},\"type\":\"scatterpolargl\"}],\"scatterternary\":[{\"marker\":{\"colorbar\":{\"outlinewidth\":0,\"ticks\":\"\"}},\"type\":\"scatterternary\"}],\"surface\":[{\"colorbar\":{\"outlinewidth\":0,\"ticks\":\"\"},\"colorscale\":[[0.0,\"#0d0887\"],[0.1111111111111111,\"#46039f\"],[0.2222222222222222,\"#7201a8\"],[0.3333333333333333,\"#9c179e\"],[0.4444444444444444,\"#bd3786\"],[0.5555555555555556,\"#d8576b\"],[0.6666666666666666,\"#ed7953\"],[0.7777777777777778,\"#fb9f3a\"],[0.8888888888888888,\"#fdca26\"],[1.0,\"#f0f921\"]],\"type\":\"surface\"}],\"table\":[{\"cells\":{\"fill\":{\"color\":\"#EBF0F8\"},\"line\":{\"color\":\"white\"}},\"header\":{\"fill\":{\"color\":\"#C8D4E3\"},\"line\":{\"color\":\"white\"}},\"type\":\"table\"}]},\"layout\":{\"annotationdefaults\":{\"arrowcolor\":\"#2a3f5f\",\"arrowhead\":0,\"arrowwidth\":1},\"autotypenumbers\":\"strict\",\"coloraxis\":{\"colorbar\":{\"outlinewidth\":0,\"ticks\":\"\"}},\"colorscale\":{\"diverging\":[[0,\"#8e0152\"],[0.1,\"#c51b7d\"],[0.2,\"#de77ae\"],[0.3,\"#f1b6da\"],[0.4,\"#fde0ef\"],[0.5,\"#f7f7f7\"],[0.6,\"#e6f5d0\"],[0.7,\"#b8e186\"],[0.8,\"#7fbc41\"],[0.9,\"#4d9221\"],[1,\"#276419\"]],\"sequential\":[[0.0,\"#0d0887\"],[0.1111111111111111,\"#46039f\"],[0.2222222222222222,\"#7201a8\"],[0.3333333333333333,\"#9c179e\"],[0.4444444444444444,\"#bd3786\"],[0.5555555555555556,\"#d8576b\"],[0.6666666666666666,\"#ed7953\"],[0.7777777777777778,\"#fb9f3a\"],[0.8888888888888888,\"#fdca26\"],[1.0,\"#f0f921\"]],\"sequentialminus\":[[0.0,\"#0d0887\"],[0.1111111111111111,\"#46039f\"],[0.2222222222222222,\"#7201a8\"],[0.3333333333333333,\"#9c179e\"],[0.4444444444444444,\"#bd3786\"],[0.5555555555555556,\"#d8576b\"],[0.6666666666666666,\"#ed7953\"],[0.7777777777777778,\"#fb9f3a\"],[0.8888888888888888,\"#fdca26\"],[1.0,\"#f0f921\"]]},\"colorway\":[\"#636efa\",\"#EF553B\",\"#00cc96\",\"#ab63fa\",\"#FFA15A\",\"#19d3f3\",\"#FF6692\",\"#B6E880\",\"#FF97FF\",\"#FECB52\"],\"font\":{\"color\":\"#2a3f5f\"},\"geo\":{\"bgcolor\":\"white\",\"lakecolor\":\"white\",\"landcolor\":\"#E5ECF6\",\"showlakes\":true,\"showland\":true,\"subunitcolor\":\"white\"},\"hoverlabel\":{\"align\":\"left\"},\"hovermode\":\"closest\",\"mapbox\":{\"style\":\"light\"},\"paper_bgcolor\":\"white\",\"plot_bgcolor\":\"#E5ECF6\",\"polar\":{\"angularaxis\":{\"gridcolor\":\"white\",\"linecolor\":\"white\",\"ticks\":\"\"},\"bgcolor\":\"#E5ECF6\",\"radialaxis\":{\"gridcolor\":\"white\",\"linecolor\":\"white\",\"ticks\":\"\"}},\"scene\":{\"xaxis\":{\"backgroundcolor\":\"#E5ECF6\",\"gridcolor\":\"white\",\"gridwidth\":2,\"linecolor\":\"white\",\"showbackground\":true,\"ticks\":\"\",\"zerolinecolor\":\"white\"},\"yaxis\":{\"backgroundcolor\":\"#E5ECF6\",\"gridcolor\":\"white\",\"gridwidth\":2,\"linecolor\":\"white\",\"showbackground\":true,\"ticks\":\"\",\"zerolinecolor\":\"white\"},\"zaxis\":{\"backgroundcolor\":\"#E5ECF6\",\"gridcolor\":\"white\",\"gridwidth\":2,\"linecolor\":\"white\",\"showbackground\":true,\"ticks\":\"\",\"zerolinecolor\":\"white\"}},\"shapedefaults\":{\"line\":{\"color\":\"#2a3f5f\"}},\"ternary\":{\"aaxis\":{\"gridcolor\":\"white\",\"linecolor\":\"white\",\"ticks\":\"\"},\"baxis\":{\"gridcolor\":\"white\",\"linecolor\":\"white\",\"ticks\":\"\"},\"bgcolor\":\"#E5ECF6\",\"caxis\":{\"gridcolor\":\"white\",\"linecolor\":\"white\",\"ticks\":\"\"}},\"title\":{\"x\":0.05},\"xaxis\":{\"automargin\":true,\"gridcolor\":\"white\",\"linecolor\":\"white\",\"ticks\":\"\",\"title\":{\"standoff\":15},\"zerolinecolor\":\"white\",\"zerolinewidth\":2},\"yaxis\":{\"automargin\":true,\"gridcolor\":\"white\",\"linecolor\":\"white\",\"ticks\":\"\",\"title\":{\"standoff\":15},\"zerolinecolor\":\"white\",\"zerolinewidth\":2}}},\"xaxis\":{\"anchor\":\"y\",\"domain\":[0.0,1.0],\"title\":{\"text\":\"\\u0412\\u043e\\u0437\\u0440\\u0430\\u0441\\u0442\"}},\"yaxis\":{\"anchor\":\"x\",\"domain\":[0.0,1.0],\"title\":{\"text\":\"\\u041a\\u043e\\u043b\\u0438\\u0447\\u0435\\u0441\\u0442\\u0432\\u043e \\u043f\\u043e\\u043b\\u044c\\u0437\\u043e\\u0432\\u0430\\u0442\\u0435\\u043b\\u0435\\u0439\"}},\"legend\":{\"tracegroupgap\":0},\"title\":{\"text\":\"\\u041a\\u043e\\u043b\\u0438\\u0447\\u0435\\u0441\\u0442\\u0432\\u043e \\u043f\\u043e\\u043b\\u044c\\u0437\\u043e\\u0432\\u0430\\u0442\\u0435\\u043b\\u0435\\u0439 \\u043f\\u043e \\u0432\\u043e\\u0437\\u0440\\u0430\\u0441\\u0442\\u0443\"},\"barmode\":\"relative\",\"height\":400},                        {\"responsive\": true}                    ).then(function(){\n",
       "                            \n",
       "var gd = document.getElementById('9844d274-d46d-4f6d-ace2-102fd39ec61a');\n",
       "var x = new MutationObserver(function (mutations, observer) {{\n",
       "        var display = window.getComputedStyle(gd).display;\n",
       "        if (!display || display === 'none') {{\n",
       "            console.log([gd, 'removed!']);\n",
       "            Plotly.purge(gd);\n",
       "            observer.disconnect();\n",
       "        }}\n",
       "}});\n",
       "\n",
       "// Listen for the removal of the full notebook cells\n",
       "var notebookContainer = gd.closest('#notebook-container');\n",
       "if (notebookContainer) {{\n",
       "    x.observe(notebookContainer, {childList: true});\n",
       "}}\n",
       "\n",
       "// Listen for the clearing of the current output cell\n",
       "var outputEl = gd.closest('.output');\n",
       "if (outputEl) {{\n",
       "    x.observe(outputEl, {childList: true});\n",
       "}}\n",
       "\n",
       "                        })                };                });            </script>        </div>"
      ]
     },
     "metadata": {},
     "output_type": "display_data"
    }
   ],
   "source": [
    "#визуализируем данные\n",
    "fig = px.bar(data_age, x=data_age.index, y='name',\n",
    "             title='Количество пользователей по возрасту',\n",
    "             labels={'name':'Количество пользователей', 'age':'Возраст'}, height=400)\n",
    "fig.show()"
   ]
  },
  {
   "cell_type": "markdown",
   "id": "ae8fb492",
   "metadata": {},
   "source": [
    "В приложении регистрируются пользователи от 12 до 43 лет. В этом диапазоне больше всех зарегистрированных в возрасте 25 лет (почти 10% от всех пользователей) с нормальным распределением остальных возрастов вокруг этого значения."
   ]
  },
  {
   "cell_type": "markdown",
   "id": "0de097db",
   "metadata": {},
   "source": [
    "<a id=\"8\"></a>\n",
    "#### Расстояние, которое пользователь преодолел за одну поездку"
   ]
  },
  {
   "cell_type": "code",
   "execution_count": 64,
   "id": "6329b60b",
   "metadata": {},
   "outputs": [
    {
     "data": {
      "text/plain": [
       "count   18,068.00\n",
       "mean     3,070.66\n",
       "std      1,116.83\n",
       "min          1.00\n",
       "25%      2,543.00\n",
       "50%      3,134.00\n",
       "75%      3,776.00\n",
       "max      7,211.00\n",
       "Name: distance, dtype: float64"
      ]
     },
     "execution_count": 64,
     "metadata": {},
     "output_type": "execute_result"
    }
   ],
   "source": [
    "data_go['distance'].describe()"
   ]
  },
  {
   "cell_type": "code",
   "execution_count": 65,
   "id": "8f350e66",
   "metadata": {},
   "outputs": [
    {
     "data": {
      "image/png": "[encoded data removed]",
      "text/plain": [
       "<Figure size 1080x360 with 1 Axes>"
      ]
     },
     "metadata": {
      "needs_background": "light"
     },
     "output_type": "display_data"
    }
   ],
   "source": [
    "#визуализируем данные\n",
    "data_go['distance'].hist(bins=80, figsize=(15, 5))\n",
    "plt.show()"
   ]
  },
  {
   "cell_type": "markdown",
   "id": "bac3ad3c",
   "metadata": {},
   "source": [
    "Чаще всего дальность поездок - это около 3000 метров (среднее 3070, а медиана 3133). Распредление выглядит нормально, за исключением дополнительного всплеска в районе 600 метров, что требует более детального изучения."
   ]
  },
  {
   "cell_type": "markdown",
   "id": "ef7f7ef8",
   "metadata": {},
   "source": [
    "<a id=\"9\"></a>\n",
    "#### Продолжительность поездок"
   ]
  },
  {
   "cell_type": "code",
   "execution_count": 66,
   "id": "8abcde2f",
   "metadata": {},
   "outputs": [
    {
     "data": {
      "text/plain": [
       "count   18,068.00\n",
       "mean        17.80\n",
       "std          6.10\n",
       "min          0.00\n",
       "25%         14.00\n",
       "50%         18.00\n",
       "75%         22.00\n",
       "max         41.00\n",
       "Name: duration, dtype: float64"
      ]
     },
     "execution_count": 66,
     "metadata": {},
     "output_type": "execute_result"
    }
   ],
   "source": [
    "data_go['duration'].describe()"
   ]
  },
  {
   "cell_type": "code",
   "execution_count": 67,
   "id": "b6d01f0c",
   "metadata": {
    "scrolled": true
   },
   "outputs": [
    {
     "data": {
      "image/png": "[encoded data removed]",
      "text/plain": [
       "<Figure size 1080x360 with 1 Axes>"
      ]
     },
     "metadata": {
      "needs_background": "light"
     },
     "output_type": "display_data"
    }
   ],
   "source": [
    "#визуализируем данные\n",
    "data_go['duration'].hist(bins=60, figsize=(15, 5))\n",
    "plt.show()"
   ]
  },
  {
   "cell_type": "markdown",
   "id": "a214b0bc",
   "metadata": {},
   "source": [
    "Средняя прододжительность одной поездки около 18 минут. Также был выявлен нестандартный вплеск значений в районе 1 секунды, что также требует детального анализа."
   ]
  },
  {
   "cell_type": "markdown",
   "id": "51397ea0",
   "metadata": {},
   "source": [
    "Подытог: приложение популярно больше всего у жителей Пятигорска, в то время как Москва по количеству пользователей представлена на последнем месте, что не типично с учетом численности этого города. Стоит обратить внимание еще и на то, что больше половины пользователей не имеют подписки. Это требует пристального внимания маркетинга. \n",
    "\n",
    "Средний возраст пользователя самокатом - 25 лет. Дальность поездки - обычно 3 км. Имеется нетипичный всплеск данных в поездках в районе 600 метров. Длительность поездки в среднем - 18 минут. Здесь также заметен нетипичный всплекс поездок длительностью 1 секунда, что может быть связано с особенностями работы тарификации или приложения."
   ]
  },
  {
   "cell_type": "markdown",
   "id": "4ef51331",
   "metadata": {},
   "source": [
    "<a id=\"10\"></a>\n",
    "## Объединение данных"
   ]
  },
  {
   "cell_type": "markdown",
   "id": "091a9d2e",
   "metadata": {},
   "source": [
    "<a id=\"11\"></a>\n",
    "#### Создадим объединенный датафрейм"
   ]
  },
  {
   "cell_type": "code",
   "execution_count": 68,
   "id": "02056a92",
   "metadata": {
    "scrolled": false
   },
   "outputs": [
    {
     "data": {
      "text/html": [
       "<div>\n",
       "<style scoped>\n",
       "    .dataframe tbody tr th:only-of-type {\n",
       "        vertical-align: middle;\n",
       "    }\n",
       "\n",
       "    .dataframe tbody tr th {\n",
       "        vertical-align: top;\n",
       "    }\n",
       "\n",
       "    .dataframe thead th {\n",
       "        text-align: right;\n",
       "    }\n",
       "</style>\n",
       "<table border=\"1\" class=\"dataframe\">\n",
       "  <thead>\n",
       "    <tr style=\"text-align: right;\">\n",
       "      <th></th>\n",
       "      <th>user_id</th>\n",
       "      <th>name</th>\n",
       "      <th>age</th>\n",
       "      <th>city</th>\n",
       "      <th>subscription_type</th>\n",
       "      <th>distance</th>\n",
       "      <th>duration</th>\n",
       "      <th>date</th>\n",
       "      <th>month</th>\n",
       "      <th>minute_price</th>\n",
       "      <th>start_ride_price</th>\n",
       "      <th>subscription_fee</th>\n",
       "    </tr>\n",
       "  </thead>\n",
       "  <tbody>\n",
       "    <tr>\n",
       "      <th>0</th>\n",
       "      <td>1</td>\n",
       "      <td>Кира</td>\n",
       "      <td>22</td>\n",
       "      <td>Тюмень</td>\n",
       "      <td>ultra</td>\n",
       "      <td>4410</td>\n",
       "      <td>26</td>\n",
       "      <td>2021-01-01</td>\n",
       "      <td>1</td>\n",
       "      <td>6</td>\n",
       "      <td>0</td>\n",
       "      <td>199</td>\n",
       "    </tr>\n",
       "    <tr>\n",
       "      <th>1</th>\n",
       "      <td>1</td>\n",
       "      <td>Кира</td>\n",
       "      <td>22</td>\n",
       "      <td>Тюмень</td>\n",
       "      <td>ultra</td>\n",
       "      <td>2618</td>\n",
       "      <td>16</td>\n",
       "      <td>2021-01-18</td>\n",
       "      <td>1</td>\n",
       "      <td>6</td>\n",
       "      <td>0</td>\n",
       "      <td>199</td>\n",
       "    </tr>\n",
       "    <tr>\n",
       "      <th>2</th>\n",
       "      <td>1</td>\n",
       "      <td>Кира</td>\n",
       "      <td>22</td>\n",
       "      <td>Тюмень</td>\n",
       "      <td>ultra</td>\n",
       "      <td>754</td>\n",
       "      <td>6</td>\n",
       "      <td>2021-04-20</td>\n",
       "      <td>4</td>\n",
       "      <td>6</td>\n",
       "      <td>0</td>\n",
       "      <td>199</td>\n",
       "    </tr>\n",
       "    <tr>\n",
       "      <th>3</th>\n",
       "      <td>1</td>\n",
       "      <td>Кира</td>\n",
       "      <td>22</td>\n",
       "      <td>Тюмень</td>\n",
       "      <td>ultra</td>\n",
       "      <td>2695</td>\n",
       "      <td>19</td>\n",
       "      <td>2021-08-11</td>\n",
       "      <td>8</td>\n",
       "      <td>6</td>\n",
       "      <td>0</td>\n",
       "      <td>199</td>\n",
       "    </tr>\n",
       "    <tr>\n",
       "      <th>4</th>\n",
       "      <td>1</td>\n",
       "      <td>Кира</td>\n",
       "      <td>22</td>\n",
       "      <td>Тюмень</td>\n",
       "      <td>ultra</td>\n",
       "      <td>4029</td>\n",
       "      <td>26</td>\n",
       "      <td>2021-08-28</td>\n",
       "      <td>8</td>\n",
       "      <td>6</td>\n",
       "      <td>0</td>\n",
       "      <td>199</td>\n",
       "    </tr>\n",
       "  </tbody>\n",
       "</table>\n",
       "</div>"
      ],
      "text/plain": [
       "   user_id  name  age    city subscription_type  distance  duration  \\\n",
       "0        1  Кира   22  Тюмень             ultra      4410        26   \n",
       "1        1  Кира   22  Тюмень             ultra      2618        16   \n",
       "2        1  Кира   22  Тюмень             ultra       754         6   \n",
       "3        1  Кира   22  Тюмень             ultra      2695        19   \n",
       "4        1  Кира   22  Тюмень             ultra      4029        26   \n",
       "\n",
       "        date  month  minute_price  start_ride_price  subscription_fee  \n",
       "0 2021-01-01      1             6                 0               199  \n",
       "1 2021-01-18      1             6                 0               199  \n",
       "2 2021-04-20      4             6                 0               199  \n",
       "3 2021-08-11      8             6                 0               199  \n",
       "4 2021-08-28      8             6                 0               199  "
      ]
     },
     "execution_count": 68,
     "metadata": {},
     "output_type": "execute_result"
    }
   ],
   "source": [
    "data = data_user.merge(data_go, how='inner', on='user_id') \\\n",
    "              .merge(data_sub, how='inner', on='subscription_type')\n",
    "data.head()"
   ]
  },
  {
   "cell_type": "code",
   "execution_count": 69,
   "id": "13284ad4",
   "metadata": {
    "scrolled": false
   },
   "outputs": [
    {
     "name": "stdout",
     "output_type": "stream",
     "text": [
      "Количество строк data_go: 18068\n",
      "Количество строк ПОСЛЕ объединения: 18068\n",
      "Количество пользователей ДО объединения: 1534\n",
      "Количество пользователей ПОСЛЕ объединения: 1534\n"
     ]
    }
   ],
   "source": [
    "#проверим данные после объединения, так как размерность таблиц разная, будем отталкиваться от самой большой таблицы data_go\n",
    "print(\"Количество строк data_go:\", data_go['user_id'].count())\n",
    "print(\"Количество строк ПОСЛЕ объединения:\", data['user_id'].count())\n",
    "#проверим количество пользователей в первоначальном файле и ПОСЛЕ объединенном\n",
    "print(\"Количество пользователей ДО объединения:\", len(data_user['user_id'].unique()))\n",
    "print(\"Количество пользователей ПОСЛЕ объединения:\", len(data['user_id'].unique()))"
   ]
  },
  {
   "cell_type": "code",
   "execution_count": 70,
   "id": "4088eb89",
   "metadata": {
    "scrolled": true
   },
   "outputs": [
    {
     "name": "stdout",
     "output_type": "stream",
     "text": [
      "Количество явных дубликатов 0\n",
      "\n",
      "Количество пропусков user_id              0\n",
      "name                 0\n",
      "age                  0\n",
      "city                 0\n",
      "subscription_type    0\n",
      "distance             0\n",
      "duration             0\n",
      "date                 0\n",
      "month                0\n",
      "minute_price         0\n",
      "start_ride_price     0\n",
      "subscription_fee     0\n",
      "dtype: int64\n"
     ]
    }
   ],
   "source": [
    "#проверим датафрейм на дубликаты и пропуски\n",
    "print('Количество явных дубликатов', data.duplicated().sum())\n",
    "print()\n",
    "print('Количество пропусков', data.isna().sum().sort_values())"
   ]
  },
  {
   "cell_type": "markdown",
   "id": "0e77dbec",
   "metadata": {},
   "source": [
    "<a id=\"11\"></a>\n",
    "#### Создадим ещё два датафрейма:"
   ]
  },
  {
   "cell_type": "markdown",
   "id": "7ac7ab6b",
   "metadata": {},
   "source": [
    "c данными о пользователях без подписки;     \n",
    "с данными о пользователях с подпиской."
   ]
  },
  {
   "cell_type": "code",
   "execution_count": 71,
   "id": "d78f976f",
   "metadata": {
    "scrolled": true
   },
   "outputs": [
    {
     "data": {
      "text/html": [
       "<div>\n",
       "<style scoped>\n",
       "    .dataframe tbody tr th:only-of-type {\n",
       "        vertical-align: middle;\n",
       "    }\n",
       "\n",
       "    .dataframe tbody tr th {\n",
       "        vertical-align: top;\n",
       "    }\n",
       "\n",
       "    .dataframe thead th {\n",
       "        text-align: right;\n",
       "    }\n",
       "</style>\n",
       "<table border=\"1\" class=\"dataframe\">\n",
       "  <thead>\n",
       "    <tr style=\"text-align: right;\">\n",
       "      <th></th>\n",
       "      <th>user_id</th>\n",
       "      <th>name</th>\n",
       "      <th>age</th>\n",
       "      <th>city</th>\n",
       "      <th>subscription_type</th>\n",
       "      <th>distance</th>\n",
       "      <th>duration</th>\n",
       "      <th>date</th>\n",
       "      <th>month</th>\n",
       "      <th>minute_price</th>\n",
       "      <th>start_ride_price</th>\n",
       "      <th>subscription_fee</th>\n",
       "    </tr>\n",
       "  </thead>\n",
       "  <tbody>\n",
       "    <tr>\n",
       "      <th>6500</th>\n",
       "      <td>700</td>\n",
       "      <td>Айдар</td>\n",
       "      <td>22</td>\n",
       "      <td>Омск</td>\n",
       "      <td>free</td>\n",
       "      <td>2516</td>\n",
       "      <td>15</td>\n",
       "      <td>2021-01-02</td>\n",
       "      <td>1</td>\n",
       "      <td>8</td>\n",
       "      <td>50</td>\n",
       "      <td>0</td>\n",
       "    </tr>\n",
       "    <tr>\n",
       "      <th>6501</th>\n",
       "      <td>700</td>\n",
       "      <td>Айдар</td>\n",
       "      <td>22</td>\n",
       "      <td>Омск</td>\n",
       "      <td>free</td>\n",
       "      <td>847</td>\n",
       "      <td>16</td>\n",
       "      <td>2021-02-01</td>\n",
       "      <td>2</td>\n",
       "      <td>8</td>\n",
       "      <td>50</td>\n",
       "      <td>0</td>\n",
       "    </tr>\n",
       "    <tr>\n",
       "      <th>6502</th>\n",
       "      <td>700</td>\n",
       "      <td>Айдар</td>\n",
       "      <td>22</td>\n",
       "      <td>Омск</td>\n",
       "      <td>free</td>\n",
       "      <td>4004</td>\n",
       "      <td>20</td>\n",
       "      <td>2021-02-04</td>\n",
       "      <td>2</td>\n",
       "      <td>8</td>\n",
       "      <td>50</td>\n",
       "      <td>0</td>\n",
       "    </tr>\n",
       "    <tr>\n",
       "      <th>6503</th>\n",
       "      <td>700</td>\n",
       "      <td>Айдар</td>\n",
       "      <td>22</td>\n",
       "      <td>Омск</td>\n",
       "      <td>free</td>\n",
       "      <td>1206</td>\n",
       "      <td>10</td>\n",
       "      <td>2021-02-10</td>\n",
       "      <td>2</td>\n",
       "      <td>8</td>\n",
       "      <td>50</td>\n",
       "      <td>0</td>\n",
       "    </tr>\n",
       "    <tr>\n",
       "      <th>6504</th>\n",
       "      <td>700</td>\n",
       "      <td>Айдар</td>\n",
       "      <td>22</td>\n",
       "      <td>Омск</td>\n",
       "      <td>free</td>\n",
       "      <td>3047</td>\n",
       "      <td>17</td>\n",
       "      <td>2021-02-14</td>\n",
       "      <td>2</td>\n",
       "      <td>8</td>\n",
       "      <td>50</td>\n",
       "      <td>0</td>\n",
       "    </tr>\n",
       "  </tbody>\n",
       "</table>\n",
       "</div>"
      ],
      "text/plain": [
       "      user_id   name  age  city subscription_type  distance  duration  \\\n",
       "6500      700  Айдар   22  Омск              free      2516        15   \n",
       "6501      700  Айдар   22  Омск              free       847        16   \n",
       "6502      700  Айдар   22  Омск              free      4004        20   \n",
       "6503      700  Айдар   22  Омск              free      1206        10   \n",
       "6504      700  Айдар   22  Омск              free      3047        17   \n",
       "\n",
       "           date  month  minute_price  start_ride_price  subscription_fee  \n",
       "6500 2021-01-02      1             8                50                 0  \n",
       "6501 2021-02-01      2             8                50                 0  \n",
       "6502 2021-02-04      2             8                50                 0  \n",
       "6503 2021-02-10      2             8                50                 0  \n",
       "6504 2021-02-14      2             8                50                 0  "
      ]
     },
     "execution_count": 71,
     "metadata": {},
     "output_type": "execute_result"
    }
   ],
   "source": [
    "data_free = data.loc[data['subscription_type'] == 'free']\n",
    "data_free.head()"
   ]
  },
  {
   "cell_type": "code",
   "execution_count": 72,
   "id": "ab82f722",
   "metadata": {
    "scrolled": true
   },
   "outputs": [
    {
     "data": {
      "image/png": "[encoded data removed]",
      "text/plain": [
       "<Figure size 1080x360 with 1 Axes>"
      ]
     },
     "metadata": {
      "needs_background": "light"
     },
     "output_type": "display_data"
    }
   ],
   "source": [
    "#визуализируем данные о дальности поездок для пользователей без подписки\n",
    "data_free['distance'].hist(bins=80, figsize=(15, 5))\n",
    "plt.show()"
   ]
  },
  {
   "cell_type": "code",
   "execution_count": 73,
   "id": "4c769f6e",
   "metadata": {},
   "outputs": [
    {
     "data": {
      "image/png": "[encoded data removed]",
      "text/plain": [
       "<Figure size 1080x360 with 1 Axes>"
      ]
     },
     "metadata": {
      "needs_background": "light"
     },
     "output_type": "display_data"
    }
   ],
   "source": [
    "#визуализируем данные о длительности поездок для пользователей без подписки\n",
    "data_free['duration'].hist(bins=60, figsize=(15, 5))\n",
    "plt.show()"
   ]
  },
  {
   "cell_type": "code",
   "execution_count": 74,
   "id": "43d087e5",
   "metadata": {
    "scrolled": false
   },
   "outputs": [
    {
     "data": {
      "text/html": [
       "<div>\n",
       "<style scoped>\n",
       "    .dataframe tbody tr th:only-of-type {\n",
       "        vertical-align: middle;\n",
       "    }\n",
       "\n",
       "    .dataframe tbody tr th {\n",
       "        vertical-align: top;\n",
       "    }\n",
       "\n",
       "    .dataframe thead th {\n",
       "        text-align: right;\n",
       "    }\n",
       "</style>\n",
       "<table border=\"1\" class=\"dataframe\">\n",
       "  <thead>\n",
       "    <tr style=\"text-align: right;\">\n",
       "      <th></th>\n",
       "      <th>user_id</th>\n",
       "      <th>name</th>\n",
       "      <th>age</th>\n",
       "      <th>city</th>\n",
       "      <th>subscription_type</th>\n",
       "      <th>distance</th>\n",
       "      <th>duration</th>\n",
       "      <th>date</th>\n",
       "      <th>month</th>\n",
       "      <th>minute_price</th>\n",
       "      <th>start_ride_price</th>\n",
       "      <th>subscription_fee</th>\n",
       "    </tr>\n",
       "  </thead>\n",
       "  <tbody>\n",
       "    <tr>\n",
       "      <th>0</th>\n",
       "      <td>1</td>\n",
       "      <td>Кира</td>\n",
       "      <td>22</td>\n",
       "      <td>Тюмень</td>\n",
       "      <td>ultra</td>\n",
       "      <td>4410</td>\n",
       "      <td>26</td>\n",
       "      <td>2021-01-01</td>\n",
       "      <td>1</td>\n",
       "      <td>6</td>\n",
       "      <td>0</td>\n",
       "      <td>199</td>\n",
       "    </tr>\n",
       "    <tr>\n",
       "      <th>1</th>\n",
       "      <td>1</td>\n",
       "      <td>Кира</td>\n",
       "      <td>22</td>\n",
       "      <td>Тюмень</td>\n",
       "      <td>ultra</td>\n",
       "      <td>2618</td>\n",
       "      <td>16</td>\n",
       "      <td>2021-01-18</td>\n",
       "      <td>1</td>\n",
       "      <td>6</td>\n",
       "      <td>0</td>\n",
       "      <td>199</td>\n",
       "    </tr>\n",
       "    <tr>\n",
       "      <th>2</th>\n",
       "      <td>1</td>\n",
       "      <td>Кира</td>\n",
       "      <td>22</td>\n",
       "      <td>Тюмень</td>\n",
       "      <td>ultra</td>\n",
       "      <td>754</td>\n",
       "      <td>6</td>\n",
       "      <td>2021-04-20</td>\n",
       "      <td>4</td>\n",
       "      <td>6</td>\n",
       "      <td>0</td>\n",
       "      <td>199</td>\n",
       "    </tr>\n",
       "    <tr>\n",
       "      <th>3</th>\n",
       "      <td>1</td>\n",
       "      <td>Кира</td>\n",
       "      <td>22</td>\n",
       "      <td>Тюмень</td>\n",
       "      <td>ultra</td>\n",
       "      <td>2695</td>\n",
       "      <td>19</td>\n",
       "      <td>2021-08-11</td>\n",
       "      <td>8</td>\n",
       "      <td>6</td>\n",
       "      <td>0</td>\n",
       "      <td>199</td>\n",
       "    </tr>\n",
       "    <tr>\n",
       "      <th>4</th>\n",
       "      <td>1</td>\n",
       "      <td>Кира</td>\n",
       "      <td>22</td>\n",
       "      <td>Тюмень</td>\n",
       "      <td>ultra</td>\n",
       "      <td>4029</td>\n",
       "      <td>26</td>\n",
       "      <td>2021-08-28</td>\n",
       "      <td>8</td>\n",
       "      <td>6</td>\n",
       "      <td>0</td>\n",
       "      <td>199</td>\n",
       "    </tr>\n",
       "    <tr>\n",
       "      <th>5</th>\n",
       "      <td>1</td>\n",
       "      <td>Кира</td>\n",
       "      <td>22</td>\n",
       "      <td>Тюмень</td>\n",
       "      <td>ultra</td>\n",
       "      <td>2771</td>\n",
       "      <td>17</td>\n",
       "      <td>2021-10-09</td>\n",
       "      <td>10</td>\n",
       "      <td>6</td>\n",
       "      <td>0</td>\n",
       "      <td>199</td>\n",
       "    </tr>\n",
       "    <tr>\n",
       "      <th>6</th>\n",
       "      <td>1</td>\n",
       "      <td>Кира</td>\n",
       "      <td>22</td>\n",
       "      <td>Тюмень</td>\n",
       "      <td>ultra</td>\n",
       "      <td>3039</td>\n",
       "      <td>15</td>\n",
       "      <td>2021-10-19</td>\n",
       "      <td>10</td>\n",
       "      <td>6</td>\n",
       "      <td>0</td>\n",
       "      <td>199</td>\n",
       "    </tr>\n",
       "    <tr>\n",
       "      <th>7</th>\n",
       "      <td>1</td>\n",
       "      <td>Кира</td>\n",
       "      <td>22</td>\n",
       "      <td>Тюмень</td>\n",
       "      <td>ultra</td>\n",
       "      <td>2842</td>\n",
       "      <td>23</td>\n",
       "      <td>2021-11-06</td>\n",
       "      <td>11</td>\n",
       "      <td>6</td>\n",
       "      <td>0</td>\n",
       "      <td>199</td>\n",
       "    </tr>\n",
       "    <tr>\n",
       "      <th>8</th>\n",
       "      <td>1</td>\n",
       "      <td>Кира</td>\n",
       "      <td>22</td>\n",
       "      <td>Тюмень</td>\n",
       "      <td>ultra</td>\n",
       "      <td>3413</td>\n",
       "      <td>15</td>\n",
       "      <td>2021-11-14</td>\n",
       "      <td>11</td>\n",
       "      <td>6</td>\n",
       "      <td>0</td>\n",
       "      <td>199</td>\n",
       "    </tr>\n",
       "    <tr>\n",
       "      <th>9</th>\n",
       "      <td>1</td>\n",
       "      <td>Кира</td>\n",
       "      <td>22</td>\n",
       "      <td>Тюмень</td>\n",
       "      <td>ultra</td>\n",
       "      <td>749</td>\n",
       "      <td>15</td>\n",
       "      <td>2021-11-22</td>\n",
       "      <td>11</td>\n",
       "      <td>6</td>\n",
       "      <td>0</td>\n",
       "      <td>199</td>\n",
       "    </tr>\n",
       "    <tr>\n",
       "      <th>10</th>\n",
       "      <td>1</td>\n",
       "      <td>Кира</td>\n",
       "      <td>22</td>\n",
       "      <td>Тюмень</td>\n",
       "      <td>ultra</td>\n",
       "      <td>4031</td>\n",
       "      <td>18</td>\n",
       "      <td>2021-12-14</td>\n",
       "      <td>12</td>\n",
       "      <td>6</td>\n",
       "      <td>0</td>\n",
       "      <td>199</td>\n",
       "    </tr>\n",
       "    <tr>\n",
       "      <th>11</th>\n",
       "      <td>1</td>\n",
       "      <td>Кира</td>\n",
       "      <td>22</td>\n",
       "      <td>Тюмень</td>\n",
       "      <td>ultra</td>\n",
       "      <td>2721</td>\n",
       "      <td>10</td>\n",
       "      <td>2021-12-22</td>\n",
       "      <td>12</td>\n",
       "      <td>6</td>\n",
       "      <td>0</td>\n",
       "      <td>199</td>\n",
       "    </tr>\n",
       "    <tr>\n",
       "      <th>12</th>\n",
       "      <td>2</td>\n",
       "      <td>Станислав</td>\n",
       "      <td>31</td>\n",
       "      <td>Омск</td>\n",
       "      <td>ultra</td>\n",
       "      <td>3105</td>\n",
       "      <td>24</td>\n",
       "      <td>2021-03-15</td>\n",
       "      <td>3</td>\n",
       "      <td>6</td>\n",
       "      <td>0</td>\n",
       "      <td>199</td>\n",
       "    </tr>\n",
       "    <tr>\n",
       "      <th>13</th>\n",
       "      <td>2</td>\n",
       "      <td>Станислав</td>\n",
       "      <td>31</td>\n",
       "      <td>Омск</td>\n",
       "      <td>ultra</td>\n",
       "      <td>3054</td>\n",
       "      <td>12</td>\n",
       "      <td>2021-03-18</td>\n",
       "      <td>3</td>\n",
       "      <td>6</td>\n",
       "      <td>0</td>\n",
       "      <td>199</td>\n",
       "    </tr>\n",
       "    <tr>\n",
       "      <th>14</th>\n",
       "      <td>2</td>\n",
       "      <td>Станислав</td>\n",
       "      <td>31</td>\n",
       "      <td>Омск</td>\n",
       "      <td>ultra</td>\n",
       "      <td>4029</td>\n",
       "      <td>25</td>\n",
       "      <td>2021-03-23</td>\n",
       "      <td>3</td>\n",
       "      <td>6</td>\n",
       "      <td>0</td>\n",
       "      <td>199</td>\n",
       "    </tr>\n",
       "    <tr>\n",
       "      <th>15</th>\n",
       "      <td>2</td>\n",
       "      <td>Станислав</td>\n",
       "      <td>31</td>\n",
       "      <td>Омск</td>\n",
       "      <td>ultra</td>\n",
       "      <td>2806</td>\n",
       "      <td>21</td>\n",
       "      <td>2021-04-08</td>\n",
       "      <td>4</td>\n",
       "      <td>6</td>\n",
       "      <td>0</td>\n",
       "      <td>199</td>\n",
       "    </tr>\n",
       "    <tr>\n",
       "      <th>16</th>\n",
       "      <td>2</td>\n",
       "      <td>Станислав</td>\n",
       "      <td>31</td>\n",
       "      <td>Омск</td>\n",
       "      <td>ultra</td>\n",
       "      <td>3359</td>\n",
       "      <td>18</td>\n",
       "      <td>2021-04-13</td>\n",
       "      <td>4</td>\n",
       "      <td>6</td>\n",
       "      <td>0</td>\n",
       "      <td>199</td>\n",
       "    </tr>\n",
       "    <tr>\n",
       "      <th>17</th>\n",
       "      <td>2</td>\n",
       "      <td>Станислав</td>\n",
       "      <td>31</td>\n",
       "      <td>Омск</td>\n",
       "      <td>ultra</td>\n",
       "      <td>3255</td>\n",
       "      <td>14</td>\n",
       "      <td>2021-06-20</td>\n",
       "      <td>6</td>\n",
       "      <td>6</td>\n",
       "      <td>0</td>\n",
       "      <td>199</td>\n",
       "    </tr>\n",
       "    <tr>\n",
       "      <th>18</th>\n",
       "      <td>2</td>\n",
       "      <td>Станислав</td>\n",
       "      <td>31</td>\n",
       "      <td>Омск</td>\n",
       "      <td>ultra</td>\n",
       "      <td>3943</td>\n",
       "      <td>20</td>\n",
       "      <td>2021-07-02</td>\n",
       "      <td>7</td>\n",
       "      <td>6</td>\n",
       "      <td>0</td>\n",
       "      <td>199</td>\n",
       "    </tr>\n",
       "    <tr>\n",
       "      <th>19</th>\n",
       "      <td>2</td>\n",
       "      <td>Станислав</td>\n",
       "      <td>31</td>\n",
       "      <td>Омск</td>\n",
       "      <td>ultra</td>\n",
       "      <td>2838</td>\n",
       "      <td>26</td>\n",
       "      <td>2021-07-18</td>\n",
       "      <td>7</td>\n",
       "      <td>6</td>\n",
       "      <td>0</td>\n",
       "      <td>199</td>\n",
       "    </tr>\n",
       "    <tr>\n",
       "      <th>20</th>\n",
       "      <td>2</td>\n",
       "      <td>Станислав</td>\n",
       "      <td>31</td>\n",
       "      <td>Омск</td>\n",
       "      <td>ultra</td>\n",
       "      <td>923</td>\n",
       "      <td>7</td>\n",
       "      <td>2021-08-03</td>\n",
       "      <td>8</td>\n",
       "      <td>6</td>\n",
       "      <td>0</td>\n",
       "      <td>199</td>\n",
       "    </tr>\n",
       "    <tr>\n",
       "      <th>21</th>\n",
       "      <td>2</td>\n",
       "      <td>Станислав</td>\n",
       "      <td>31</td>\n",
       "      <td>Омск</td>\n",
       "      <td>ultra</td>\n",
       "      <td>2825</td>\n",
       "      <td>19</td>\n",
       "      <td>2021-10-27</td>\n",
       "      <td>10</td>\n",
       "      <td>6</td>\n",
       "      <td>0</td>\n",
       "      <td>199</td>\n",
       "    </tr>\n",
       "  </tbody>\n",
       "</table>\n",
       "</div>"
      ],
      "text/plain": [
       "    user_id       name  age    city subscription_type  distance  duration  \\\n",
       "0         1       Кира   22  Тюмень             ultra      4410        26   \n",
       "1         1       Кира   22  Тюмень             ultra      2618        16   \n",
       "2         1       Кира   22  Тюмень             ultra       754         6   \n",
       "3         1       Кира   22  Тюмень             ultra      2695        19   \n",
       "4         1       Кира   22  Тюмень             ultra      4029        26   \n",
       "5         1       Кира   22  Тюмень             ultra      2771        17   \n",
       "6         1       Кира   22  Тюмень             ultra      3039        15   \n",
       "7         1       Кира   22  Тюмень             ultra      2842        23   \n",
       "8         1       Кира   22  Тюмень             ultra      3413        15   \n",
       "9         1       Кира   22  Тюмень             ultra       749        15   \n",
       "10        1       Кира   22  Тюмень             ultra      4031        18   \n",
       "11        1       Кира   22  Тюмень             ultra      2721        10   \n",
       "12        2  Станислав   31    Омск             ultra      3105        24   \n",
       "13        2  Станислав   31    Омск             ultra      3054        12   \n",
       "14        2  Станислав   31    Омск             ultra      4029        25   \n",
       "15        2  Станислав   31    Омск             ultra      2806        21   \n",
       "16        2  Станислав   31    Омск             ultra      3359        18   \n",
       "17        2  Станислав   31    Омск             ultra      3255        14   \n",
       "18        2  Станислав   31    Омск             ultra      3943        20   \n",
       "19        2  Станислав   31    Омск             ultra      2838        26   \n",
       "20        2  Станислав   31    Омск             ultra       923         7   \n",
       "21        2  Станислав   31    Омск             ultra      2825        19   \n",
       "\n",
       "         date  month  minute_price  start_ride_price  subscription_fee  \n",
       "0  2021-01-01      1             6                 0               199  \n",
       "1  2021-01-18      1             6                 0               199  \n",
       "2  2021-04-20      4             6                 0               199  \n",
       "3  2021-08-11      8             6                 0               199  \n",
       "4  2021-08-28      8             6                 0               199  \n",
       "5  2021-10-09     10             6                 0               199  \n",
       "6  2021-10-19     10             6                 0               199  \n",
       "7  2021-11-06     11             6                 0               199  \n",
       "8  2021-11-14     11             6                 0               199  \n",
       "9  2021-11-22     11             6                 0               199  \n",
       "10 2021-12-14     12             6                 0               199  \n",
       "11 2021-12-22     12             6                 0               199  \n",
       "12 2021-03-15      3             6                 0               199  \n",
       "13 2021-03-18      3             6                 0               199  \n",
       "14 2021-03-23      3             6                 0               199  \n",
       "15 2021-04-08      4             6                 0               199  \n",
       "16 2021-04-13      4             6                 0               199  \n",
       "17 2021-06-20      6             6                 0               199  \n",
       "18 2021-07-02      7             6                 0               199  \n",
       "19 2021-07-18      7             6                 0               199  \n",
       "20 2021-08-03      8             6                 0               199  \n",
       "21 2021-10-27     10             6                 0               199  "
      ]
     },
     "execution_count": 74,
     "metadata": {},
     "output_type": "execute_result"
    }
   ],
   "source": [
    "data_ultra = data.loc[data['subscription_type'] == 'ultra']\n",
    "data_ultra.head(22)"
   ]
  },
  {
   "cell_type": "code",
   "execution_count": 75,
   "id": "8657b351",
   "metadata": {
    "scrolled": true
   },
   "outputs": [
    {
     "data": {
      "image/png": "[encoded data removed]",
      "text/plain": [
       "<Figure size 1080x360 with 1 Axes>"
      ]
     },
     "metadata": {
      "needs_background": "light"
     },
     "output_type": "display_data"
    }
   ],
   "source": [
    "#визуализируем данные о дальности поездок для пользователей с подпиской\n",
    "data_ultra['distance'].hist(bins=80, figsize=(15, 5))\n",
    "plt.show()"
   ]
  },
  {
   "cell_type": "code",
   "execution_count": 76,
   "id": "f40fa8f4",
   "metadata": {},
   "outputs": [
    {
     "data": {
      "image/png": "[encoded data removed]",
      "text/plain": [
       "<Figure size 1080x360 with 1 Axes>"
      ]
     },
     "metadata": {
      "needs_background": "light"
     },
     "output_type": "display_data"
    }
   ],
   "source": [
    "#визуализируем данные о времени поездок для пользователей с подпиской\n",
    "data_ultra['duration'].hist(bins=60, figsize=(15, 5))\n",
    "plt.show()"
   ]
  },
  {
   "cell_type": "markdown",
   "id": "ca5d89b9",
   "metadata": {},
   "source": [
    "Анализируя обе гистограммы можно отметить раличия в длительности поездок у пользователей с подпиской и без. Пик в районе 600 метров, который мы отметили выше, приходится на пользователей без подписки. Это же касается и пика с длительностью поездки в 1 минуту. В то время как подписчики тарифа Ultra предпочитают более длительные поездки и по времени они имеют нормальное распределение. Скорее всего это связано с тарификацией или сложностями авторизации в приложении для пользователей без подписки, что может являться еще одним барьером, из-за которого пользователи не оформляют подписку."
   ]
  },
  {
   "cell_type": "markdown",
   "id": "edb9a5d1",
   "metadata": {},
   "source": [
    "Подытог: для дальнейших расчетов мы создали объединенный датафрейм и два дополнительных, где разделили пользователей с подбиской и без. Возможно, наблюдаются проблемы с аторизацией у пользователей без подписки, т.к. есть пик в поездках в 1 минуту. Также же мы заметили, что поездки без подписки ограничиваются более короткими дистанциями."
   ]
  },
  {
   "cell_type": "markdown",
   "id": "402d620f",
   "metadata": {},
   "source": [
    "<a id=\"12\"></a>\n",
    "## Подсчёт выручки"
   ]
  },
  {
   "cell_type": "code",
   "execution_count": 77,
   "id": "de83f7c3",
   "metadata": {
    "scrolled": false
   },
   "outputs": [
    {
     "data": {
      "text/html": [
       "<div>\n",
       "<style scoped>\n",
       "    .dataframe tbody tr th:only-of-type {\n",
       "        vertical-align: middle;\n",
       "    }\n",
       "\n",
       "    .dataframe tbody tr th {\n",
       "        vertical-align: top;\n",
       "    }\n",
       "\n",
       "    .dataframe thead th {\n",
       "        text-align: right;\n",
       "    }\n",
       "</style>\n",
       "<table border=\"1\" class=\"dataframe\">\n",
       "  <thead>\n",
       "    <tr style=\"text-align: right;\">\n",
       "      <th></th>\n",
       "      <th></th>\n",
       "      <th>distance</th>\n",
       "      <th>duration</th>\n",
       "      <th>subscription_type</th>\n",
       "      <th>user_id</th>\n",
       "    </tr>\n",
       "    <tr>\n",
       "      <th>month</th>\n",
       "      <th>user_id</th>\n",
       "      <th></th>\n",
       "      <th></th>\n",
       "      <th></th>\n",
       "      <th></th>\n",
       "    </tr>\n",
       "  </thead>\n",
       "  <tbody>\n",
       "    <tr>\n",
       "      <th rowspan=\"5\" valign=\"top\">1</th>\n",
       "      <th>1</th>\n",
       "      <td>7028</td>\n",
       "      <td>42</td>\n",
       "      <td>ultra</td>\n",
       "      <td>2</td>\n",
       "    </tr>\n",
       "    <tr>\n",
       "      <th>3</th>\n",
       "      <td>3062</td>\n",
       "      <td>13</td>\n",
       "      <td>ultra</td>\n",
       "      <td>1</td>\n",
       "    </tr>\n",
       "    <tr>\n",
       "      <th>5</th>\n",
       "      <td>3915</td>\n",
       "      <td>12</td>\n",
       "      <td>ultra</td>\n",
       "      <td>1</td>\n",
       "    </tr>\n",
       "    <tr>\n",
       "      <th>7</th>\n",
       "      <td>6478</td>\n",
       "      <td>28</td>\n",
       "      <td>ultra</td>\n",
       "      <td>2</td>\n",
       "    </tr>\n",
       "    <tr>\n",
       "      <th>12</th>\n",
       "      <td>3577</td>\n",
       "      <td>32</td>\n",
       "      <td>ultra</td>\n",
       "      <td>1</td>\n",
       "    </tr>\n",
       "    <tr>\n",
       "      <th>...</th>\n",
       "      <th>...</th>\n",
       "      <td>...</td>\n",
       "      <td>...</td>\n",
       "      <td>...</td>\n",
       "      <td>...</td>\n",
       "    </tr>\n",
       "    <tr>\n",
       "      <th rowspan=\"5\" valign=\"top\">12</th>\n",
       "      <th>1525</th>\n",
       "      <td>4598</td>\n",
       "      <td>33</td>\n",
       "      <td>free</td>\n",
       "      <td>1</td>\n",
       "    </tr>\n",
       "    <tr>\n",
       "      <th>1526</th>\n",
       "      <td>3644</td>\n",
       "      <td>23</td>\n",
       "      <td>free</td>\n",
       "      <td>1</td>\n",
       "    </tr>\n",
       "    <tr>\n",
       "      <th>1528</th>\n",
       "      <td>3999</td>\n",
       "      <td>10</td>\n",
       "      <td>free</td>\n",
       "      <td>1</td>\n",
       "    </tr>\n",
       "    <tr>\n",
       "      <th>1532</th>\n",
       "      <td>6112</td>\n",
       "      <td>40</td>\n",
       "      <td>free</td>\n",
       "      <td>2</td>\n",
       "    </tr>\n",
       "    <tr>\n",
       "      <th>1534</th>\n",
       "      <td>2372</td>\n",
       "      <td>16</td>\n",
       "      <td>free</td>\n",
       "      <td>1</td>\n",
       "    </tr>\n",
       "  </tbody>\n",
       "</table>\n",
       "<p>11331 rows × 4 columns</p>\n",
       "</div>"
      ],
      "text/plain": [
       "               distance  duration subscription_type  user_id\n",
       "month user_id                                               \n",
       "1     1            7028        42             ultra        2\n",
       "      3            3062        13             ultra        1\n",
       "      5            3915        12             ultra        1\n",
       "      7            6478        28             ultra        2\n",
       "      12           3577        32             ultra        1\n",
       "...                 ...       ...               ...      ...\n",
       "12    1525         4598        33              free        1\n",
       "      1526         3644        23              free        1\n",
       "      1528         3999        10              free        1\n",
       "      1532         6112        40              free        2\n",
       "      1534         2372        16              free        1\n",
       "\n",
       "[11331 rows x 4 columns]"
      ]
     },
     "execution_count": 77,
     "metadata": {},
     "output_type": "execute_result"
    }
   ],
   "source": [
    "#найдем общее расстояние, время и количество поездок по каждому пользователю\n",
    "data_total = pd.pivot_table(data, index=['month', 'user_id'], \\\n",
    "                           values = ['distance', 'duration', 'name', 'subscription_type'], \\\n",
    "                           aggfunc = {'distance': sum, \n",
    "                                      'duration' : sum,\n",
    "                                      'user_id': 'count',\n",
    "                                      'subscription_type': min})\n",
    "data_total"
   ]
  },
  {
   "cell_type": "code",
   "execution_count": 78,
   "id": "3b941675",
   "metadata": {
    "scrolled": true
   },
   "outputs": [
    {
     "data": {
      "text/html": [
       "<div>\n",
       "<style scoped>\n",
       "    .dataframe tbody tr th:only-of-type {\n",
       "        vertical-align: middle;\n",
       "    }\n",
       "\n",
       "    .dataframe tbody tr th {\n",
       "        vertical-align: top;\n",
       "    }\n",
       "\n",
       "    .dataframe thead th {\n",
       "        text-align: right;\n",
       "    }\n",
       "</style>\n",
       "<table border=\"1\" class=\"dataframe\">\n",
       "  <thead>\n",
       "    <tr style=\"text-align: right;\">\n",
       "      <th></th>\n",
       "      <th></th>\n",
       "      <th>distance</th>\n",
       "      <th>duration</th>\n",
       "      <th>subscription_type</th>\n",
       "      <th>user_id</th>\n",
       "      <th>revenue</th>\n",
       "    </tr>\n",
       "    <tr>\n",
       "      <th>month</th>\n",
       "      <th>user_id</th>\n",
       "      <th></th>\n",
       "      <th></th>\n",
       "      <th></th>\n",
       "      <th></th>\n",
       "      <th></th>\n",
       "    </tr>\n",
       "  </thead>\n",
       "  <tbody>\n",
       "    <tr>\n",
       "      <th rowspan=\"10\" valign=\"top\">1</th>\n",
       "      <th>1</th>\n",
       "      <td>7028</td>\n",
       "      <td>42</td>\n",
       "      <td>ultra</td>\n",
       "      <td>2</td>\n",
       "      <td>451</td>\n",
       "    </tr>\n",
       "    <tr>\n",
       "      <th>3</th>\n",
       "      <td>3062</td>\n",
       "      <td>13</td>\n",
       "      <td>ultra</td>\n",
       "      <td>1</td>\n",
       "      <td>277</td>\n",
       "    </tr>\n",
       "    <tr>\n",
       "      <th>5</th>\n",
       "      <td>3915</td>\n",
       "      <td>12</td>\n",
       "      <td>ultra</td>\n",
       "      <td>1</td>\n",
       "      <td>271</td>\n",
       "    </tr>\n",
       "    <tr>\n",
       "      <th>7</th>\n",
       "      <td>6478</td>\n",
       "      <td>28</td>\n",
       "      <td>ultra</td>\n",
       "      <td>2</td>\n",
       "      <td>367</td>\n",
       "    </tr>\n",
       "    <tr>\n",
       "      <th>12</th>\n",
       "      <td>3577</td>\n",
       "      <td>32</td>\n",
       "      <td>ultra</td>\n",
       "      <td>1</td>\n",
       "      <td>391</td>\n",
       "    </tr>\n",
       "    <tr>\n",
       "      <th>13</th>\n",
       "      <td>6688</td>\n",
       "      <td>42</td>\n",
       "      <td>ultra</td>\n",
       "      <td>2</td>\n",
       "      <td>451</td>\n",
       "    </tr>\n",
       "    <tr>\n",
       "      <th>14</th>\n",
       "      <td>7700</td>\n",
       "      <td>34</td>\n",
       "      <td>ultra</td>\n",
       "      <td>2</td>\n",
       "      <td>403</td>\n",
       "    </tr>\n",
       "    <tr>\n",
       "      <th>15</th>\n",
       "      <td>4188</td>\n",
       "      <td>38</td>\n",
       "      <td>ultra</td>\n",
       "      <td>1</td>\n",
       "      <td>427</td>\n",
       "    </tr>\n",
       "    <tr>\n",
       "      <th>20</th>\n",
       "      <td>3517</td>\n",
       "      <td>28</td>\n",
       "      <td>ultra</td>\n",
       "      <td>1</td>\n",
       "      <td>367</td>\n",
       "    </tr>\n",
       "    <tr>\n",
       "      <th>22</th>\n",
       "      <td>3059</td>\n",
       "      <td>12</td>\n",
       "      <td>ultra</td>\n",
       "      <td>1</td>\n",
       "      <td>271</td>\n",
       "    </tr>\n",
       "  </tbody>\n",
       "</table>\n",
       "</div>"
      ],
      "text/plain": [
       "               distance  duration subscription_type  user_id  revenue\n",
       "month user_id                                                        \n",
       "1     1            7028        42             ultra        2      451\n",
       "      3            3062        13             ultra        1      277\n",
       "      5            3915        12             ultra        1      271\n",
       "      7            6478        28             ultra        2      367\n",
       "      12           3577        32             ultra        1      391\n",
       "      13           6688        42             ultra        2      451\n",
       "      14           7700        34             ultra        2      403\n",
       "      15           4188        38             ultra        1      427\n",
       "      20           3517        28             ultra        1      367\n",
       "      22           3059        12             ultra        1      271"
      ]
     },
     "execution_count": 78,
     "metadata": {},
     "output_type": "execute_result"
    }
   ],
   "source": [
    "#создадим функцию для подсчета выручки\n",
    "def revenue(row):\n",
    "    if row['subscription_type'] == 'ultra':\n",
    "        return 6 * row['duration'] + 199\n",
    "    elif row['subscription_type'] == 'free':\n",
    "        return 8 * row['duration'] + 50 * row['user_id']\n",
    "    else:\n",
    "        return 0\n",
    "    \n",
    "#создадим новый столбец с выручкой\n",
    "data_total['revenue'] = data_total.apply(revenue, axis=1)\n",
    "data_total.head(10)"
   ]
  },
  {
   "cell_type": "code",
   "execution_count": 79,
   "id": "895ad7d3",
   "metadata": {},
   "outputs": [
    {
     "data": {
      "text/plain": [
       "3812767"
      ]
     },
     "execution_count": 79,
     "metadata": {},
     "output_type": "execute_result"
    }
   ],
   "source": [
    "#найдем общую сумму выручки\n",
    "data_total['revenue'].sum()"
   ]
  },
  {
   "cell_type": "markdown",
   "id": "5866d757",
   "metadata": {},
   "source": [
    "Суммарный годовой доход компании проката самокатов составил 3853677.0 руб."
   ]
  },
  {
   "cell_type": "markdown",
   "id": "41545ac0",
   "metadata": {},
   "source": [
    "<a id=\"13\"></a>\n",
    "## Проверка гипотез"
   ]
  },
  {
   "cell_type": "markdown",
   "id": "72862a90",
   "metadata": {},
   "source": [
    "<a id=\"14\"></a>\n",
    "#### Гипотеза 1. Тратят ли пользователи с подпиской больше времени на поездки?"
   ]
  },
  {
   "cell_type": "markdown",
   "id": "4ed02564",
   "metadata": {},
   "source": [
    "Нулевая гипотеза - среднее время поездок всех пользователей одинаково.    \n",
    "Альтернативная - среднее время поездок пользователей с подпиской больше.\n",
    "Таким образом \n",
    "\n",
    "$ \\mathsf{H}_0: \\mu_1 = \\mu_2 $<br>\n",
    "$ \\mathsf{H}_1: \\mu_1 > \\mu_2 $,\n",
    "\n",
    "где $ \\mu_1 $ и $\\mu_2$ это математическое ожидание времени поездки пользователей с подпиской и без соответственно.   \n",
    "$ alpha = 0.05 $\n",
    "\n",
    "Для двух независимых выборок используем двусторонний т-тест с параметром при разной дисперсией."
   ]
  },
  {
   "cell_type": "code",
   "execution_count": 80,
   "id": "76cf6a23",
   "metadata": {},
   "outputs": [
    {
     "name": "stdout",
     "output_type": "stream",
     "text": [
      "1.1540423907706558e-37\n",
      "Отвергаем нулевую гипотезу\n"
     ]
    }
   ],
   "source": [
    "alpha = 0.05\n",
    "results = st.ttest_ind(data_ultra['duration'], data_free['duration'], equal_var=False, alternative='greater')\n",
    "print(results.pvalue)\n",
    "if results.pvalue < alpha:\n",
    "    print('Отвергаем нулевую гипотезу')\n",
    "else:\n",
    "    print('Не получилось отвергнуть нулевую гипотезу')"
   ]
  },
  {
   "cell_type": "markdown",
   "id": "9f50fe9a",
   "metadata": {},
   "source": [
    "Это означает, что длительность поездок пользователей с подпиской больше, чем без, при уровне значимости в 0.05 %"
   ]
  },
  {
   "cell_type": "markdown",
   "id": "848cae54",
   "metadata": {},
   "source": [
    "<a id=\"15\"></a>\n",
    "#### Гипотеза 2. Можно ли сказать, что среднее расстояние, которое проезжают пользователи с подпиской за одну поездку, не превышает 3130 метров? "
   ]
  },
  {
   "cell_type": "markdown",
   "id": "f9cabc36",
   "metadata": {},
   "source": [
    "Расстояние одной поездки в 3130 метров — оптимальное с точки зрения износа самоката.    \n",
    "Нулевая гипотеза - среднее расстояние поездок пользователей с подпиской равно оптимальному расстоянию.\n",
    "Альтернативная - среднее расстояние поездок пользователей с подпиской больше оптимального в 3130 метров.\n",
    "\n",
    "$ \\mathsf{H}_0: \\mu_1 = 3100 $<br>\n",
    "$ \\mathsf{H}_1: \\mu_1 > 3100 $,\n",
    "\n",
    "где $ \\mu_1 $ это математическое ожидание расстояния поездок пользователей с подпиской.   \n",
    "$ alpha = 0.05 $\n",
    "\n",
    "Проверим гипотезу."
   ]
  },
  {
   "cell_type": "code",
   "execution_count": 81,
   "id": "d2e07a05",
   "metadata": {
    "scrolled": true
   },
   "outputs": [
    {
     "name": "stdout",
     "output_type": "stream",
     "text": [
      "0.9195649894697724\n",
      "Не получилось отвергнуть нулевую гипотезу\n"
     ]
    }
   ],
   "source": [
    "distance = 3130\n",
    "alpha = 0.05\n",
    "\n",
    "results = st.ttest_1samp(data_ultra['distance'], distance, alternative='greater')\n",
    "\n",
    "print(results.pvalue)\n",
    "\n",
    "if results.pvalue < alpha:\n",
    "    print('Отвергаем нулевую гипотезу')\n",
    "else:\n",
    "    print('Не получилось отвергнуть нулевую гипотезу')"
   ]
  },
  {
   "cell_type": "markdown",
   "id": "dd1b8741",
   "metadata": {},
   "source": [
    "Так как при уровне значимости в 0.05% нулевую гипотезу не удалось отвергнуть, то можно предполагать, что дальность поездок пользователей с подпиской является оптимальной с точки зрения износа самокатов."
   ]
  },
  {
   "cell_type": "markdown",
   "id": "1156a7b7",
   "metadata": {},
   "source": [
    "<a id=\"16\"></a>\n",
    "#### Гипотеза 3. Будет ли помесячная выручка от пользователей с подпиской по месяцам выше, чем выручка от пользователей без подписки?"
   ]
  },
  {
   "cell_type": "markdown",
   "id": "ef27e67f",
   "metadata": {},
   "source": [
    "Нулевая гипотеза - помесячные выручки пользователей с подпиской и без одинаковы.\n",
    "Альтернативная - помесячная выручка пользователей с подпиской выше.\n",
    "\n",
    "$ \\mathsf{H}_0: \\mu_1 = \\mu_2 $<br>\n",
    "$ \\mathsf{H}_1: \\mu_1 > \\mu_2 $,\n",
    "\n",
    "где $ \\mu_1 $ и $\\mu_2$ это математическое ожидание помесячной выручки пользователей с подпиской и без соответственно.   \n",
    "$ alpha = 0.05 $\n",
    "\n",
    "Проверим гипотезу."
   ]
  },
  {
   "cell_type": "code",
   "execution_count": 82,
   "id": "1f6fdc08",
   "metadata": {},
   "outputs": [
    {
     "name": "stdout",
     "output_type": "stream",
     "text": [
      "1.6046721201208006e-47\n",
      "Отвергаем нулевую гипотезу\n"
     ]
    }
   ],
   "source": [
    "ultra_rev = data_total.loc[data_total.subscription_type == 'ultra', 'revenue'] \n",
    "free_rev = data_total.loc[data_total.subscription_type == 'free', 'revenue'] \n",
    "alpha = 0.05\n",
    "\n",
    "results = st.ttest_ind(ultra_rev, free_rev, equal_var=False, alternative='greater')\n",
    "\n",
    "\n",
    "print(results.pvalue)\n",
    "\n",
    "if results.pvalue < alpha:\n",
    "    print('Отвергаем нулевую гипотезу')\n",
    "else:\n",
    "    print('Не удалось отвергнуть нулевую гипотезу')"
   ]
  },
  {
   "cell_type": "markdown",
   "id": "fa1f422d",
   "metadata": {},
   "source": [
    "Это означает, что при статистической значимости в 0.05% помесячный доход от пользователей с подпиской выше."
   ]
  },
  {
   "cell_type": "markdown",
   "id": "63bf639f",
   "metadata": {},
   "source": [
    "<a id=\"17\"></a>\n",
    "#### Гипотеза 4. Снизилось ли количество обращений в техподдержку после обновления сервера?"
   ]
  },
  {
   "cell_type": "markdown",
   "id": "7b21a062",
   "metadata": {},
   "source": [
    "Условия: Представьте такую ситуацию: техническая команда сервиса обновила сервера, с которыми взаимодействует мобильное приложение. Она надеется, что из-за этого количество обращений в техподдержку значимо снизилось. Некоторый файл содержит для каждого пользователя данные о количестве обращений до обновления и после него. Какой тест вам понадобился бы для проверки этой гипотезы?\n",
    "\n",
    "Так как оба файла сожержать данные одних и тех же пользователей ДО и ПОСЛЕ, то мы имеем дело с двумя зависимыми выборками. Нам потребуется оценить среднее количество обращений ДО и ПОСЛЕ.\n",
    "\n",
    "Здесь нам необходимо использовать односторонний тест, потому что нас интересует только одно направление изменения (уменьшилось ли количество обращений или нет). Нам не интересно, увеличилось ли количество обращений после обновления, так как это не соответствует нашей изначальной гипотезе о положительном эффекте обновления серверов.\n",
    "\n",
    "Основная (нулевая) гипотеза в этом случае может утверждать, что различия между количеством обращений до и после обновления отсутствуют или что количество обращений после обновления больше или равно, чем до.\n",
    "\n",
    "Альтернативная гипотеза будет утверждать, что количество обращений после обновления меньше, чем до обновления."
   ]
  },
  {
   "cell_type": "markdown",
   "id": "61213c5e",
   "metadata": {},
   "source": [
    "<a id=\"18\"></a>\n",
    "## Выводы"
   ]
  },
  {
   "cell_type": "markdown",
   "id": "bbb8dde9",
   "metadata": {},
   "source": [
    "Заказчик - сервис аренды самокатов GoFast. Нам передали данные о некоторых пользователях из нескольких городов, а также об их поездках. Мы проверяли теорию о том, что в данных присутствуют определенные закономерности, которые могут влиять на работу сервиса в целом.\n",
    "\n",
    "Первоначально мы проверили сами данные. В данных нет пропусков, мы изменили только тип колонки с датой.\n",
    "\n",
    "В колонке с пользователями мы удалили повторяющиеся значения профилей. Таким образом избавились от явных дубликатов. Также создали новую колонку с номером месяца поездки на самокате.\n",
    "\n",
    "Затем мы составили профиль пользователя. Приложение популярно больше всего у жителей Пятигорска, в то время как Москва по количеству пользователей представлена на последнем месте, что не типично с учетом численности этого города. Стоит обратить внимание еще и на то, что больше половины пользователей не имеют подписки. Это требует пристального внимания со стороны маркетинга, учитывая заявление о популярности сервиса.\n",
    "\n",
    "Средний возраст пользователя самокатом - 25 лет. Дальность поездки - обычно в районе 3 км. Имеется нетипичный всплеск данных в поездках в районе 600 метров. Длительность поездки в среднем - 18 минут. Здесь также заметен нетипичный всплекс поездок длительностью 1 секунда, что может быть связано с особенностями работы тарификации или приложения.\n",
    "\n",
    "Для дальнейших расчетов мы создали объединенный датафрейм и два дополнительных, где разделили пользователей с подбиской и без. Возможно, наблюдаются проблемы с аторизацией у пользователей без подписки, т.к. есть пик в поездках в 1 минуту. Также же мы заметили, что поездки пользователей без подписки ограничиваются более короткими дистанциями.\n",
    "\n",
    "Был подсчитан суммарный годовой доход компании, он составил 3853677.0 руб.\n",
    "\n",
    "**Мы проверили следующие гипотезы:**\n",
    "\n",
    "1) Тратят ли пользователи с подпиской больше времени на поездки?\n",
    "\n",
    "Длительность поездок пользователей с подпиской больше, чем без, при уровне значимости в 0.05 %\n",
    "\n",
    "2) Можно ли сказать, что среднее расстояние, которое проезжают пользователи с подпиской за одну поездку, не превышает 3130 метров?\n",
    "\n",
    "Можно предполагать, что при уровне значимости в 0.05% дальность поездок пользователей с подпиской является оптимальной с точки зрения износа самокатов.\n",
    "\n",
    "3) Будет ли помесячная выручка от пользователей с подпиской по месяцам выше, чем выручка от пользователей без подписки?\n",
    "\n",
    "При статистической значимости в 0.05% помесячный доход от пользователей с подпиской выше.\n",
    "\n",
    "**Рекомендации: увеличить количество пользователей с подпиской, расширить географию пользователей, связаться с отделом маркетинга по поводу продвижения приложения и с отделом разработчиков для выяснения прирды нетипичных всплесков в данных.**"
   ]
  }
 ],
 "metadata": {
  "ExecuteTimeLog": [
   {
    "duration": 93,
    "start_time": "2024-06-06T09:17:37.726Z"
   },
   {
    "duration": 67,
    "start_time": "2024-06-06T09:17:43.741Z"
   },
   {
    "duration": 1747,
    "start_time": "2024-06-06T09:18:49.863Z"
   },
   {
    "duration": 4751,
    "start_time": "2024-06-06T09:18:51.686Z"
   },
   {
    "duration": 87,
    "start_time": "2024-06-06T09:19:31.655Z"
   },
   {
    "duration": 4586,
    "start_time": "2024-06-07T08:19:13.489Z"
   },
   {
    "duration": 1479,
    "start_time": "2024-06-07T08:19:18.077Z"
   },
   {
    "duration": 111,
    "start_time": "2024-06-07T08:19:19.558Z"
   },
   {
    "duration": 2699,
    "start_time": "2024-06-07T08:26:45.414Z"
   },
   {
    "duration": 4,
    "start_time": "2024-06-07T08:26:48.116Z"
   },
   {
    "duration": 54,
    "start_time": "2024-06-07T08:26:48.123Z"
   },
   {
    "duration": 32,
    "start_time": "2024-06-07T08:30:23.037Z"
   },
   {
    "duration": 10,
    "start_time": "2024-06-07T08:31:34.282Z"
   },
   {
    "duration": 9,
    "start_time": "2024-06-07T08:31:59.044Z"
   },
   {
    "duration": 172,
    "start_time": "2024-06-07T08:37:56.966Z"
   },
   {
    "duration": 6,
    "start_time": "2024-06-07T08:38:11.910Z"
   },
   {
    "duration": 9,
    "start_time": "2024-06-07T08:38:15.406Z"
   },
   {
    "duration": 32,
    "start_time": "2024-06-07T08:39:53.068Z"
   },
   {
    "duration": 8,
    "start_time": "2024-06-07T08:39:54.908Z"
   },
   {
    "duration": 31,
    "start_time": "2024-06-07T08:40:06.475Z"
   },
   {
    "duration": 8,
    "start_time": "2024-06-07T08:40:07.348Z"
   },
   {
    "duration": 82,
    "start_time": "2024-06-07T08:40:43.581Z"
   },
   {
    "duration": 8,
    "start_time": "2024-06-07T08:42:06.984Z"
   },
   {
    "duration": 5,
    "start_time": "2024-06-07T08:46:17.996Z"
   },
   {
    "duration": 6,
    "start_time": "2024-06-07T08:46:40.238Z"
   },
   {
    "duration": 106,
    "start_time": "2024-06-07T08:50:20.072Z"
   },
   {
    "duration": 2642,
    "start_time": "2024-06-07T08:50:32.167Z"
   },
   {
    "duration": 4,
    "start_time": "2024-06-07T08:50:34.811Z"
   },
   {
    "duration": 46,
    "start_time": "2024-06-07T08:50:34.816Z"
   },
   {
    "duration": 9,
    "start_time": "2024-06-07T08:50:34.864Z"
   },
   {
    "duration": 16,
    "start_time": "2024-06-07T08:50:34.876Z"
   },
   {
    "duration": 39,
    "start_time": "2024-06-07T08:50:34.893Z"
   },
   {
    "duration": 9,
    "start_time": "2024-06-07T08:50:34.934Z"
   },
   {
    "duration": 11,
    "start_time": "2024-06-07T08:50:34.944Z"
   },
   {
    "duration": 21,
    "start_time": "2024-06-07T08:50:34.956Z"
   },
   {
    "duration": 8,
    "start_time": "2024-06-07T08:50:34.978Z"
   },
   {
    "duration": 16,
    "start_time": "2024-06-07T08:50:34.987Z"
   },
   {
    "duration": 6,
    "start_time": "2024-06-07T08:50:59.455Z"
   },
   {
    "duration": 19,
    "start_time": "2024-06-07T08:51:18.190Z"
   },
   {
    "duration": 18,
    "start_time": "2024-06-07T09:03:51.475Z"
   },
   {
    "duration": 69,
    "start_time": "2024-06-07T09:03:58.386Z"
   },
   {
    "duration": 9,
    "start_time": "2024-06-07T10:12:21.160Z"
   },
   {
    "duration": 10,
    "start_time": "2024-06-07T10:18:55.208Z"
   },
   {
    "duration": 50,
    "start_time": "2024-06-07T10:19:22.119Z"
   },
   {
    "duration": 10,
    "start_time": "2024-06-07T10:22:26.741Z"
   },
   {
    "duration": 10,
    "start_time": "2024-06-07T10:22:47.044Z"
   },
   {
    "duration": 7,
    "start_time": "2024-06-07T10:22:57.604Z"
   },
   {
    "duration": 2689,
    "start_time": "2024-06-07T10:23:07.620Z"
   },
   {
    "duration": 3,
    "start_time": "2024-06-07T10:23:10.311Z"
   },
   {
    "duration": 54,
    "start_time": "2024-06-07T10:23:10.315Z"
   },
   {
    "duration": 9,
    "start_time": "2024-06-07T10:23:10.370Z"
   },
   {
    "duration": 18,
    "start_time": "2024-06-07T10:23:10.381Z"
   },
   {
    "duration": 47,
    "start_time": "2024-06-07T10:23:10.400Z"
   },
   {
    "duration": 8,
    "start_time": "2024-06-07T10:23:10.448Z"
   },
   {
    "duration": 16,
    "start_time": "2024-06-07T10:23:10.457Z"
   },
   {
    "duration": 20,
    "start_time": "2024-06-07T10:23:10.474Z"
   },
   {
    "duration": 8,
    "start_time": "2024-06-07T10:23:10.495Z"
   },
   {
    "duration": 12,
    "start_time": "2024-06-07T10:23:10.504Z"
   },
   {
    "duration": 9,
    "start_time": "2024-06-07T10:23:10.517Z"
   },
   {
    "duration": 16,
    "start_time": "2024-06-07T10:23:10.527Z"
   },
   {
    "duration": 8,
    "start_time": "2024-06-07T10:23:20.244Z"
   },
   {
    "duration": 7,
    "start_time": "2024-06-07T10:23:26.876Z"
   },
   {
    "duration": 2774,
    "start_time": "2024-06-07T10:23:30.199Z"
   },
   {
    "duration": 3,
    "start_time": "2024-06-07T10:23:32.975Z"
   },
   {
    "duration": 87,
    "start_time": "2024-06-07T10:23:32.979Z"
   },
   {
    "duration": 10,
    "start_time": "2024-06-07T10:23:33.067Z"
   },
   {
    "duration": 9,
    "start_time": "2024-06-07T10:23:33.079Z"
   },
   {
    "duration": 30,
    "start_time": "2024-06-07T10:23:33.089Z"
   },
   {
    "duration": 9,
    "start_time": "2024-06-07T10:23:33.120Z"
   },
   {
    "duration": 5,
    "start_time": "2024-06-07T10:23:33.130Z"
   },
   {
    "duration": 26,
    "start_time": "2024-06-07T10:23:33.136Z"
   },
   {
    "duration": 8,
    "start_time": "2024-06-07T10:23:33.164Z"
   },
   {
    "duration": 18,
    "start_time": "2024-06-07T10:23:33.173Z"
   },
   {
    "duration": 9,
    "start_time": "2024-06-07T10:23:33.192Z"
   },
   {
    "duration": 17,
    "start_time": "2024-06-07T10:23:33.203Z"
   },
   {
    "duration": 9,
    "start_time": "2024-06-07T10:25:52.425Z"
   },
   {
    "duration": 6,
    "start_time": "2024-06-07T10:26:02.057Z"
   },
   {
    "duration": 47,
    "start_time": "2024-06-09T12:04:14.496Z"
   },
   {
    "duration": 4543,
    "start_time": "2024-06-09T12:04:17.691Z"
   },
   {
    "duration": 1507,
    "start_time": "2024-06-09T12:04:22.236Z"
   },
   {
    "duration": 170,
    "start_time": "2024-06-09T12:04:23.745Z"
   },
   {
    "duration": 0,
    "start_time": "2024-06-09T12:04:23.917Z"
   },
   {
    "duration": 0,
    "start_time": "2024-06-09T12:04:23.918Z"
   },
   {
    "duration": 0,
    "start_time": "2024-06-09T12:04:23.919Z"
   },
   {
    "duration": 0,
    "start_time": "2024-06-09T12:04:23.920Z"
   },
   {
    "duration": 0,
    "start_time": "2024-06-09T12:04:23.921Z"
   },
   {
    "duration": 0,
    "start_time": "2024-06-09T12:04:23.922Z"
   },
   {
    "duration": 0,
    "start_time": "2024-06-09T12:04:23.923Z"
   },
   {
    "duration": 0,
    "start_time": "2024-06-09T12:04:23.924Z"
   },
   {
    "duration": 0,
    "start_time": "2024-06-09T12:04:23.925Z"
   },
   {
    "duration": 0,
    "start_time": "2024-06-09T12:04:23.926Z"
   },
   {
    "duration": 0,
    "start_time": "2024-06-09T12:04:23.927Z"
   },
   {
    "duration": 15,
    "start_time": "2024-06-09T12:04:29.548Z"
   },
   {
    "duration": 34,
    "start_time": "2024-06-09T12:06:07.915Z"
   },
   {
    "duration": 2789,
    "start_time": "2024-06-09T12:06:12.343Z"
   },
   {
    "duration": 3,
    "start_time": "2024-06-09T12:06:15.134Z"
   },
   {
    "duration": 45,
    "start_time": "2024-06-09T12:06:15.138Z"
   },
   {
    "duration": 19,
    "start_time": "2024-06-09T12:06:15.184Z"
   },
   {
    "duration": 22,
    "start_time": "2024-06-09T12:06:15.205Z"
   },
   {
    "duration": 172,
    "start_time": "2024-06-09T12:06:15.228Z"
   },
   {
    "duration": 8,
    "start_time": "2024-06-09T12:06:15.402Z"
   },
   {
    "duration": 57,
    "start_time": "2024-06-09T12:06:15.411Z"
   },
   {
    "duration": 71,
    "start_time": "2024-06-09T12:06:15.469Z"
   },
   {
    "duration": 8,
    "start_time": "2024-06-09T12:06:15.541Z"
   },
   {
    "duration": 23,
    "start_time": "2024-06-09T12:06:15.551Z"
   },
   {
    "duration": 20,
    "start_time": "2024-06-09T12:06:15.576Z"
   },
   {
    "duration": 21,
    "start_time": "2024-06-09T12:06:15.597Z"
   },
   {
    "duration": 35,
    "start_time": "2024-06-09T12:06:15.620Z"
   },
   {
    "duration": 10,
    "start_time": "2024-06-09T12:06:46.259Z"
   },
   {
    "duration": 7,
    "start_time": "2024-06-09T12:07:33.289Z"
   },
   {
    "duration": 8,
    "start_time": "2024-06-09T12:08:02.265Z"
   },
   {
    "duration": 13,
    "start_time": "2024-06-09T12:08:45.521Z"
   },
   {
    "duration": 4,
    "start_time": "2024-06-09T12:09:13.961Z"
   },
   {
    "duration": 8,
    "start_time": "2024-06-09T12:09:33.504Z"
   },
   {
    "duration": 9,
    "start_time": "2024-06-09T12:11:39.918Z"
   },
   {
    "duration": 432,
    "start_time": "2024-06-09T12:11:48.470Z"
   },
   {
    "duration": 58,
    "start_time": "2024-06-09T12:12:14.518Z"
   },
   {
    "duration": 10,
    "start_time": "2024-06-09T12:12:21.613Z"
   },
   {
    "duration": 65,
    "start_time": "2024-06-09T12:12:25.230Z"
   },
   {
    "duration": 10,
    "start_time": "2024-06-09T12:12:58.549Z"
   },
   {
    "duration": 67,
    "start_time": "2024-06-09T12:13:00.397Z"
   },
   {
    "duration": 9,
    "start_time": "2024-06-09T12:17:07.874Z"
   },
   {
    "duration": 81,
    "start_time": "2024-06-09T12:18:31.720Z"
   },
   {
    "duration": 16,
    "start_time": "2024-06-09T12:29:58.359Z"
   },
   {
    "duration": 10,
    "start_time": "2024-06-09T12:30:46.619Z"
   },
   {
    "duration": 14,
    "start_time": "2024-06-09T12:31:20.270Z"
   },
   {
    "duration": 13,
    "start_time": "2024-06-09T12:31:23.542Z"
   },
   {
    "duration": 71,
    "start_time": "2024-06-09T12:36:21.684Z"
   },
   {
    "duration": 98,
    "start_time": "2024-06-09T12:36:35.666Z"
   },
   {
    "duration": 85,
    "start_time": "2024-06-09T12:36:46.473Z"
   },
   {
    "duration": 85,
    "start_time": "2024-06-09T12:36:54.016Z"
   },
   {
    "duration": 83,
    "start_time": "2024-06-09T12:37:23.217Z"
   },
   {
    "duration": 84,
    "start_time": "2024-06-09T12:37:42.425Z"
   },
   {
    "duration": 84,
    "start_time": "2024-06-09T12:38:11.016Z"
   },
   {
    "duration": 109,
    "start_time": "2024-06-09T12:38:16.376Z"
   },
   {
    "duration": 79,
    "start_time": "2024-06-09T12:38:20.184Z"
   },
   {
    "duration": 14,
    "start_time": "2024-06-09T12:39:06.968Z"
   },
   {
    "duration": 78,
    "start_time": "2024-06-09T12:39:10.935Z"
   },
   {
    "duration": 159,
    "start_time": "2024-06-09T12:53:23.194Z"
   },
   {
    "duration": 82,
    "start_time": "2024-06-09T12:53:26.498Z"
   },
   {
    "duration": 79,
    "start_time": "2024-06-09T12:53:30.812Z"
   },
   {
    "duration": 81,
    "start_time": "2024-06-09T12:53:42.412Z"
   },
   {
    "duration": 80,
    "start_time": "2024-06-09T12:53:53.946Z"
   },
   {
    "duration": 113,
    "start_time": "2024-06-09T12:54:03.337Z"
   },
   {
    "duration": 76,
    "start_time": "2024-06-09T12:54:06.921Z"
   },
   {
    "duration": 74,
    "start_time": "2024-06-09T12:54:16.908Z"
   },
   {
    "duration": 75,
    "start_time": "2024-06-09T12:54:26.186Z"
   },
   {
    "duration": 76,
    "start_time": "2024-06-09T12:54:32.176Z"
   },
   {
    "duration": 81,
    "start_time": "2024-06-09T12:54:39.264Z"
   },
   {
    "duration": 154,
    "start_time": "2024-06-09T12:54:45.849Z"
   },
   {
    "duration": 78,
    "start_time": "2024-06-09T12:54:50.376Z"
   },
   {
    "duration": 13,
    "start_time": "2024-06-09T13:19:02.360Z"
   },
   {
    "duration": 12,
    "start_time": "2024-06-09T13:19:11.144Z"
   },
   {
    "duration": 10,
    "start_time": "2024-06-09T13:19:22.090Z"
   },
   {
    "duration": 12,
    "start_time": "2024-06-09T13:19:29.006Z"
   },
   {
    "duration": 67,
    "start_time": "2024-06-09T13:19:31.247Z"
   },
   {
    "duration": 12,
    "start_time": "2024-06-09T13:21:42.052Z"
   },
   {
    "duration": 10,
    "start_time": "2024-06-09T13:22:49.068Z"
   },
   {
    "duration": 11,
    "start_time": "2024-06-09T13:23:01.540Z"
   },
   {
    "duration": 10,
    "start_time": "2024-06-09T13:23:11.100Z"
   },
   {
    "duration": 14,
    "start_time": "2024-06-09T13:23:36.987Z"
   },
   {
    "duration": 44,
    "start_time": "2024-06-09T13:23:52.860Z"
   },
   {
    "duration": 44,
    "start_time": "2024-06-09T13:25:18.417Z"
   },
   {
    "duration": 39,
    "start_time": "2024-06-09T13:26:15.314Z"
   },
   {
    "duration": 40,
    "start_time": "2024-06-09T13:26:34.185Z"
   },
   {
    "duration": 15,
    "start_time": "2024-06-09T13:34:09.985Z"
   },
   {
    "duration": 13,
    "start_time": "2024-06-09T13:34:32.144Z"
   },
   {
    "duration": 13,
    "start_time": "2024-06-09T13:34:56.416Z"
   },
   {
    "duration": 16,
    "start_time": "2024-06-09T13:35:49.760Z"
   },
   {
    "duration": 213,
    "start_time": "2024-06-09T13:49:15.370Z"
   },
   {
    "duration": 208,
    "start_time": "2024-06-09T13:49:22.154Z"
   },
   {
    "duration": 184,
    "start_time": "2024-06-09T13:49:39.714Z"
   },
   {
    "duration": 120,
    "start_time": "2024-06-09T13:49:52.306Z"
   },
   {
    "duration": 209,
    "start_time": "2024-06-09T13:51:34.912Z"
   },
   {
    "duration": 126,
    "start_time": "2024-06-09T13:51:40.672Z"
   },
   {
    "duration": 9,
    "start_time": "2024-06-09T13:51:52.040Z"
   },
   {
    "duration": 128,
    "start_time": "2024-06-09T13:51:54.752Z"
   },
   {
    "duration": 16,
    "start_time": "2024-06-09T13:53:23.054Z"
   },
   {
    "duration": 94,
    "start_time": "2024-06-09T13:53:50.798Z"
   },
   {
    "duration": 82,
    "start_time": "2024-06-09T13:53:55.253Z"
   },
   {
    "duration": 78,
    "start_time": "2024-06-09T13:53:58.885Z"
   },
   {
    "duration": 106,
    "start_time": "2024-06-09T13:54:13.460Z"
   },
   {
    "duration": 74,
    "start_time": "2024-06-09T13:54:37.957Z"
   },
   {
    "duration": 72,
    "start_time": "2024-06-09T13:54:42.324Z"
   },
   {
    "duration": 131,
    "start_time": "2024-06-09T13:55:09.285Z"
   },
   {
    "duration": 13,
    "start_time": "2024-06-09T14:07:42.927Z"
   },
   {
    "duration": 474,
    "start_time": "2024-06-09T14:07:54.127Z"
   },
   {
    "duration": 142,
    "start_time": "2024-06-09T14:08:12.942Z"
   },
   {
    "duration": 2799,
    "start_time": "2024-06-09T14:13:33.215Z"
   },
   {
    "duration": 1338,
    "start_time": "2024-06-09T14:13:36.016Z"
   },
   {
    "duration": 34,
    "start_time": "2024-06-09T14:13:37.355Z"
   },
   {
    "duration": 9,
    "start_time": "2024-06-09T14:13:37.391Z"
   },
   {
    "duration": 30,
    "start_time": "2024-06-09T14:13:37.402Z"
   },
   {
    "duration": 43,
    "start_time": "2024-06-09T14:13:37.434Z"
   },
   {
    "duration": 13,
    "start_time": "2024-06-09T14:13:37.478Z"
   },
   {
    "duration": 22,
    "start_time": "2024-06-09T14:13:37.493Z"
   },
   {
    "duration": 27,
    "start_time": "2024-06-09T14:13:37.517Z"
   },
   {
    "duration": 22,
    "start_time": "2024-06-09T14:13:37.545Z"
   },
   {
    "duration": 20,
    "start_time": "2024-06-09T14:13:37.569Z"
   },
   {
    "duration": 14,
    "start_time": "2024-06-09T14:13:37.591Z"
   },
   {
    "duration": 21,
    "start_time": "2024-06-09T14:13:37.607Z"
   },
   {
    "duration": 19,
    "start_time": "2024-06-09T14:13:37.630Z"
   },
   {
    "duration": 437,
    "start_time": "2024-06-09T14:13:37.650Z"
   },
   {
    "duration": 9,
    "start_time": "2024-06-09T14:13:38.088Z"
   },
   {
    "duration": 151,
    "start_time": "2024-06-09T14:13:38.098Z"
   },
   {
    "duration": 12,
    "start_time": "2024-06-09T14:13:38.250Z"
   },
   {
    "duration": 78,
    "start_time": "2024-06-09T14:13:38.263Z"
   },
   {
    "duration": 13,
    "start_time": "2024-06-09T14:13:38.342Z"
   },
   {
    "duration": 143,
    "start_time": "2024-06-09T14:13:38.357Z"
   },
   {
    "duration": 373789,
    "start_time": "2024-06-09T14:13:38.501Z"
   },
   {
    "duration": 284,
    "start_time": "2024-06-09T14:19:52.291Z"
   },
   {
    "duration": 47,
    "start_time": "2024-06-09T14:21:23.873Z"
   },
   {
    "duration": 187,
    "start_time": "2024-06-09T14:21:31.474Z"
   },
   {
    "duration": 0,
    "start_time": "2024-06-09T14:23:25.994Z"
   },
   {
    "duration": 125,
    "start_time": "2024-06-09T14:23:27.808Z"
   },
   {
    "duration": 138,
    "start_time": "2024-06-09T14:25:06.230Z"
   },
   {
    "duration": 600,
    "start_time": "2024-06-09T14:26:18.844Z"
   },
   {
    "duration": 159,
    "start_time": "2024-06-09T14:26:23.564Z"
   },
   {
    "duration": 166,
    "start_time": "2024-06-09T14:28:08.963Z"
   },
   {
    "duration": 215,
    "start_time": "2024-06-09T14:28:38.162Z"
   },
   {
    "duration": 10,
    "start_time": "2024-06-09T14:28:45.794Z"
   },
   {
    "duration": 180,
    "start_time": "2024-06-09T14:28:53.226Z"
   },
   {
    "duration": 187,
    "start_time": "2024-06-09T14:30:39.392Z"
   },
   {
    "duration": 165,
    "start_time": "2024-06-09T14:30:47.295Z"
   },
   {
    "duration": 187,
    "start_time": "2024-06-09T14:30:51.200Z"
   },
   {
    "duration": 201,
    "start_time": "2024-06-09T14:30:57.864Z"
   },
   {
    "duration": 209,
    "start_time": "2024-06-09T14:40:23.423Z"
   },
   {
    "duration": 174,
    "start_time": "2024-06-09T14:40:28.607Z"
   },
   {
    "duration": 220,
    "start_time": "2024-06-09T14:40:32.416Z"
   },
   {
    "duration": 14,
    "start_time": "2024-06-09T14:42:06.862Z"
   },
   {
    "duration": 7,
    "start_time": "2024-06-09T14:42:23.694Z"
   },
   {
    "duration": 8,
    "start_time": "2024-06-09T14:42:32.966Z"
   },
   {
    "duration": 8,
    "start_time": "2024-06-09T14:51:09.630Z"
   },
   {
    "duration": 24,
    "start_time": "2024-06-09T16:36:49.193Z"
   },
   {
    "duration": 21,
    "start_time": "2024-06-09T16:38:51.973Z"
   },
   {
    "duration": 14,
    "start_time": "2024-06-09T16:39:48.981Z"
   },
   {
    "duration": 15,
    "start_time": "2024-06-09T16:39:57.182Z"
   },
   {
    "duration": 13,
    "start_time": "2024-06-09T16:40:18.821Z"
   },
   {
    "duration": 22,
    "start_time": "2024-06-09T16:40:21.974Z"
   },
   {
    "duration": 27,
    "start_time": "2024-06-09T16:40:27.631Z"
   },
   {
    "duration": 16,
    "start_time": "2024-06-09T16:40:34.095Z"
   },
   {
    "duration": 16,
    "start_time": "2024-06-09T16:40:40.222Z"
   },
   {
    "duration": 200,
    "start_time": "2024-06-09T16:42:26.184Z"
   },
   {
    "duration": 242,
    "start_time": "2024-06-09T16:42:39.522Z"
   },
   {
    "duration": 197,
    "start_time": "2024-06-09T16:52:50.064Z"
   },
   {
    "duration": 186,
    "start_time": "2024-06-09T16:53:05.048Z"
   },
   {
    "duration": 6,
    "start_time": "2024-06-09T17:07:51.597Z"
   },
   {
    "duration": 11,
    "start_time": "2024-06-09T17:08:01.572Z"
   },
   {
    "duration": 11,
    "start_time": "2024-06-09T17:08:12.564Z"
   },
   {
    "duration": 19,
    "start_time": "2024-06-09T17:11:55.009Z"
   },
   {
    "duration": 9,
    "start_time": "2024-06-09T17:15:56.578Z"
   },
   {
    "duration": 11,
    "start_time": "2024-06-09T17:38:39.789Z"
   },
   {
    "duration": 13,
    "start_time": "2024-06-09T17:44:00.805Z"
   },
   {
    "duration": 13,
    "start_time": "2024-06-09T17:44:06.787Z"
   },
   {
    "duration": 10,
    "start_time": "2024-06-09T17:44:16.598Z"
   },
   {
    "duration": 12,
    "start_time": "2024-06-09T17:45:14.184Z"
   },
   {
    "duration": 17,
    "start_time": "2024-06-09T17:51:09.407Z"
   },
   {
    "duration": 13,
    "start_time": "2024-06-09T17:51:22.590Z"
   },
   {
    "duration": 23,
    "start_time": "2024-06-09T17:51:28.181Z"
   },
   {
    "duration": 15,
    "start_time": "2024-06-09T18:07:02.275Z"
   },
   {
    "duration": 16,
    "start_time": "2024-06-09T18:07:09.539Z"
   },
   {
    "duration": 16,
    "start_time": "2024-06-09T18:07:20.146Z"
   },
   {
    "duration": 15,
    "start_time": "2024-06-09T18:07:30.410Z"
   },
   {
    "duration": 18,
    "start_time": "2024-06-09T18:07:53.976Z"
   },
   {
    "duration": 18,
    "start_time": "2024-06-09T18:08:44.488Z"
   },
   {
    "duration": 26,
    "start_time": "2024-06-09T18:08:53.527Z"
   },
   {
    "duration": 16,
    "start_time": "2024-06-09T18:09:20.830Z"
   },
   {
    "duration": 27,
    "start_time": "2024-06-09T18:10:28.698Z"
   },
   {
    "duration": 14,
    "start_time": "2024-06-09T18:11:52.112Z"
   },
   {
    "duration": 40,
    "start_time": "2024-06-09T18:13:11.750Z"
   },
   {
    "duration": 40,
    "start_time": "2024-06-09T18:14:37.406Z"
   },
   {
    "duration": 41,
    "start_time": "2024-06-09T18:14:45.374Z"
   },
   {
    "duration": 21,
    "start_time": "2024-06-09T18:15:40.821Z"
   },
   {
    "duration": 184,
    "start_time": "2024-06-09T18:15:55.486Z"
   },
   {
    "duration": 189,
    "start_time": "2024-06-09T18:16:13.197Z"
   },
   {
    "duration": 44,
    "start_time": "2024-06-09T18:16:55.389Z"
   },
   {
    "duration": 41,
    "start_time": "2024-06-09T18:17:00.723Z"
   },
   {
    "duration": 41,
    "start_time": "2024-06-09T18:27:09.573Z"
   },
   {
    "duration": 38,
    "start_time": "2024-06-09T18:27:21.380Z"
   },
   {
    "duration": 37,
    "start_time": "2024-06-09T18:27:27.405Z"
   },
   {
    "duration": 6,
    "start_time": "2024-06-09T18:27:47.877Z"
   },
   {
    "duration": 14,
    "start_time": "2024-06-09T18:27:54.012Z"
   },
   {
    "duration": 50,
    "start_time": "2024-06-09T18:29:33.413Z"
   },
   {
    "duration": 60,
    "start_time": "2024-06-09T18:29:36.685Z"
   },
   {
    "duration": 867,
    "start_time": "2024-06-09T18:38:53.012Z"
   },
   {
    "duration": 10,
    "start_time": "2024-06-09T18:39:20.063Z"
   },
   {
    "duration": 855,
    "start_time": "2024-06-09T18:39:26.460Z"
   },
   {
    "duration": 90,
    "start_time": "2024-06-09T18:40:22.020Z"
   },
   {
    "duration": 84,
    "start_time": "2024-06-09T18:41:56.520Z"
   },
   {
    "duration": 20,
    "start_time": "2024-06-09T18:42:04.664Z"
   },
   {
    "duration": 19,
    "start_time": "2024-06-09T19:25:07.714Z"
   },
   {
    "duration": 22,
    "start_time": "2024-06-09T19:27:13.097Z"
   },
   {
    "duration": 16,
    "start_time": "2024-06-09T19:29:25.345Z"
   },
   {
    "duration": 2896,
    "start_time": "2024-06-09T19:29:35.368Z"
   },
   {
    "duration": 3,
    "start_time": "2024-06-09T19:29:38.266Z"
   },
   {
    "duration": 37,
    "start_time": "2024-06-09T19:29:38.271Z"
   },
   {
    "duration": 10,
    "start_time": "2024-06-09T19:29:38.310Z"
   },
   {
    "duration": 6,
    "start_time": "2024-06-09T19:29:38.321Z"
   },
   {
    "duration": 47,
    "start_time": "2024-06-09T19:29:38.328Z"
   },
   {
    "duration": 11,
    "start_time": "2024-06-09T19:29:38.376Z"
   },
   {
    "duration": 7,
    "start_time": "2024-06-09T19:29:38.388Z"
   },
   {
    "duration": 18,
    "start_time": "2024-06-09T19:29:38.396Z"
   },
   {
    "duration": 8,
    "start_time": "2024-06-09T19:29:38.416Z"
   },
   {
    "duration": 54,
    "start_time": "2024-06-09T19:29:38.425Z"
   },
   {
    "duration": 9,
    "start_time": "2024-06-09T19:29:38.480Z"
   },
   {
    "duration": 6,
    "start_time": "2024-06-09T19:29:38.491Z"
   },
   {
    "duration": 10,
    "start_time": "2024-06-09T19:29:38.499Z"
   },
   {
    "duration": 83,
    "start_time": "2024-06-09T19:29:38.511Z"
   },
   {
    "duration": 18,
    "start_time": "2024-06-09T19:29:38.595Z"
   },
   {
    "duration": 82,
    "start_time": "2024-06-09T19:29:38.614Z"
   },
   {
    "duration": 15,
    "start_time": "2024-06-09T19:29:38.709Z"
   },
   {
    "duration": 12,
    "start_time": "2024-06-09T19:29:38.726Z"
   },
   {
    "duration": 47,
    "start_time": "2024-06-09T19:29:38.739Z"
   },
   {
    "duration": 7,
    "start_time": "2024-06-09T19:29:38.788Z"
   },
   {
    "duration": 208,
    "start_time": "2024-06-09T19:29:38.808Z"
   },
   {
    "duration": 8,
    "start_time": "2024-06-09T19:29:39.017Z"
   },
   {
    "duration": 195,
    "start_time": "2024-06-09T19:29:39.026Z"
   },
   {
    "duration": 23,
    "start_time": "2024-06-09T19:29:39.222Z"
   },
   {
    "duration": 12,
    "start_time": "2024-06-09T19:29:39.246Z"
   },
   {
    "duration": 229,
    "start_time": "2024-06-09T19:29:39.260Z"
   },
   {
    "duration": 230,
    "start_time": "2024-06-09T19:29:39.492Z"
   },
   {
    "duration": 12,
    "start_time": "2024-06-09T19:29:39.723Z"
   },
   {
    "duration": 209,
    "start_time": "2024-06-09T19:29:39.737Z"
   },
   {
    "duration": 204,
    "start_time": "2024-06-09T19:29:39.948Z"
   },
   {
    "duration": 20,
    "start_time": "2024-06-09T19:29:40.153Z"
   },
   {
    "duration": 0,
    "start_time": "2024-06-09T19:29:40.175Z"
   },
   {
    "duration": 0,
    "start_time": "2024-06-09T19:29:40.176Z"
   },
   {
    "duration": 1,
    "start_time": "2024-06-09T19:29:40.176Z"
   },
   {
    "duration": 0,
    "start_time": "2024-06-09T19:29:40.177Z"
   },
   {
    "duration": 0,
    "start_time": "2024-06-09T19:29:40.178Z"
   },
   {
    "duration": 0,
    "start_time": "2024-06-09T19:29:40.179Z"
   },
   {
    "duration": 0,
    "start_time": "2024-06-09T19:29:40.180Z"
   },
   {
    "duration": 0,
    "start_time": "2024-06-09T19:29:40.181Z"
   },
   {
    "duration": 15,
    "start_time": "2024-06-09T19:30:06.439Z"
   },
   {
    "duration": 26,
    "start_time": "2024-06-09T19:30:58.669Z"
   },
   {
    "duration": 7,
    "start_time": "2024-06-10T13:19:34.973Z"
   },
   {
    "duration": 40,
    "start_time": "2024-06-10T13:20:44.008Z"
   },
   {
    "duration": 6,
    "start_time": "2024-06-10T13:21:03.943Z"
   },
   {
    "duration": 6,
    "start_time": "2024-06-10T13:21:09.142Z"
   },
   {
    "duration": 4104,
    "start_time": "2024-06-10T13:21:12.401Z"
   },
   {
    "duration": 1402,
    "start_time": "2024-06-10T13:21:16.506Z"
   },
   {
    "duration": 80,
    "start_time": "2024-06-10T13:21:17.910Z"
   },
   {
    "duration": 9,
    "start_time": "2024-06-10T13:21:17.991Z"
   },
   {
    "duration": 35,
    "start_time": "2024-06-10T13:21:18.002Z"
   },
   {
    "duration": 82,
    "start_time": "2024-06-10T13:21:18.038Z"
   },
   {
    "duration": 9,
    "start_time": "2024-06-10T13:21:18.121Z"
   },
   {
    "duration": 11,
    "start_time": "2024-06-10T13:21:18.131Z"
   },
   {
    "duration": 62,
    "start_time": "2024-06-10T13:21:18.143Z"
   },
   {
    "duration": 8,
    "start_time": "2024-06-10T13:21:18.208Z"
   },
   {
    "duration": 24,
    "start_time": "2024-06-10T13:21:18.218Z"
   },
   {
    "duration": 8,
    "start_time": "2024-06-10T13:21:18.243Z"
   },
   {
    "duration": 6,
    "start_time": "2024-06-10T13:21:18.252Z"
   },
   {
    "duration": 12,
    "start_time": "2024-06-10T13:21:18.259Z"
   },
   {
    "duration": 407,
    "start_time": "2024-06-10T13:21:18.272Z"
   },
   {
    "duration": 8,
    "start_time": "2024-06-10T13:21:18.681Z"
   },
   {
    "duration": 139,
    "start_time": "2024-06-10T13:21:18.690Z"
   },
   {
    "duration": 11,
    "start_time": "2024-06-10T13:21:18.830Z"
   },
   {
    "duration": 12,
    "start_time": "2024-06-10T13:21:18.842Z"
   },
   {
    "duration": 49,
    "start_time": "2024-06-10T13:21:18.855Z"
   },
   {
    "duration": 6,
    "start_time": "2024-06-10T13:21:18.905Z"
   },
   {
    "duration": 195,
    "start_time": "2024-06-10T13:21:18.913Z"
   },
   {
    "duration": 6,
    "start_time": "2024-06-10T13:21:19.110Z"
   },
   {
    "duration": 260,
    "start_time": "2024-06-10T13:21:19.117Z"
   },
   {
    "duration": 23,
    "start_time": "2024-06-10T13:21:19.379Z"
   },
   {
    "duration": 16,
    "start_time": "2024-06-10T13:21:19.403Z"
   },
   {
    "duration": 196,
    "start_time": "2024-06-10T13:21:19.420Z"
   },
   {
    "duration": 245,
    "start_time": "2024-06-10T13:21:19.619Z"
   },
   {
    "duration": 12,
    "start_time": "2024-06-10T13:21:19.865Z"
   },
   {
    "duration": 186,
    "start_time": "2024-06-10T13:21:19.878Z"
   },
   {
    "duration": 193,
    "start_time": "2024-06-10T13:21:20.065Z"
   },
   {
    "duration": 24,
    "start_time": "2024-06-10T13:21:20.259Z"
   },
   {
    "duration": 247,
    "start_time": "2024-06-10T13:21:20.285Z"
   },
   {
    "duration": 11,
    "start_time": "2024-06-10T13:21:20.533Z"
   },
   {
    "duration": 31,
    "start_time": "2024-06-10T13:21:20.545Z"
   },
   {
    "duration": 49,
    "start_time": "2024-06-10T13:21:20.577Z"
   },
   {
    "duration": 16,
    "start_time": "2024-06-10T13:21:20.627Z"
   },
   {
    "duration": 29,
    "start_time": "2024-06-10T13:21:20.644Z"
   },
   {
    "duration": 22,
    "start_time": "2024-06-10T13:21:20.675Z"
   },
   {
    "duration": 61,
    "start_time": "2024-06-10T13:21:20.698Z"
   },
   {
    "duration": 2,
    "start_time": "2024-06-10T13:21:20.760Z"
   },
   {
    "duration": 95,
    "start_time": "2024-06-10T13:22:14.109Z"
   },
   {
    "duration": 107,
    "start_time": "2024-06-10T13:22:29.550Z"
   },
   {
    "duration": 2619,
    "start_time": "2024-06-10T13:22:33.148Z"
   },
   {
    "duration": 3,
    "start_time": "2024-06-10T13:22:35.769Z"
   },
   {
    "duration": 58,
    "start_time": "2024-06-10T13:22:35.774Z"
   },
   {
    "duration": 9,
    "start_time": "2024-06-10T13:22:35.833Z"
   },
   {
    "duration": 19,
    "start_time": "2024-06-10T13:22:35.843Z"
   },
   {
    "duration": 44,
    "start_time": "2024-06-10T13:22:35.863Z"
   },
   {
    "duration": 12,
    "start_time": "2024-06-10T13:22:35.908Z"
   },
   {
    "duration": 14,
    "start_time": "2024-06-10T13:22:35.921Z"
   },
   {
    "duration": 32,
    "start_time": "2024-06-10T13:22:35.936Z"
   },
   {
    "duration": 7,
    "start_time": "2024-06-10T13:22:35.970Z"
   },
   {
    "duration": 34,
    "start_time": "2024-06-10T13:22:35.978Z"
   },
   {
    "duration": 23,
    "start_time": "2024-06-10T13:22:36.014Z"
   },
   {
    "duration": 26,
    "start_time": "2024-06-10T13:22:36.038Z"
   },
   {
    "duration": 28,
    "start_time": "2024-06-10T13:22:36.066Z"
   },
   {
    "duration": 72,
    "start_time": "2024-06-10T13:22:36.096Z"
   },
   {
    "duration": 8,
    "start_time": "2024-06-10T13:22:36.169Z"
   },
   {
    "duration": 81,
    "start_time": "2024-06-10T13:22:36.178Z"
   },
   {
    "duration": 10,
    "start_time": "2024-06-10T13:22:36.261Z"
   },
   {
    "duration": 22,
    "start_time": "2024-06-10T13:22:36.272Z"
   },
   {
    "duration": 59,
    "start_time": "2024-06-10T13:22:36.295Z"
   },
   {
    "duration": 6,
    "start_time": "2024-06-10T13:22:36.356Z"
   },
   {
    "duration": 302,
    "start_time": "2024-06-10T13:22:36.363Z"
   },
   {
    "duration": 8,
    "start_time": "2024-06-10T13:22:36.666Z"
   },
   {
    "duration": 183,
    "start_time": "2024-06-10T13:22:36.675Z"
   },
   {
    "duration": 18,
    "start_time": "2024-06-10T13:22:36.859Z"
   },
   {
    "duration": 35,
    "start_time": "2024-06-10T13:22:36.878Z"
   },
   {
    "duration": 201,
    "start_time": "2024-06-10T13:22:36.914Z"
   },
   {
    "duration": 209,
    "start_time": "2024-06-10T13:22:37.117Z"
   },
   {
    "duration": 11,
    "start_time": "2024-06-10T13:22:37.328Z"
   },
   {
    "duration": 183,
    "start_time": "2024-06-10T13:22:37.340Z"
   },
   {
    "duration": 183,
    "start_time": "2024-06-10T13:22:37.524Z"
   },
   {
    "duration": 23,
    "start_time": "2024-06-10T13:22:37.712Z"
   },
   {
    "duration": 225,
    "start_time": "2024-06-10T13:22:37.737Z"
   },
   {
    "duration": 11,
    "start_time": "2024-06-10T13:22:37.964Z"
   },
   {
    "duration": 9,
    "start_time": "2024-06-10T13:22:37.976Z"
   },
   {
    "duration": 70,
    "start_time": "2024-06-10T13:22:37.986Z"
   },
   {
    "duration": 17,
    "start_time": "2024-06-10T13:22:38.057Z"
   },
   {
    "duration": 25,
    "start_time": "2024-06-10T13:22:38.076Z"
   },
   {
    "duration": 10,
    "start_time": "2024-06-10T13:22:38.102Z"
   },
   {
    "duration": 45,
    "start_time": "2024-06-10T13:22:38.114Z"
   },
   {
    "duration": 2,
    "start_time": "2024-06-10T13:22:38.164Z"
   },
   {
    "duration": 31,
    "start_time": "2024-06-10T13:26:38.287Z"
   },
   {
    "duration": 132,
    "start_time": "2024-06-10T13:26:45.887Z"
   },
   {
    "duration": 141,
    "start_time": "2024-06-10T13:27:31.254Z"
   },
   {
    "duration": 137,
    "start_time": "2024-06-10T13:29:08.827Z"
   },
   {
    "duration": 161,
    "start_time": "2024-06-10T13:29:33.608Z"
   },
   {
    "duration": 4,
    "start_time": "2024-06-10T13:29:46.884Z"
   },
   {
    "duration": 3,
    "start_time": "2024-06-10T13:32:11.032Z"
   },
   {
    "duration": 4,
    "start_time": "2024-06-10T13:32:27.935Z"
   },
   {
    "duration": 3,
    "start_time": "2024-06-10T13:32:38.839Z"
   },
   {
    "duration": 4,
    "start_time": "2024-06-10T13:32:46.527Z"
   },
   {
    "duration": 5,
    "start_time": "2024-06-10T13:33:00.183Z"
   },
   {
    "duration": 23,
    "start_time": "2024-06-10T13:46:16.664Z"
   },
   {
    "duration": 145,
    "start_time": "2024-06-10T13:48:21.453Z"
   },
   {
    "duration": 3,
    "start_time": "2024-06-10T13:48:26.461Z"
   },
   {
    "duration": 132,
    "start_time": "2024-06-10T13:48:38.534Z"
   },
   {
    "duration": 4,
    "start_time": "2024-06-10T13:48:41.349Z"
   },
   {
    "duration": 24,
    "start_time": "2024-06-10T14:02:06.822Z"
   },
   {
    "duration": 23,
    "start_time": "2024-06-10T14:02:36.125Z"
   },
   {
    "duration": 23,
    "start_time": "2024-06-10T14:03:54.012Z"
   },
   {
    "duration": 12,
    "start_time": "2024-06-10T14:12:25.498Z"
   },
   {
    "duration": 12,
    "start_time": "2024-06-10T14:12:33.794Z"
   },
   {
    "duration": 14,
    "start_time": "2024-06-10T14:12:40.786Z"
   },
   {
    "duration": 133,
    "start_time": "2024-06-10T14:17:12.093Z"
   },
   {
    "duration": 23,
    "start_time": "2024-06-10T14:18:15.116Z"
   },
   {
    "duration": 24,
    "start_time": "2024-06-10T14:18:22.115Z"
   },
   {
    "duration": 33,
    "start_time": "2024-06-10T14:18:28.980Z"
   },
   {
    "duration": 138,
    "start_time": "2024-06-10T14:19:06.227Z"
   },
   {
    "duration": 4,
    "start_time": "2024-06-10T14:19:10.075Z"
   },
   {
    "duration": 753,
    "start_time": "2024-06-10T14:24:25.333Z"
   },
   {
    "duration": 1220,
    "start_time": "2024-06-10T14:24:45.952Z"
   },
   {
    "duration": 140,
    "start_time": "2024-06-10T14:25:01.054Z"
   },
   {
    "duration": 4,
    "start_time": "2024-06-10T14:25:09.526Z"
   },
   {
    "duration": 124,
    "start_time": "2024-06-10T14:26:12.214Z"
   },
   {
    "duration": 4,
    "start_time": "2024-06-10T14:26:15.214Z"
   },
   {
    "duration": 4,
    "start_time": "2024-06-10T14:29:54.341Z"
   },
   {
    "duration": 4,
    "start_time": "2024-06-10T14:30:01.860Z"
   },
   {
    "duration": 99,
    "start_time": "2024-06-10T14:30:20.012Z"
   },
   {
    "duration": 3,
    "start_time": "2024-06-10T14:30:24.709Z"
   },
   {
    "duration": 4,
    "start_time": "2024-06-10T14:30:55.573Z"
   },
   {
    "duration": 10,
    "start_time": "2024-06-10T15:45:43.032Z"
   },
   {
    "duration": 4,
    "start_time": "2024-06-10T15:47:10.454Z"
   },
   {
    "duration": 9,
    "start_time": "2024-06-10T15:47:11.605Z"
   },
   {
    "duration": 1031,
    "start_time": "2024-06-10T15:47:46.094Z"
   },
   {
    "duration": 339,
    "start_time": "2024-06-10T15:47:56.604Z"
   },
   {
    "duration": 5,
    "start_time": "2024-06-10T15:48:34.187Z"
   },
   {
    "duration": 4,
    "start_time": "2024-06-10T15:48:43.107Z"
   },
   {
    "duration": 327,
    "start_time": "2024-06-10T15:48:44.332Z"
   },
   {
    "duration": 4,
    "start_time": "2024-06-10T15:48:53.659Z"
   },
   {
    "duration": 281,
    "start_time": "2024-06-10T15:48:54.484Z"
   },
   {
    "duration": 301,
    "start_time": "2024-06-10T15:49:07.074Z"
   },
   {
    "duration": 335,
    "start_time": "2024-06-10T15:49:22.778Z"
   },
   {
    "duration": 122,
    "start_time": "2024-06-10T15:50:45.840Z"
   },
   {
    "duration": 4,
    "start_time": "2024-06-10T15:50:50.088Z"
   },
   {
    "duration": 9,
    "start_time": "2024-06-10T15:50:59.367Z"
   },
   {
    "duration": 24,
    "start_time": "2024-06-10T15:51:29.711Z"
   },
   {
    "duration": 10,
    "start_time": "2024-06-10T15:51:44.407Z"
   },
   {
    "duration": 4,
    "start_time": "2024-06-10T15:52:01.640Z"
   },
   {
    "duration": 3,
    "start_time": "2024-06-10T15:52:06.544Z"
   },
   {
    "duration": 4,
    "start_time": "2024-06-10T15:52:11.110Z"
   },
   {
    "duration": 2587,
    "start_time": "2024-06-10T15:52:13.654Z"
   },
   {
    "duration": 3,
    "start_time": "2024-06-10T15:52:16.244Z"
   },
   {
    "duration": 73,
    "start_time": "2024-06-10T15:52:16.249Z"
   },
   {
    "duration": 11,
    "start_time": "2024-06-10T15:52:16.324Z"
   },
   {
    "duration": 25,
    "start_time": "2024-06-10T15:52:16.336Z"
   },
   {
    "duration": 42,
    "start_time": "2024-06-10T15:52:16.363Z"
   },
   {
    "duration": 9,
    "start_time": "2024-06-10T15:52:16.406Z"
   },
   {
    "duration": 5,
    "start_time": "2024-06-10T15:52:16.417Z"
   },
   {
    "duration": 21,
    "start_time": "2024-06-10T15:52:16.423Z"
   },
   {
    "duration": 8,
    "start_time": "2024-06-10T15:52:16.446Z"
   },
   {
    "duration": 18,
    "start_time": "2024-06-10T15:52:16.455Z"
   },
   {
    "duration": 9,
    "start_time": "2024-06-10T15:52:16.474Z"
   },
   {
    "duration": 22,
    "start_time": "2024-06-10T15:52:16.484Z"
   },
   {
    "duration": 19,
    "start_time": "2024-06-10T15:52:16.508Z"
   },
   {
    "duration": 67,
    "start_time": "2024-06-10T15:52:16.528Z"
   },
   {
    "duration": 8,
    "start_time": "2024-06-10T15:52:16.596Z"
   },
   {
    "duration": 75,
    "start_time": "2024-06-10T15:52:16.605Z"
   },
   {
    "duration": 20,
    "start_time": "2024-06-10T15:52:16.682Z"
   },
   {
    "duration": 5,
    "start_time": "2024-06-10T15:52:16.704Z"
   },
   {
    "duration": 41,
    "start_time": "2024-06-10T15:52:16.710Z"
   },
   {
    "duration": 21,
    "start_time": "2024-06-10T15:52:16.753Z"
   },
   {
    "duration": 196,
    "start_time": "2024-06-10T15:52:16.775Z"
   },
   {
    "duration": 7,
    "start_time": "2024-06-10T15:52:16.972Z"
   },
   {
    "duration": 179,
    "start_time": "2024-06-10T15:52:16.980Z"
   },
   {
    "duration": 24,
    "start_time": "2024-06-10T15:52:17.160Z"
   },
   {
    "duration": 25,
    "start_time": "2024-06-10T15:52:17.186Z"
   },
   {
    "duration": 210,
    "start_time": "2024-06-10T15:52:17.213Z"
   },
   {
    "duration": 202,
    "start_time": "2024-06-10T15:52:17.426Z"
   },
   {
    "duration": 16,
    "start_time": "2024-06-10T15:52:17.629Z"
   },
   {
    "duration": 286,
    "start_time": "2024-06-10T15:52:17.647Z"
   },
   {
    "duration": 180,
    "start_time": "2024-06-10T15:52:17.934Z"
   },
   {
    "duration": 761,
    "start_time": "2024-06-10T15:52:18.115Z"
   },
   {
    "duration": 140,
    "start_time": "2024-06-10T15:52:18.878Z"
   },
   {
    "duration": 4,
    "start_time": "2024-06-10T15:52:19.019Z"
   },
   {
    "duration": 15,
    "start_time": "2024-06-10T15:52:19.024Z"
   },
   {
    "duration": 16,
    "start_time": "2024-06-10T15:52:19.040Z"
   },
   {
    "duration": 11,
    "start_time": "2024-06-10T15:52:19.057Z"
   },
   {
    "duration": 39,
    "start_time": "2024-06-10T15:52:19.069Z"
   },
   {
    "duration": 10,
    "start_time": "2024-06-10T15:52:19.109Z"
   },
   {
    "duration": 48,
    "start_time": "2024-06-10T15:52:19.120Z"
   },
   {
    "duration": 17,
    "start_time": "2024-06-10T15:52:19.170Z"
   },
   {
    "duration": 19,
    "start_time": "2024-06-10T15:52:19.188Z"
   },
   {
    "duration": 16,
    "start_time": "2024-06-10T15:52:19.209Z"
   },
   {
    "duration": 4,
    "start_time": "2024-06-10T15:55:25.794Z"
   },
   {
    "duration": 5,
    "start_time": "2024-06-10T15:58:04.502Z"
   },
   {
    "duration": 5,
    "start_time": "2024-06-10T15:58:37.326Z"
   },
   {
    "duration": 5,
    "start_time": "2024-06-10T16:00:03.268Z"
   },
   {
    "duration": 4,
    "start_time": "2024-06-10T16:41:13.746Z"
   },
   {
    "duration": 5,
    "start_time": "2024-06-10T16:55:41.442Z"
   },
   {
    "duration": 4,
    "start_time": "2024-06-10T16:57:31.433Z"
   },
   {
    "duration": 5,
    "start_time": "2024-06-10T16:57:34.298Z"
   },
   {
    "duration": 4,
    "start_time": "2024-06-10T16:57:48.393Z"
   },
   {
    "duration": 5,
    "start_time": "2024-06-10T16:57:52.703Z"
   },
   {
    "duration": 5,
    "start_time": "2024-06-10T16:57:59.111Z"
   },
   {
    "duration": 4,
    "start_time": "2024-06-10T16:58:02.280Z"
   },
   {
    "duration": 8,
    "start_time": "2024-06-10T17:02:27.812Z"
   },
   {
    "duration": 8,
    "start_time": "2024-06-10T17:03:41.515Z"
   },
   {
    "duration": 4953,
    "start_time": "2024-06-10T18:54:59.744Z"
   },
   {
    "duration": 1642,
    "start_time": "2024-06-10T18:55:04.699Z"
   },
   {
    "duration": 85,
    "start_time": "2024-06-10T18:55:06.343Z"
   },
   {
    "duration": 12,
    "start_time": "2024-06-10T18:55:06.430Z"
   },
   {
    "duration": 15,
    "start_time": "2024-06-10T18:55:06.444Z"
   },
   {
    "duration": 89,
    "start_time": "2024-06-10T18:55:06.461Z"
   },
   {
    "duration": 13,
    "start_time": "2024-06-10T18:55:06.551Z"
   },
   {
    "duration": 23,
    "start_time": "2024-06-10T18:55:06.566Z"
   },
   {
    "duration": 72,
    "start_time": "2024-06-10T18:55:06.591Z"
   },
   {
    "duration": 16,
    "start_time": "2024-06-10T18:55:06.667Z"
   },
   {
    "duration": 33,
    "start_time": "2024-06-10T18:55:06.685Z"
   },
   {
    "duration": 17,
    "start_time": "2024-06-10T18:55:06.720Z"
   },
   {
    "duration": 13,
    "start_time": "2024-06-10T18:55:06.739Z"
   },
   {
    "duration": 34,
    "start_time": "2024-06-10T18:55:06.754Z"
   },
   {
    "duration": 630,
    "start_time": "2024-06-10T18:55:06.789Z"
   },
   {
    "duration": 27,
    "start_time": "2024-06-10T18:55:07.420Z"
   },
   {
    "duration": 203,
    "start_time": "2024-06-10T18:55:07.448Z"
   },
   {
    "duration": 13,
    "start_time": "2024-06-10T18:55:07.653Z"
   },
   {
    "duration": 23,
    "start_time": "2024-06-10T18:55:07.668Z"
   },
   {
    "duration": 61,
    "start_time": "2024-06-10T18:55:07.693Z"
   },
   {
    "duration": 9,
    "start_time": "2024-06-10T18:55:07.755Z"
   },
   {
    "duration": 275,
    "start_time": "2024-06-10T18:55:07.765Z"
   },
   {
    "duration": 11,
    "start_time": "2024-06-10T18:55:08.042Z"
   },
   {
    "duration": 253,
    "start_time": "2024-06-10T18:55:08.054Z"
   },
   {
    "duration": 26,
    "start_time": "2024-06-10T18:55:08.309Z"
   },
   {
    "duration": 18,
    "start_time": "2024-06-10T18:55:08.346Z"
   },
   {
    "duration": 294,
    "start_time": "2024-06-10T18:55:08.366Z"
   },
   {
    "duration": 366,
    "start_time": "2024-06-10T18:55:08.664Z"
   },
   {
    "duration": 26,
    "start_time": "2024-06-10T18:55:09.031Z"
   },
   {
    "duration": 245,
    "start_time": "2024-06-10T18:55:09.059Z"
   },
   {
    "duration": 245,
    "start_time": "2024-06-10T18:55:09.306Z"
   },
   {
    "duration": 865,
    "start_time": "2024-06-10T18:55:09.552Z"
   },
   {
    "duration": 198,
    "start_time": "2024-06-10T18:55:10.419Z"
   },
   {
    "duration": 4,
    "start_time": "2024-06-10T18:55:10.619Z"
   },
   {
    "duration": 6,
    "start_time": "2024-06-10T18:55:10.624Z"
   },
   {
    "duration": 5,
    "start_time": "2024-06-10T18:55:10.645Z"
   },
   {
    "duration": 172,
    "start_time": "2024-06-10T18:55:10.651Z"
   },
   {
    "duration": 0,
    "start_time": "2024-06-10T18:55:10.825Z"
   },
   {
    "duration": 4485,
    "start_time": "2024-06-11T05:35:46.945Z"
   },
   {
    "duration": 1399,
    "start_time": "2024-06-11T05:35:51.432Z"
   },
   {
    "duration": 85,
    "start_time": "2024-06-11T05:35:52.836Z"
   },
   {
    "duration": 12,
    "start_time": "2024-06-11T05:35:52.928Z"
   },
   {
    "duration": 5,
    "start_time": "2024-06-11T05:35:52.942Z"
   },
   {
    "duration": 110,
    "start_time": "2024-06-11T05:35:52.948Z"
   },
   {
    "duration": 10,
    "start_time": "2024-06-11T05:35:53.059Z"
   },
   {
    "duration": 7,
    "start_time": "2024-06-11T05:35:53.070Z"
   },
   {
    "duration": 84,
    "start_time": "2024-06-11T05:35:53.079Z"
   },
   {
    "duration": 8,
    "start_time": "2024-06-11T05:35:53.165Z"
   },
   {
    "duration": 24,
    "start_time": "2024-06-11T05:35:53.174Z"
   },
   {
    "duration": 32,
    "start_time": "2024-06-11T05:35:53.200Z"
   },
   {
    "duration": 8,
    "start_time": "2024-06-11T05:35:53.234Z"
   },
   {
    "duration": 13,
    "start_time": "2024-06-11T05:35:53.243Z"
   },
   {
    "duration": 497,
    "start_time": "2024-06-11T05:35:53.258Z"
   },
   {
    "duration": 8,
    "start_time": "2024-06-11T05:35:53.756Z"
   },
   {
    "duration": 110,
    "start_time": "2024-06-11T05:35:53.765Z"
   },
   {
    "duration": 11,
    "start_time": "2024-06-11T05:35:53.915Z"
   },
   {
    "duration": 7,
    "start_time": "2024-06-11T05:35:53.929Z"
   },
   {
    "duration": 39,
    "start_time": "2024-06-11T05:35:53.938Z"
   },
   {
    "duration": 6,
    "start_time": "2024-06-11T05:35:53.979Z"
   },
   {
    "duration": 245,
    "start_time": "2024-06-11T05:35:53.986Z"
   },
   {
    "duration": 8,
    "start_time": "2024-06-11T05:35:54.233Z"
   },
   {
    "duration": 201,
    "start_time": "2024-06-11T05:35:54.243Z"
   },
   {
    "duration": 18,
    "start_time": "2024-06-11T05:35:54.446Z"
   },
   {
    "duration": 12,
    "start_time": "2024-06-11T05:35:54.466Z"
   },
   {
    "duration": 226,
    "start_time": "2024-06-11T05:35:54.479Z"
   },
   {
    "duration": 262,
    "start_time": "2024-06-11T05:35:54.713Z"
   },
   {
    "duration": 14,
    "start_time": "2024-06-11T05:35:54.976Z"
   },
   {
    "duration": 230,
    "start_time": "2024-06-11T05:35:54.992Z"
   },
   {
    "duration": 202,
    "start_time": "2024-06-11T05:35:55.226Z"
   },
   {
    "duration": 820,
    "start_time": "2024-06-11T05:35:55.432Z"
   },
   {
    "duration": 169,
    "start_time": "2024-06-11T05:35:56.254Z"
   },
   {
    "duration": 6,
    "start_time": "2024-06-11T05:35:56.424Z"
   },
   {
    "duration": 16,
    "start_time": "2024-06-11T05:35:56.431Z"
   },
   {
    "duration": 13,
    "start_time": "2024-06-11T05:35:56.448Z"
   },
   {
    "duration": 177,
    "start_time": "2024-06-11T05:35:56.462Z"
   },
   {
    "duration": 0,
    "start_time": "2024-06-11T05:35:56.640Z"
   },
   {
    "duration": 11,
    "start_time": "2024-06-11T05:53:38.329Z"
   },
   {
    "duration": 8,
    "start_time": "2024-06-11T05:54:31.277Z"
   },
   {
    "duration": 9,
    "start_time": "2024-06-11T05:54:35.814Z"
   },
   {
    "duration": 44,
    "start_time": "2024-06-11T06:24:59.292Z"
   },
   {
    "duration": 4782,
    "start_time": "2024-06-11T06:25:03.846Z"
   },
   {
    "duration": 1717,
    "start_time": "2024-06-11T06:25:08.629Z"
   },
   {
    "duration": 96,
    "start_time": "2024-06-11T06:25:10.348Z"
   },
   {
    "duration": 11,
    "start_time": "2024-06-11T06:25:10.446Z"
   },
   {
    "duration": 6,
    "start_time": "2024-06-11T06:25:10.458Z"
   },
   {
    "duration": 103,
    "start_time": "2024-06-11T06:25:10.467Z"
   },
   {
    "duration": 14,
    "start_time": "2024-06-11T06:25:10.578Z"
   },
   {
    "duration": 7,
    "start_time": "2024-06-11T06:25:10.595Z"
   },
   {
    "duration": 76,
    "start_time": "2024-06-11T06:25:10.603Z"
   },
   {
    "duration": 11,
    "start_time": "2024-06-11T06:25:10.682Z"
   },
   {
    "duration": 14,
    "start_time": "2024-06-11T06:25:10.695Z"
   },
   {
    "duration": 9,
    "start_time": "2024-06-11T06:25:10.710Z"
   },
   {
    "duration": 31,
    "start_time": "2024-06-11T06:25:10.720Z"
   },
   {
    "duration": 81,
    "start_time": "2024-06-11T06:25:10.752Z"
   },
   {
    "duration": 0,
    "start_time": "2024-06-11T06:25:10.835Z"
   },
   {
    "duration": 0,
    "start_time": "2024-06-11T06:25:10.836Z"
   },
   {
    "duration": 0,
    "start_time": "2024-06-11T06:25:10.836Z"
   },
   {
    "duration": 0,
    "start_time": "2024-06-11T06:25:10.837Z"
   },
   {
    "duration": 0,
    "start_time": "2024-06-11T06:25:10.838Z"
   },
   {
    "duration": 0,
    "start_time": "2024-06-11T06:25:10.839Z"
   },
   {
    "duration": 0,
    "start_time": "2024-06-11T06:25:10.840Z"
   },
   {
    "duration": 0,
    "start_time": "2024-06-11T06:25:10.840Z"
   },
   {
    "duration": 0,
    "start_time": "2024-06-11T06:25:10.842Z"
   },
   {
    "duration": 0,
    "start_time": "2024-06-11T06:25:10.843Z"
   },
   {
    "duration": 0,
    "start_time": "2024-06-11T06:25:10.844Z"
   },
   {
    "duration": 0,
    "start_time": "2024-06-11T06:25:10.844Z"
   },
   {
    "duration": 0,
    "start_time": "2024-06-11T06:25:10.846Z"
   },
   {
    "duration": 0,
    "start_time": "2024-06-11T06:25:10.865Z"
   },
   {
    "duration": 0,
    "start_time": "2024-06-11T06:25:10.865Z"
   },
   {
    "duration": 0,
    "start_time": "2024-06-11T06:25:10.866Z"
   },
   {
    "duration": 0,
    "start_time": "2024-06-11T06:25:10.866Z"
   },
   {
    "duration": 0,
    "start_time": "2024-06-11T06:25:10.867Z"
   },
   {
    "duration": 0,
    "start_time": "2024-06-11T06:25:10.868Z"
   },
   {
    "duration": 0,
    "start_time": "2024-06-11T06:25:10.868Z"
   },
   {
    "duration": 0,
    "start_time": "2024-06-11T06:25:10.869Z"
   },
   {
    "duration": 0,
    "start_time": "2024-06-11T06:25:10.870Z"
   },
   {
    "duration": 0,
    "start_time": "2024-06-11T06:25:10.878Z"
   },
   {
    "duration": 0,
    "start_time": "2024-06-11T06:25:10.879Z"
   },
   {
    "duration": 0,
    "start_time": "2024-06-11T06:25:10.880Z"
   },
   {
    "duration": 9,
    "start_time": "2024-06-11T06:25:42.741Z"
   },
   {
    "duration": 8,
    "start_time": "2024-06-11T06:26:09.395Z"
   },
   {
    "duration": 12,
    "start_time": "2024-06-11T06:28:46.787Z"
   },
   {
    "duration": 16,
    "start_time": "2024-06-11T06:29:17.758Z"
   },
   {
    "duration": 9,
    "start_time": "2024-06-11T06:29:23.544Z"
   },
   {
    "duration": 9,
    "start_time": "2024-06-11T06:29:26.396Z"
   },
   {
    "duration": 2687,
    "start_time": "2024-06-11T06:29:29.314Z"
   },
   {
    "duration": 4,
    "start_time": "2024-06-11T06:29:32.003Z"
   },
   {
    "duration": 41,
    "start_time": "2024-06-11T06:29:32.008Z"
   },
   {
    "duration": 10,
    "start_time": "2024-06-11T06:29:32.051Z"
   },
   {
    "duration": 13,
    "start_time": "2024-06-11T06:29:32.063Z"
   },
   {
    "duration": 76,
    "start_time": "2024-06-11T06:29:32.077Z"
   },
   {
    "duration": 9,
    "start_time": "2024-06-11T06:29:32.155Z"
   },
   {
    "duration": 7,
    "start_time": "2024-06-11T06:29:32.166Z"
   },
   {
    "duration": 26,
    "start_time": "2024-06-11T06:29:32.175Z"
   },
   {
    "duration": 12,
    "start_time": "2024-06-11T06:29:32.205Z"
   },
   {
    "duration": 27,
    "start_time": "2024-06-11T06:29:32.219Z"
   },
   {
    "duration": 18,
    "start_time": "2024-06-11T06:29:32.248Z"
   },
   {
    "duration": 9,
    "start_time": "2024-06-11T06:29:32.275Z"
   },
   {
    "duration": 21,
    "start_time": "2024-06-11T06:29:32.290Z"
   },
   {
    "duration": 14,
    "start_time": "2024-06-11T06:29:32.313Z"
   },
   {
    "duration": 12,
    "start_time": "2024-06-11T06:29:32.328Z"
   },
   {
    "duration": 540,
    "start_time": "2024-06-11T06:29:32.342Z"
   },
   {
    "duration": 11,
    "start_time": "2024-06-11T06:29:32.888Z"
   },
   {
    "duration": 193,
    "start_time": "2024-06-11T06:29:32.900Z"
   },
   {
    "duration": 12,
    "start_time": "2024-06-11T06:29:33.096Z"
   },
   {
    "duration": 9,
    "start_time": "2024-06-11T06:29:33.110Z"
   },
   {
    "duration": 74,
    "start_time": "2024-06-11T06:29:33.120Z"
   },
   {
    "duration": 9,
    "start_time": "2024-06-11T06:29:33.195Z"
   },
   {
    "duration": 251,
    "start_time": "2024-06-11T06:29:33.206Z"
   },
   {
    "duration": 18,
    "start_time": "2024-06-11T06:29:33.458Z"
   },
   {
    "duration": 219,
    "start_time": "2024-06-11T06:29:33.480Z"
   },
   {
    "duration": 21,
    "start_time": "2024-06-11T06:29:33.701Z"
   },
   {
    "duration": 15,
    "start_time": "2024-06-11T06:29:33.726Z"
   },
   {
    "duration": 290,
    "start_time": "2024-06-11T06:29:33.742Z"
   },
   {
    "duration": 365,
    "start_time": "2024-06-11T06:29:34.033Z"
   },
   {
    "duration": 15,
    "start_time": "2024-06-11T06:29:34.400Z"
   },
   {
    "duration": 255,
    "start_time": "2024-06-11T06:29:34.417Z"
   },
   {
    "duration": 233,
    "start_time": "2024-06-11T06:29:34.674Z"
   },
   {
    "duration": 840,
    "start_time": "2024-06-11T06:29:34.908Z"
   },
   {
    "duration": 176,
    "start_time": "2024-06-11T06:29:35.749Z"
   },
   {
    "duration": 4,
    "start_time": "2024-06-11T06:29:35.927Z"
   },
   {
    "duration": 9,
    "start_time": "2024-06-11T06:29:35.933Z"
   },
   {
    "duration": 24,
    "start_time": "2024-06-11T06:29:35.943Z"
   },
   {
    "duration": 68,
    "start_time": "2024-06-11T06:29:35.969Z"
   },
   {
    "duration": 0,
    "start_time": "2024-06-11T06:29:36.038Z"
   },
   {
    "duration": 11,
    "start_time": "2024-06-11T06:29:41.095Z"
   },
   {
    "duration": 17,
    "start_time": "2024-06-11T06:30:10.279Z"
   },
   {
    "duration": 18,
    "start_time": "2024-06-11T06:30:21.483Z"
   },
   {
    "duration": 9,
    "start_time": "2024-06-11T06:30:27.951Z"
   },
   {
    "duration": 14,
    "start_time": "2024-06-11T06:32:36.860Z"
   },
   {
    "duration": 10,
    "start_time": "2024-06-11T06:33:01.541Z"
   },
   {
    "duration": 13,
    "start_time": "2024-06-11T06:38:00.888Z"
   },
   {
    "duration": 7,
    "start_time": "2024-06-11T06:46:59.325Z"
   },
   {
    "duration": 10,
    "start_time": "2024-06-11T06:47:40.941Z"
   },
   {
    "duration": 25,
    "start_time": "2024-06-11T06:48:30.725Z"
   },
   {
    "duration": 70,
    "start_time": "2024-06-11T06:48:49.692Z"
   },
   {
    "duration": 22,
    "start_time": "2024-06-11T06:48:53.460Z"
   },
   {
    "duration": 16,
    "start_time": "2024-06-11T06:49:10.515Z"
   },
   {
    "duration": 17,
    "start_time": "2024-06-11T06:49:16.307Z"
   },
   {
    "duration": 4,
    "start_time": "2024-06-11T06:49:42.203Z"
   },
   {
    "duration": 17,
    "start_time": "2024-06-11T06:49:44.641Z"
   },
   {
    "duration": 22,
    "start_time": "2024-06-11T06:50:06.068Z"
   },
   {
    "duration": 18,
    "start_time": "2024-06-11T06:50:11.773Z"
   },
   {
    "duration": 6,
    "start_time": "2024-06-11T06:51:44.313Z"
   },
   {
    "duration": 7,
    "start_time": "2024-06-11T06:51:50.208Z"
   },
   {
    "duration": 6,
    "start_time": "2024-06-11T06:55:08.126Z"
   },
   {
    "duration": 274,
    "start_time": "2024-06-11T06:55:37.080Z"
   },
   {
    "duration": 217,
    "start_time": "2024-06-11T06:55:53.780Z"
   },
   {
    "duration": 312,
    "start_time": "2024-06-11T06:55:58.132Z"
   },
   {
    "duration": 165,
    "start_time": "2024-06-11T06:56:02.445Z"
   },
   {
    "duration": 170,
    "start_time": "2024-06-11T06:56:08.541Z"
   },
   {
    "duration": 213,
    "start_time": "2024-06-11T06:56:13.005Z"
   },
   {
    "duration": 199,
    "start_time": "2024-06-11T06:56:18.581Z"
   },
   {
    "duration": 227,
    "start_time": "2024-06-11T06:56:23.956Z"
   },
   {
    "duration": 214,
    "start_time": "2024-06-11T06:56:55.212Z"
   },
   {
    "duration": 229,
    "start_time": "2024-06-11T06:56:58.252Z"
   },
   {
    "duration": 310,
    "start_time": "2024-06-11T06:57:53.924Z"
   },
   {
    "duration": 11,
    "start_time": "2024-06-11T07:26:33.982Z"
   },
   {
    "duration": 9,
    "start_time": "2024-06-11T07:26:44.094Z"
   },
   {
    "duration": 4453,
    "start_time": "2024-06-11T10:13:02.853Z"
   },
   {
    "duration": 1282,
    "start_time": "2024-06-11T10:13:07.308Z"
   },
   {
    "duration": 36,
    "start_time": "2024-06-11T10:13:08.591Z"
   },
   {
    "duration": 9,
    "start_time": "2024-06-11T10:13:08.628Z"
   },
   {
    "duration": 7,
    "start_time": "2024-06-11T10:13:08.639Z"
   },
   {
    "duration": 30,
    "start_time": "2024-06-11T10:13:08.647Z"
   },
   {
    "duration": 9,
    "start_time": "2024-06-11T10:13:08.678Z"
   },
   {
    "duration": 6,
    "start_time": "2024-06-11T10:13:08.689Z"
   },
   {
    "duration": 75,
    "start_time": "2024-06-11T10:13:08.696Z"
   },
   {
    "duration": 8,
    "start_time": "2024-06-11T10:13:08.772Z"
   },
   {
    "duration": 14,
    "start_time": "2024-06-11T10:13:08.781Z"
   },
   {
    "duration": 10,
    "start_time": "2024-06-11T10:13:08.796Z"
   },
   {
    "duration": 8,
    "start_time": "2024-06-11T10:13:08.807Z"
   },
   {
    "duration": 6,
    "start_time": "2024-06-11T10:13:08.818Z"
   },
   {
    "duration": 35,
    "start_time": "2024-06-11T10:13:08.826Z"
   },
   {
    "duration": 19,
    "start_time": "2024-06-11T10:13:08.863Z"
   },
   {
    "duration": 569,
    "start_time": "2024-06-11T10:13:08.884Z"
   },
   {
    "duration": 8,
    "start_time": "2024-06-11T10:13:09.454Z"
   },
   {
    "duration": 155,
    "start_time": "2024-06-11T10:13:09.463Z"
   },
   {
    "duration": 11,
    "start_time": "2024-06-11T10:13:09.620Z"
   },
   {
    "duration": 37,
    "start_time": "2024-06-11T10:13:09.632Z"
   },
   {
    "duration": 56,
    "start_time": "2024-06-11T10:13:09.671Z"
   },
   {
    "duration": 14,
    "start_time": "2024-06-11T10:13:09.728Z"
   },
   {
    "duration": 215,
    "start_time": "2024-06-11T10:13:09.744Z"
   },
   {
    "duration": 18,
    "start_time": "2024-06-11T10:13:09.961Z"
   },
   {
    "duration": 246,
    "start_time": "2024-06-11T10:13:09.981Z"
   },
   {
    "duration": 21,
    "start_time": "2024-06-11T10:13:10.228Z"
   },
   {
    "duration": 21,
    "start_time": "2024-06-11T10:13:10.251Z"
   },
   {
    "duration": 33,
    "start_time": "2024-06-11T10:13:10.273Z"
   },
   {
    "duration": 64,
    "start_time": "2024-06-11T10:13:10.308Z"
   },
   {
    "duration": 243,
    "start_time": "2024-06-11T10:13:10.374Z"
   },
   {
    "duration": 253,
    "start_time": "2024-06-11T10:13:10.619Z"
   },
   {
    "duration": 23,
    "start_time": "2024-06-11T10:13:10.874Z"
   },
   {
    "duration": 208,
    "start_time": "2024-06-11T10:13:10.899Z"
   },
   {
    "duration": 188,
    "start_time": "2024-06-11T10:13:11.108Z"
   },
   {
    "duration": 833,
    "start_time": "2024-06-11T10:13:11.298Z"
   },
   {
    "duration": 161,
    "start_time": "2024-06-11T10:13:12.132Z"
   },
   {
    "duration": 3,
    "start_time": "2024-06-11T10:13:12.295Z"
   },
   {
    "duration": 172,
    "start_time": "2024-06-11T10:13:12.299Z"
   },
   {
    "duration": 0,
    "start_time": "2024-06-11T10:13:12.472Z"
   },
   {
    "duration": 0,
    "start_time": "2024-06-11T10:13:12.474Z"
   },
   {
    "duration": 2836,
    "start_time": "2024-06-11T10:15:07.764Z"
   },
   {
    "duration": 1263,
    "start_time": "2024-06-11T10:15:10.602Z"
   },
   {
    "duration": 35,
    "start_time": "2024-06-11T10:15:11.866Z"
   },
   {
    "duration": 9,
    "start_time": "2024-06-11T10:15:11.903Z"
   },
   {
    "duration": 13,
    "start_time": "2024-06-11T10:15:11.913Z"
   },
   {
    "duration": 35,
    "start_time": "2024-06-11T10:15:11.927Z"
   },
   {
    "duration": 8,
    "start_time": "2024-06-11T10:15:11.963Z"
   },
   {
    "duration": 30,
    "start_time": "2024-06-11T10:15:11.972Z"
   },
   {
    "duration": 19,
    "start_time": "2024-06-11T10:15:12.003Z"
   },
   {
    "duration": 8,
    "start_time": "2024-06-11T10:15:12.025Z"
   },
   {
    "duration": 20,
    "start_time": "2024-06-11T10:15:12.035Z"
   },
   {
    "duration": 10,
    "start_time": "2024-06-11T10:15:12.056Z"
   },
   {
    "duration": 9,
    "start_time": "2024-06-11T10:15:12.067Z"
   },
   {
    "duration": 24,
    "start_time": "2024-06-11T10:15:12.077Z"
   },
   {
    "duration": 45,
    "start_time": "2024-06-11T10:15:12.102Z"
   },
   {
    "duration": 59,
    "start_time": "2024-06-11T10:15:12.148Z"
   },
   {
    "duration": 660,
    "start_time": "2024-06-11T10:15:12.209Z"
   },
   {
    "duration": 9,
    "start_time": "2024-06-11T10:15:12.870Z"
   },
   {
    "duration": 148,
    "start_time": "2024-06-11T10:15:12.881Z"
   },
   {
    "duration": 15,
    "start_time": "2024-06-11T10:15:13.031Z"
   },
   {
    "duration": 10,
    "start_time": "2024-06-11T10:15:13.070Z"
   },
   {
    "duration": 74,
    "start_time": "2024-06-11T10:15:13.081Z"
   },
   {
    "duration": 21,
    "start_time": "2024-06-11T10:15:13.157Z"
   },
   {
    "duration": 224,
    "start_time": "2024-06-11T10:15:13.179Z"
   },
   {
    "duration": 13,
    "start_time": "2024-06-11T10:15:13.404Z"
   },
   {
    "duration": 194,
    "start_time": "2024-06-11T10:15:13.418Z"
   },
   {
    "duration": 22,
    "start_time": "2024-06-11T10:15:13.614Z"
   },
   {
    "duration": 7,
    "start_time": "2024-06-11T10:15:13.640Z"
   },
   {
    "duration": 32,
    "start_time": "2024-06-11T10:15:13.648Z"
   },
   {
    "duration": 13,
    "start_time": "2024-06-11T10:15:13.681Z"
   },
   {
    "duration": 217,
    "start_time": "2024-06-11T10:15:13.695Z"
   },
   {
    "duration": 252,
    "start_time": "2024-06-11T10:15:13.913Z"
   },
   {
    "duration": 18,
    "start_time": "2024-06-11T10:15:14.170Z"
   },
   {
    "duration": 209,
    "start_time": "2024-06-11T10:15:14.190Z"
   },
   {
    "duration": 210,
    "start_time": "2024-06-11T10:15:14.401Z"
   },
   {
    "duration": 785,
    "start_time": "2024-06-11T10:15:14.612Z"
   },
   {
    "duration": 143,
    "start_time": "2024-06-11T10:15:15.399Z"
   },
   {
    "duration": 3,
    "start_time": "2024-06-11T10:15:15.543Z"
   },
   {
    "duration": 171,
    "start_time": "2024-06-11T10:15:15.547Z"
   },
   {
    "duration": 0,
    "start_time": "2024-06-11T10:15:15.719Z"
   },
   {
    "duration": 0,
    "start_time": "2024-06-11T10:15:15.720Z"
   },
   {
    "duration": 2776,
    "start_time": "2024-06-11T10:16:40.284Z"
   },
   {
    "duration": 1235,
    "start_time": "2024-06-11T10:16:43.062Z"
   },
   {
    "duration": 35,
    "start_time": "2024-06-11T10:16:44.298Z"
   },
   {
    "duration": 10,
    "start_time": "2024-06-11T10:16:44.334Z"
   },
   {
    "duration": 10,
    "start_time": "2024-06-11T10:16:44.345Z"
   },
   {
    "duration": 31,
    "start_time": "2024-06-11T10:16:44.356Z"
   },
   {
    "duration": 8,
    "start_time": "2024-06-11T10:16:44.388Z"
   },
   {
    "duration": 6,
    "start_time": "2024-06-11T10:16:44.397Z"
   },
   {
    "duration": 19,
    "start_time": "2024-06-11T10:16:44.404Z"
   },
   {
    "duration": 9,
    "start_time": "2024-06-11T10:16:44.425Z"
   },
   {
    "duration": 12,
    "start_time": "2024-06-11T10:16:44.436Z"
   },
   {
    "duration": 27,
    "start_time": "2024-06-11T10:16:44.449Z"
   },
   {
    "duration": 10,
    "start_time": "2024-06-11T10:16:44.477Z"
   },
   {
    "duration": 11,
    "start_time": "2024-06-11T10:16:44.489Z"
   },
   {
    "duration": 16,
    "start_time": "2024-06-11T10:16:44.502Z"
   },
   {
    "duration": 10,
    "start_time": "2024-06-11T10:16:44.519Z"
   },
   {
    "duration": 496,
    "start_time": "2024-06-11T10:16:44.530Z"
   },
   {
    "duration": 10,
    "start_time": "2024-06-11T10:16:45.028Z"
   },
   {
    "duration": 149,
    "start_time": "2024-06-11T10:16:45.039Z"
   },
   {
    "duration": 12,
    "start_time": "2024-06-11T10:16:45.189Z"
   },
   {
    "duration": 37,
    "start_time": "2024-06-11T10:16:45.202Z"
   },
   {
    "duration": 72,
    "start_time": "2024-06-11T10:16:45.240Z"
   },
   {
    "duration": 15,
    "start_time": "2024-06-11T10:16:45.314Z"
   },
   {
    "duration": 214,
    "start_time": "2024-06-11T10:16:45.330Z"
   },
   {
    "duration": 13,
    "start_time": "2024-06-11T10:16:45.545Z"
   },
   {
    "duration": 186,
    "start_time": "2024-06-11T10:16:45.559Z"
   },
   {
    "duration": 26,
    "start_time": "2024-06-11T10:16:45.746Z"
   },
   {
    "duration": 5,
    "start_time": "2024-06-11T10:16:45.774Z"
   },
   {
    "duration": 23,
    "start_time": "2024-06-11T10:16:45.780Z"
   },
   {
    "duration": 12,
    "start_time": "2024-06-11T10:16:45.804Z"
   },
   {
    "duration": 203,
    "start_time": "2024-06-11T10:16:45.817Z"
   },
   {
    "duration": 235,
    "start_time": "2024-06-11T10:16:46.022Z"
   },
   {
    "duration": 23,
    "start_time": "2024-06-11T10:16:46.258Z"
   },
   {
    "duration": 217,
    "start_time": "2024-06-11T10:16:46.282Z"
   },
   {
    "duration": 177,
    "start_time": "2024-06-11T10:16:46.500Z"
   },
   {
    "duration": 935,
    "start_time": "2024-06-11T10:16:46.678Z"
   },
   {
    "duration": 161,
    "start_time": "2024-06-11T10:16:47.614Z"
   },
   {
    "duration": 3,
    "start_time": "2024-06-11T10:16:47.776Z"
   },
   {
    "duration": 35,
    "start_time": "2024-06-11T10:16:47.780Z"
   },
   {
    "duration": 220,
    "start_time": "2024-06-11T10:16:47.816Z"
   },
   {
    "duration": 0,
    "start_time": "2024-06-11T10:16:48.038Z"
   },
   {
    "duration": 2800,
    "start_time": "2024-06-11T10:17:05.492Z"
   },
   {
    "duration": 1288,
    "start_time": "2024-06-11T10:17:08.294Z"
   },
   {
    "duration": 35,
    "start_time": "2024-06-11T10:17:09.583Z"
   },
   {
    "duration": 9,
    "start_time": "2024-06-11T10:17:09.620Z"
   },
   {
    "duration": 19,
    "start_time": "2024-06-11T10:17:09.631Z"
   },
   {
    "duration": 30,
    "start_time": "2024-06-11T10:17:09.651Z"
   },
   {
    "duration": 9,
    "start_time": "2024-06-11T10:17:09.682Z"
   },
   {
    "duration": 29,
    "start_time": "2024-06-11T10:17:09.692Z"
   },
   {
    "duration": 29,
    "start_time": "2024-06-11T10:17:09.722Z"
   },
   {
    "duration": 8,
    "start_time": "2024-06-11T10:17:09.753Z"
   },
   {
    "duration": 12,
    "start_time": "2024-06-11T10:17:09.763Z"
   },
   {
    "duration": 8,
    "start_time": "2024-06-11T10:17:09.776Z"
   },
   {
    "duration": 7,
    "start_time": "2024-06-11T10:17:09.785Z"
   },
   {
    "duration": 6,
    "start_time": "2024-06-11T10:17:09.793Z"
   },
   {
    "duration": 18,
    "start_time": "2024-06-11T10:17:09.800Z"
   },
   {
    "duration": 17,
    "start_time": "2024-06-11T10:17:09.819Z"
   },
   {
    "duration": 618,
    "start_time": "2024-06-11T10:17:09.838Z"
   },
   {
    "duration": 9,
    "start_time": "2024-06-11T10:17:10.457Z"
   },
   {
    "duration": 139,
    "start_time": "2024-06-11T10:17:10.467Z"
   },
   {
    "duration": 11,
    "start_time": "2024-06-11T10:17:10.607Z"
   },
   {
    "duration": 8,
    "start_time": "2024-06-11T10:17:10.619Z"
   },
   {
    "duration": 75,
    "start_time": "2024-06-11T10:17:10.628Z"
   },
   {
    "duration": 16,
    "start_time": "2024-06-11T10:17:10.704Z"
   },
   {
    "duration": 222,
    "start_time": "2024-06-11T10:17:10.721Z"
   },
   {
    "duration": 14,
    "start_time": "2024-06-11T10:17:10.944Z"
   },
   {
    "duration": 197,
    "start_time": "2024-06-11T10:17:10.959Z"
   },
   {
    "duration": 29,
    "start_time": "2024-06-11T10:17:11.158Z"
   },
   {
    "duration": 4,
    "start_time": "2024-06-11T10:17:11.190Z"
   },
   {
    "duration": 15,
    "start_time": "2024-06-11T10:17:11.195Z"
   },
   {
    "duration": 12,
    "start_time": "2024-06-11T10:17:11.212Z"
   },
   {
    "duration": 220,
    "start_time": "2024-06-11T10:17:11.225Z"
   },
   {
    "duration": 259,
    "start_time": "2024-06-11T10:17:11.447Z"
   },
   {
    "duration": 14,
    "start_time": "2024-06-11T10:17:11.707Z"
   },
   {
    "duration": 206,
    "start_time": "2024-06-11T10:17:11.723Z"
   },
   {
    "duration": 178,
    "start_time": "2024-06-11T10:17:11.930Z"
   },
   {
    "duration": 820,
    "start_time": "2024-06-11T10:17:12.109Z"
   },
   {
    "duration": 149,
    "start_time": "2024-06-11T10:17:12.930Z"
   },
   {
    "duration": 4,
    "start_time": "2024-06-11T10:17:13.080Z"
   },
   {
    "duration": 174,
    "start_time": "2024-06-11T10:17:13.085Z"
   },
   {
    "duration": 0,
    "start_time": "2024-06-11T10:17:13.260Z"
   },
   {
    "duration": 0,
    "start_time": "2024-06-11T10:17:13.261Z"
   },
   {
    "duration": 49,
    "start_time": "2024-06-11T10:33:38.871Z"
   },
   {
    "duration": 4694,
    "start_time": "2024-06-11T10:33:43.197Z"
   },
   {
    "duration": 1691,
    "start_time": "2024-06-11T10:33:47.893Z"
   },
   {
    "duration": 116,
    "start_time": "2024-06-11T10:33:49.586Z"
   },
   {
    "duration": 12,
    "start_time": "2024-06-11T10:33:49.703Z"
   },
   {
    "duration": 11,
    "start_time": "2024-06-11T10:33:49.718Z"
   },
   {
    "duration": 155,
    "start_time": "2024-06-11T10:33:49.731Z"
   },
   {
    "duration": 12,
    "start_time": "2024-06-11T10:33:49.887Z"
   },
   {
    "duration": 8,
    "start_time": "2024-06-11T10:33:49.900Z"
   },
   {
    "duration": 75,
    "start_time": "2024-06-11T10:33:49.909Z"
   },
   {
    "duration": 11,
    "start_time": "2024-06-11T10:33:49.986Z"
   },
   {
    "duration": 33,
    "start_time": "2024-06-11T10:33:49.998Z"
   },
   {
    "duration": 30,
    "start_time": "2024-06-11T10:33:50.033Z"
   },
   {
    "duration": 10,
    "start_time": "2024-06-11T10:33:50.066Z"
   },
   {
    "duration": 9,
    "start_time": "2024-06-11T10:33:50.080Z"
   },
   {
    "duration": 15,
    "start_time": "2024-06-11T10:33:50.091Z"
   },
   {
    "duration": 14,
    "start_time": "2024-06-11T10:33:50.108Z"
   },
   {
    "duration": 513,
    "start_time": "2024-06-11T10:33:50.123Z"
   },
   {
    "duration": 11,
    "start_time": "2024-06-11T10:33:50.637Z"
   },
   {
    "duration": 182,
    "start_time": "2024-06-11T10:33:50.650Z"
   },
   {
    "duration": 14,
    "start_time": "2024-06-11T10:33:50.835Z"
   },
   {
    "duration": 9,
    "start_time": "2024-06-11T10:33:50.851Z"
   },
   {
    "duration": 76,
    "start_time": "2024-06-11T10:33:50.862Z"
   },
   {
    "duration": 19,
    "start_time": "2024-06-11T10:33:50.940Z"
   },
   {
    "duration": 289,
    "start_time": "2024-06-11T10:33:50.960Z"
   },
   {
    "duration": 20,
    "start_time": "2024-06-11T10:33:51.251Z"
   },
   {
    "duration": 242,
    "start_time": "2024-06-11T10:33:51.273Z"
   },
   {
    "duration": 26,
    "start_time": "2024-06-11T10:33:51.517Z"
   },
   {
    "duration": 6,
    "start_time": "2024-06-11T10:33:51.544Z"
   },
   {
    "duration": 19,
    "start_time": "2024-06-11T10:33:51.551Z"
   },
   {
    "duration": 38,
    "start_time": "2024-06-11T10:33:51.571Z"
   },
   {
    "duration": 270,
    "start_time": "2024-06-11T10:33:51.610Z"
   },
   {
    "duration": 324,
    "start_time": "2024-06-11T10:33:51.881Z"
   },
   {
    "duration": 19,
    "start_time": "2024-06-11T10:33:52.206Z"
   },
   {
    "duration": 265,
    "start_time": "2024-06-11T10:33:52.226Z"
   },
   {
    "duration": 222,
    "start_time": "2024-06-11T10:33:52.492Z"
   },
   {
    "duration": 881,
    "start_time": "2024-06-11T10:33:52.716Z"
   },
   {
    "duration": 164,
    "start_time": "2024-06-11T10:33:53.600Z"
   },
   {
    "duration": 4,
    "start_time": "2024-06-11T10:33:53.766Z"
   },
   {
    "duration": 143,
    "start_time": "2024-06-11T10:33:53.771Z"
   },
   {
    "duration": 0,
    "start_time": "2024-06-11T10:33:53.915Z"
   },
   {
    "duration": 0,
    "start_time": "2024-06-11T10:33:53.916Z"
   },
   {
    "duration": 2834,
    "start_time": "2024-06-11T10:34:56.740Z"
   },
   {
    "duration": 5,
    "start_time": "2024-06-11T10:34:59.577Z"
   },
   {
    "duration": 44,
    "start_time": "2024-06-11T10:34:59.584Z"
   },
   {
    "duration": 13,
    "start_time": "2024-06-11T10:34:59.631Z"
   },
   {
    "duration": 7,
    "start_time": "2024-06-11T10:34:59.646Z"
   },
   {
    "duration": 36,
    "start_time": "2024-06-11T10:34:59.654Z"
   },
   {
    "duration": 14,
    "start_time": "2024-06-11T10:34:59.692Z"
   },
   {
    "duration": 7,
    "start_time": "2024-06-11T10:34:59.708Z"
   },
   {
    "duration": 21,
    "start_time": "2024-06-11T10:34:59.716Z"
   },
   {
    "duration": 10,
    "start_time": "2024-06-11T10:34:59.739Z"
   },
   {
    "duration": 17,
    "start_time": "2024-06-11T10:34:59.751Z"
   },
   {
    "duration": 40,
    "start_time": "2024-06-11T10:34:59.770Z"
   },
   {
    "duration": 11,
    "start_time": "2024-06-11T10:34:59.812Z"
   },
   {
    "duration": 9,
    "start_time": "2024-06-11T10:34:59.826Z"
   },
   {
    "duration": 15,
    "start_time": "2024-06-11T10:34:59.836Z"
   },
   {
    "duration": 52,
    "start_time": "2024-06-11T10:34:59.853Z"
   },
   {
    "duration": 92,
    "start_time": "2024-06-11T10:34:59.907Z"
   },
   {
    "duration": 12,
    "start_time": "2024-06-11T10:35:00.001Z"
   },
   {
    "duration": 117,
    "start_time": "2024-06-11T10:35:00.015Z"
   },
   {
    "duration": 14,
    "start_time": "2024-06-11T10:35:00.135Z"
   },
   {
    "duration": 26,
    "start_time": "2024-06-11T10:35:00.151Z"
   },
   {
    "duration": 91,
    "start_time": "2024-06-11T10:35:00.179Z"
   },
   {
    "duration": 32,
    "start_time": "2024-06-11T10:35:00.272Z"
   },
   {
    "duration": 467,
    "start_time": "2024-06-11T10:35:00.306Z"
   },
   {
    "duration": 26,
    "start_time": "2024-06-11T10:35:00.774Z"
   },
   {
    "duration": 353,
    "start_time": "2024-06-11T10:35:00.802Z"
   },
   {
    "duration": 25,
    "start_time": "2024-06-11T10:35:01.157Z"
   },
   {
    "duration": 18,
    "start_time": "2024-06-11T10:35:01.185Z"
   },
   {
    "duration": 34,
    "start_time": "2024-06-11T10:35:01.205Z"
   },
   {
    "duration": 62,
    "start_time": "2024-06-11T10:35:01.241Z"
   },
   {
    "duration": 312,
    "start_time": "2024-06-11T10:35:01.305Z"
   },
   {
    "duration": 242,
    "start_time": "2024-06-11T10:35:01.619Z"
   },
   {
    "duration": 20,
    "start_time": "2024-06-11T10:35:01.863Z"
   },
   {
    "duration": 262,
    "start_time": "2024-06-11T10:35:01.885Z"
   },
   {
    "duration": 226,
    "start_time": "2024-06-11T10:35:02.149Z"
   },
   {
    "duration": 958,
    "start_time": "2024-06-11T10:35:02.376Z"
   },
   {
    "duration": 277,
    "start_time": "2024-06-11T10:35:03.336Z"
   },
   {
    "duration": 4,
    "start_time": "2024-06-11T10:35:03.615Z"
   },
   {
    "duration": 20,
    "start_time": "2024-06-11T10:35:03.621Z"
   },
   {
    "duration": 0,
    "start_time": "2024-06-11T10:35:03.643Z"
   },
   {
    "duration": 0,
    "start_time": "2024-06-11T10:35:03.644Z"
   },
   {
    "duration": 13,
    "start_time": "2024-06-11T11:02:15.789Z"
   },
   {
    "duration": 7,
    "start_time": "2024-06-11T11:02:47.190Z"
   },
   {
    "duration": 14,
    "start_time": "2024-06-11T11:03:26.012Z"
   },
   {
    "duration": 12,
    "start_time": "2024-06-11T11:03:45.677Z"
   },
   {
    "duration": 63,
    "start_time": "2024-06-11T11:04:05.819Z"
   },
   {
    "duration": 27,
    "start_time": "2024-06-11T11:04:14.274Z"
   },
   {
    "duration": 12,
    "start_time": "2024-06-11T11:04:49.587Z"
   },
   {
    "duration": 15,
    "start_time": "2024-06-11T11:06:08.321Z"
   },
   {
    "duration": 12,
    "start_time": "2024-06-11T11:06:56.152Z"
   },
   {
    "duration": 17,
    "start_time": "2024-06-11T11:07:18.280Z"
   },
   {
    "duration": 12,
    "start_time": "2024-06-11T11:08:29.191Z"
   },
   {
    "duration": 13,
    "start_time": "2024-06-11T11:08:34.567Z"
   },
   {
    "duration": 10,
    "start_time": "2024-06-11T11:09:37.782Z"
   },
   {
    "duration": 13,
    "start_time": "2024-06-11T11:15:40.791Z"
   },
   {
    "duration": 14,
    "start_time": "2024-06-11T11:15:55.974Z"
   },
   {
    "duration": 212,
    "start_time": "2024-06-11T11:17:06.741Z"
   },
   {
    "duration": 5,
    "start_time": "2024-06-11T11:17:35.124Z"
   },
   {
    "duration": 15,
    "start_time": "2024-06-11T11:18:44.396Z"
   },
   {
    "duration": 16,
    "start_time": "2024-06-11T11:18:57.172Z"
   },
   {
    "duration": 13,
    "start_time": "2024-06-11T11:19:44.730Z"
   },
   {
    "duration": 13,
    "start_time": "2024-06-11T11:21:32.023Z"
   },
   {
    "duration": 15,
    "start_time": "2024-06-11T11:22:17.303Z"
   },
   {
    "duration": 10,
    "start_time": "2024-06-11T11:22:40.199Z"
   },
   {
    "duration": 11,
    "start_time": "2024-06-11T11:22:43.967Z"
   },
   {
    "duration": 18,
    "start_time": "2024-06-11T11:23:02.861Z"
   },
   {
    "duration": 11,
    "start_time": "2024-06-11T11:23:35.150Z"
   },
   {
    "duration": 10,
    "start_time": "2024-06-11T11:23:40.599Z"
   },
   {
    "duration": 2888,
    "start_time": "2024-06-11T11:23:51.104Z"
   },
   {
    "duration": 4,
    "start_time": "2024-06-11T11:23:53.995Z"
   },
   {
    "duration": 42,
    "start_time": "2024-06-11T11:23:54.001Z"
   },
   {
    "duration": 16,
    "start_time": "2024-06-11T11:23:54.046Z"
   },
   {
    "duration": 10,
    "start_time": "2024-06-11T11:23:54.064Z"
   },
   {
    "duration": 47,
    "start_time": "2024-06-11T11:23:54.076Z"
   },
   {
    "duration": 21,
    "start_time": "2024-06-11T11:23:54.125Z"
   },
   {
    "duration": 10,
    "start_time": "2024-06-11T11:23:54.149Z"
   },
   {
    "duration": 21,
    "start_time": "2024-06-11T11:23:54.161Z"
   },
   {
    "duration": 25,
    "start_time": "2024-06-11T11:23:54.185Z"
   },
   {
    "duration": 23,
    "start_time": "2024-06-11T11:23:54.212Z"
   },
   {
    "duration": 14,
    "start_time": "2024-06-11T11:23:54.237Z"
   },
   {
    "duration": 9,
    "start_time": "2024-06-11T11:23:54.253Z"
   },
   {
    "duration": 38,
    "start_time": "2024-06-11T11:23:54.263Z"
   },
   {
    "duration": 10,
    "start_time": "2024-06-11T11:23:54.303Z"
   },
   {
    "duration": 18,
    "start_time": "2024-06-11T11:23:54.315Z"
   },
   {
    "duration": 105,
    "start_time": "2024-06-11T11:23:54.335Z"
   },
   {
    "duration": 13,
    "start_time": "2024-06-11T11:23:54.442Z"
   },
   {
    "duration": 109,
    "start_time": "2024-06-11T11:23:54.457Z"
   },
   {
    "duration": 14,
    "start_time": "2024-06-11T11:23:54.568Z"
   },
   {
    "duration": 23,
    "start_time": "2024-06-11T11:23:54.583Z"
   },
   {
    "duration": 48,
    "start_time": "2024-06-11T11:23:54.608Z"
   },
   {
    "duration": 9,
    "start_time": "2024-06-11T11:23:54.659Z"
   },
   {
    "duration": 273,
    "start_time": "2024-06-11T11:23:54.669Z"
   },
   {
    "duration": 9,
    "start_time": "2024-06-11T11:23:54.944Z"
   },
   {
    "duration": 223,
    "start_time": "2024-06-11T11:23:54.955Z"
   },
   {
    "duration": 37,
    "start_time": "2024-06-11T11:23:55.180Z"
   },
   {
    "duration": 6,
    "start_time": "2024-06-11T11:23:55.221Z"
   },
   {
    "duration": 19,
    "start_time": "2024-06-11T11:23:55.229Z"
   },
   {
    "duration": 18,
    "start_time": "2024-06-11T11:23:55.250Z"
   },
   {
    "duration": 285,
    "start_time": "2024-06-11T11:23:55.270Z"
   },
   {
    "duration": 229,
    "start_time": "2024-06-11T11:23:55.556Z"
   },
   {
    "duration": 23,
    "start_time": "2024-06-11T11:23:55.787Z"
   },
   {
    "duration": 385,
    "start_time": "2024-06-11T11:23:55.811Z"
   },
   {
    "duration": 238,
    "start_time": "2024-06-11T11:23:56.199Z"
   },
   {
    "duration": 963,
    "start_time": "2024-06-11T11:23:56.439Z"
   },
   {
    "duration": 228,
    "start_time": "2024-06-11T11:23:57.404Z"
   },
   {
    "duration": 5,
    "start_time": "2024-06-11T11:23:57.634Z"
   },
   {
    "duration": 22,
    "start_time": "2024-06-11T11:23:57.641Z"
   },
   {
    "duration": 35,
    "start_time": "2024-06-11T11:23:57.665Z"
   },
   {
    "duration": 6,
    "start_time": "2024-06-11T11:23:57.702Z"
   },
   {
    "duration": 9,
    "start_time": "2024-06-11T11:23:57.710Z"
   },
   {
    "duration": 16,
    "start_time": "2024-06-11T11:23:57.721Z"
   },
   {
    "duration": 13,
    "start_time": "2024-06-11T11:24:58.621Z"
   },
   {
    "duration": 2796,
    "start_time": "2024-06-11T11:25:10.546Z"
   },
   {
    "duration": 5,
    "start_time": "2024-06-11T11:25:13.345Z"
   },
   {
    "duration": 43,
    "start_time": "2024-06-11T11:25:13.351Z"
   },
   {
    "duration": 12,
    "start_time": "2024-06-11T11:25:13.396Z"
   },
   {
    "duration": 8,
    "start_time": "2024-06-11T11:25:13.410Z"
   },
   {
    "duration": 38,
    "start_time": "2024-06-11T11:25:13.420Z"
   },
   {
    "duration": 13,
    "start_time": "2024-06-11T11:25:13.460Z"
   },
   {
    "duration": 25,
    "start_time": "2024-06-11T11:25:13.475Z"
   },
   {
    "duration": 20,
    "start_time": "2024-06-11T11:25:13.502Z"
   },
   {
    "duration": 10,
    "start_time": "2024-06-11T11:25:13.526Z"
   },
   {
    "duration": 18,
    "start_time": "2024-06-11T11:25:13.538Z"
   },
   {
    "duration": 11,
    "start_time": "2024-06-11T11:25:13.558Z"
   },
   {
    "duration": 33,
    "start_time": "2024-06-11T11:25:13.571Z"
   },
   {
    "duration": 13,
    "start_time": "2024-06-11T11:25:13.606Z"
   },
   {
    "duration": 11,
    "start_time": "2024-06-11T11:25:13.620Z"
   },
   {
    "duration": 12,
    "start_time": "2024-06-11T11:25:13.633Z"
   },
   {
    "duration": 116,
    "start_time": "2024-06-11T11:25:13.647Z"
   },
   {
    "duration": 13,
    "start_time": "2024-06-11T11:25:13.766Z"
   },
   {
    "duration": 124,
    "start_time": "2024-06-11T11:25:13.780Z"
   },
   {
    "duration": 13,
    "start_time": "2024-06-11T11:25:13.905Z"
   },
   {
    "duration": 7,
    "start_time": "2024-06-11T11:25:13.920Z"
   },
   {
    "duration": 73,
    "start_time": "2024-06-11T11:25:13.929Z"
   },
   {
    "duration": 8,
    "start_time": "2024-06-11T11:25:14.004Z"
   },
   {
    "duration": 280,
    "start_time": "2024-06-11T11:25:14.014Z"
   },
   {
    "duration": 10,
    "start_time": "2024-06-11T11:25:14.295Z"
   },
   {
    "duration": 238,
    "start_time": "2024-06-11T11:25:14.306Z"
   },
   {
    "duration": 24,
    "start_time": "2024-06-11T11:25:14.546Z"
   },
   {
    "duration": 26,
    "start_time": "2024-06-11T11:25:14.573Z"
   },
   {
    "duration": 19,
    "start_time": "2024-06-11T11:25:14.601Z"
   },
   {
    "duration": 17,
    "start_time": "2024-06-11T11:25:14.622Z"
   },
   {
    "duration": 405,
    "start_time": "2024-06-11T11:25:14.640Z"
   },
   {
    "duration": 232,
    "start_time": "2024-06-11T11:25:15.047Z"
   },
   {
    "duration": 24,
    "start_time": "2024-06-11T11:25:15.280Z"
   },
   {
    "duration": 251,
    "start_time": "2024-06-11T11:25:15.306Z"
   },
   {
    "duration": 221,
    "start_time": "2024-06-11T11:25:15.559Z"
   },
   {
    "duration": 958,
    "start_time": "2024-06-11T11:25:15.782Z"
   },
   {
    "duration": 167,
    "start_time": "2024-06-11T11:25:16.742Z"
   },
   {
    "duration": 4,
    "start_time": "2024-06-11T11:25:16.910Z"
   },
   {
    "duration": 20,
    "start_time": "2024-06-11T11:25:16.916Z"
   },
   {
    "duration": 11,
    "start_time": "2024-06-11T11:25:16.938Z"
   },
   {
    "duration": 19,
    "start_time": "2024-06-11T11:25:16.950Z"
   },
   {
    "duration": 29,
    "start_time": "2024-06-11T11:25:16.971Z"
   },
   {
    "duration": 10,
    "start_time": "2024-06-11T11:25:17.001Z"
   },
   {
    "duration": 2812,
    "start_time": "2024-06-11T11:50:59.696Z"
   },
   {
    "duration": 1186,
    "start_time": "2024-06-11T11:51:02.510Z"
   },
   {
    "duration": 35,
    "start_time": "2024-06-11T11:51:03.698Z"
   },
   {
    "duration": 9,
    "start_time": "2024-06-11T11:51:03.734Z"
   },
   {
    "duration": 6,
    "start_time": "2024-06-11T11:51:03.744Z"
   },
   {
    "duration": 59,
    "start_time": "2024-06-11T11:51:03.751Z"
   },
   {
    "duration": 11,
    "start_time": "2024-06-11T11:51:03.811Z"
   },
   {
    "duration": 19,
    "start_time": "2024-06-11T11:51:03.823Z"
   },
   {
    "duration": 42,
    "start_time": "2024-06-11T11:51:03.843Z"
   },
   {
    "duration": 10,
    "start_time": "2024-06-11T11:51:03.888Z"
   },
   {
    "duration": 20,
    "start_time": "2024-06-11T11:51:03.900Z"
   },
   {
    "duration": 10,
    "start_time": "2024-06-11T11:51:03.921Z"
   },
   {
    "duration": 22,
    "start_time": "2024-06-11T11:51:03.932Z"
   },
   {
    "duration": 30,
    "start_time": "2024-06-11T11:51:03.955Z"
   },
   {
    "duration": 26,
    "start_time": "2024-06-11T11:51:03.986Z"
   },
   {
    "duration": 25,
    "start_time": "2024-06-11T11:51:04.014Z"
   },
   {
    "duration": 519,
    "start_time": "2024-06-11T11:51:04.040Z"
   },
   {
    "duration": 9,
    "start_time": "2024-06-11T11:51:04.561Z"
   },
   {
    "duration": 130,
    "start_time": "2024-06-11T11:51:04.571Z"
   },
   {
    "duration": 10,
    "start_time": "2024-06-11T11:51:04.702Z"
   },
   {
    "duration": 6,
    "start_time": "2024-06-11T11:51:04.713Z"
   },
   {
    "duration": 76,
    "start_time": "2024-06-11T11:51:04.720Z"
   },
   {
    "duration": 6,
    "start_time": "2024-06-11T11:51:04.797Z"
   },
   {
    "duration": 223,
    "start_time": "2024-06-11T11:51:04.804Z"
   },
   {
    "duration": 6,
    "start_time": "2024-06-11T11:51:05.029Z"
   },
   {
    "duration": 191,
    "start_time": "2024-06-11T11:51:05.036Z"
   },
   {
    "duration": 20,
    "start_time": "2024-06-11T11:51:05.228Z"
   },
   {
    "duration": 6,
    "start_time": "2024-06-11T11:51:05.251Z"
   },
   {
    "duration": 17,
    "start_time": "2024-06-11T11:51:05.270Z"
   },
   {
    "duration": 14,
    "start_time": "2024-06-11T11:51:05.289Z"
   },
   {
    "duration": 214,
    "start_time": "2024-06-11T11:51:05.305Z"
   },
   {
    "duration": 237,
    "start_time": "2024-06-11T11:51:05.520Z"
   },
   {
    "duration": 18,
    "start_time": "2024-06-11T11:51:05.758Z"
   },
   {
    "duration": 194,
    "start_time": "2024-06-11T11:51:05.777Z"
   },
   {
    "duration": 168,
    "start_time": "2024-06-11T11:51:05.972Z"
   },
   {
    "duration": 847,
    "start_time": "2024-06-11T11:51:06.141Z"
   },
   {
    "duration": 152,
    "start_time": "2024-06-11T11:51:06.990Z"
   },
   {
    "duration": 3,
    "start_time": "2024-06-11T11:51:07.143Z"
   },
   {
    "duration": 14,
    "start_time": "2024-06-11T11:51:07.147Z"
   },
   {
    "duration": 19,
    "start_time": "2024-06-11T11:51:07.162Z"
   },
   {
    "duration": 8,
    "start_time": "2024-06-11T11:51:07.182Z"
   },
   {
    "duration": 5257,
    "start_time": "2024-06-20T08:31:26.463Z"
   },
   {
    "duration": 1778,
    "start_time": "2024-06-20T08:31:31.722Z"
   },
   {
    "duration": 110,
    "start_time": "2024-06-20T08:31:33.502Z"
   },
   {
    "duration": 12,
    "start_time": "2024-06-20T08:31:33.614Z"
   },
   {
    "duration": 30,
    "start_time": "2024-06-20T08:31:33.628Z"
   },
   {
    "duration": 164,
    "start_time": "2024-06-20T08:31:33.660Z"
   },
   {
    "duration": 13,
    "start_time": "2024-06-20T08:31:33.826Z"
   },
   {
    "duration": 20,
    "start_time": "2024-06-20T08:31:33.842Z"
   },
   {
    "duration": 92,
    "start_time": "2024-06-20T08:31:33.864Z"
   },
   {
    "duration": 12,
    "start_time": "2024-06-20T08:31:33.957Z"
   },
   {
    "duration": 36,
    "start_time": "2024-06-20T08:31:33.971Z"
   },
   {
    "duration": 13,
    "start_time": "2024-06-20T08:31:34.010Z"
   },
   {
    "duration": 48,
    "start_time": "2024-06-20T08:31:34.025Z"
   },
   {
    "duration": 18,
    "start_time": "2024-06-20T08:31:34.077Z"
   },
   {
    "duration": 27,
    "start_time": "2024-06-20T08:31:34.097Z"
   },
   {
    "duration": 49,
    "start_time": "2024-06-20T08:31:34.126Z"
   },
   {
    "duration": 532,
    "start_time": "2024-06-20T08:31:34.176Z"
   },
   {
    "duration": 12,
    "start_time": "2024-06-20T08:31:34.710Z"
   },
   {
    "duration": 204,
    "start_time": "2024-06-20T08:31:34.724Z"
   },
   {
    "duration": 14,
    "start_time": "2024-06-20T08:31:34.930Z"
   },
   {
    "duration": 46,
    "start_time": "2024-06-20T08:31:34.946Z"
   },
   {
    "duration": 79,
    "start_time": "2024-06-20T08:31:34.994Z"
   },
   {
    "duration": 41,
    "start_time": "2024-06-20T08:31:35.074Z"
   },
   {
    "duration": 291,
    "start_time": "2024-06-20T08:31:35.117Z"
   },
   {
    "duration": 9,
    "start_time": "2024-06-20T08:31:35.409Z"
   },
   {
    "duration": 261,
    "start_time": "2024-06-20T08:31:35.420Z"
   },
   {
    "duration": 31,
    "start_time": "2024-06-20T08:31:35.683Z"
   },
   {
    "duration": 70,
    "start_time": "2024-06-20T08:31:35.716Z"
   },
   {
    "duration": 42,
    "start_time": "2024-06-20T08:31:35.788Z"
   },
   {
    "duration": 38,
    "start_time": "2024-06-20T08:31:35.831Z"
   },
   {
    "duration": 298,
    "start_time": "2024-06-20T08:31:35.871Z"
   },
   {
    "duration": 337,
    "start_time": "2024-06-20T08:31:36.171Z"
   },
   {
    "duration": 17,
    "start_time": "2024-06-20T08:31:36.510Z"
   },
   {
    "duration": 250,
    "start_time": "2024-06-20T08:31:36.529Z"
   },
   {
    "duration": 220,
    "start_time": "2024-06-20T08:31:36.781Z"
   },
   {
    "duration": 923,
    "start_time": "2024-06-20T08:31:37.002Z"
   },
   {
    "duration": 166,
    "start_time": "2024-06-20T08:31:37.927Z"
   },
   {
    "duration": 4,
    "start_time": "2024-06-20T08:31:38.095Z"
   },
   {
    "duration": 7,
    "start_time": "2024-06-20T08:31:38.101Z"
   },
   {
    "duration": 33,
    "start_time": "2024-06-20T08:31:38.110Z"
   },
   {
    "duration": 33,
    "start_time": "2024-06-20T08:31:38.147Z"
   },
   {
    "duration": 2838,
    "start_time": "2024-06-20T08:32:23.111Z"
   },
   {
    "duration": 4,
    "start_time": "2024-06-20T08:32:25.952Z"
   },
   {
    "duration": 53,
    "start_time": "2024-06-20T08:32:25.957Z"
   },
   {
    "duration": 13,
    "start_time": "2024-06-20T08:32:26.012Z"
   },
   {
    "duration": 46,
    "start_time": "2024-06-20T08:32:26.027Z"
   },
   {
    "duration": 53,
    "start_time": "2024-06-20T08:32:26.075Z"
   },
   {
    "duration": 12,
    "start_time": "2024-06-20T08:32:26.129Z"
   },
   {
    "duration": 38,
    "start_time": "2024-06-20T08:32:26.143Z"
   },
   {
    "duration": 28,
    "start_time": "2024-06-20T08:32:26.183Z"
   },
   {
    "duration": 11,
    "start_time": "2024-06-20T08:32:26.213Z"
   },
   {
    "duration": 64,
    "start_time": "2024-06-20T08:32:26.225Z"
   },
   {
    "duration": 11,
    "start_time": "2024-06-20T08:32:26.291Z"
   },
   {
    "duration": 11,
    "start_time": "2024-06-20T08:32:26.304Z"
   },
   {
    "duration": 10,
    "start_time": "2024-06-20T08:32:26.316Z"
   },
   {
    "duration": 25,
    "start_time": "2024-06-20T08:32:26.328Z"
   },
   {
    "duration": 14,
    "start_time": "2024-06-20T08:32:26.354Z"
   },
   {
    "duration": 100,
    "start_time": "2024-06-20T08:32:26.369Z"
   },
   {
    "duration": 24,
    "start_time": "2024-06-20T08:32:26.470Z"
   },
   {
    "duration": 119,
    "start_time": "2024-06-20T08:32:26.496Z"
   },
   {
    "duration": 13,
    "start_time": "2024-06-20T08:32:26.617Z"
   },
   {
    "duration": 15,
    "start_time": "2024-06-20T08:32:26.631Z"
   },
   {
    "duration": 69,
    "start_time": "2024-06-20T08:32:26.647Z"
   },
   {
    "duration": 8,
    "start_time": "2024-06-20T08:32:26.718Z"
   },
   {
    "duration": 268,
    "start_time": "2024-06-20T08:32:26.727Z"
   },
   {
    "duration": 9,
    "start_time": "2024-06-20T08:32:26.996Z"
   },
   {
    "duration": 338,
    "start_time": "2024-06-20T08:32:27.006Z"
   },
   {
    "duration": 24,
    "start_time": "2024-06-20T08:32:27.346Z"
   },
   {
    "duration": 21,
    "start_time": "2024-06-20T08:32:27.374Z"
   },
   {
    "duration": 42,
    "start_time": "2024-06-20T08:32:27.397Z"
   },
   {
    "duration": 26,
    "start_time": "2024-06-20T08:32:27.440Z"
   },
   {
    "duration": 271,
    "start_time": "2024-06-20T08:32:27.467Z"
   },
   {
    "duration": 243,
    "start_time": "2024-06-20T08:32:27.740Z"
   },
   {
    "duration": 22,
    "start_time": "2024-06-20T08:32:27.985Z"
   },
   {
    "duration": 274,
    "start_time": "2024-06-20T08:32:28.010Z"
   },
   {
    "duration": 226,
    "start_time": "2024-06-20T08:32:28.286Z"
   },
   {
    "duration": 849,
    "start_time": "2024-06-20T08:32:28.514Z"
   },
   {
    "duration": 182,
    "start_time": "2024-06-20T08:32:29.365Z"
   },
   {
    "duration": 4,
    "start_time": "2024-06-20T08:32:29.548Z"
   },
   {
    "duration": 23,
    "start_time": "2024-06-20T08:32:29.554Z"
   },
   {
    "duration": 12,
    "start_time": "2024-06-20T08:32:29.579Z"
   },
   {
    "duration": 10,
    "start_time": "2024-06-20T08:32:29.593Z"
   }
  ],
  "kernelspec": {
   "display_name": "Python 3 (ipykernel)",
   "language": "python",
   "name": "python3"
  },
  "language_info": {
   "codemirror_mode": {
    "name": "ipython",
    "version": 3
   },
   "file_extension": ".py",
   "mimetype": "text/x-python",
   "name": "python",
   "nbconvert_exporter": "python",
   "pygments_lexer": "ipython3",
   "version": "3.9.5"
  },
  "toc": {
   "base_numbering": 1,
   "nav_menu": {},
   "number_sections": true,
   "sideBar": true,
   "skip_h1_title": true,
   "title_cell": "Table of Contents",
   "title_sidebar": "Contents",
   "toc_cell": false,
   "toc_position": {},
   "toc_section_display": true,
   "toc_window_display": false
  }
 },
 "nbformat": 4,
 "nbformat_minor": 5
}
